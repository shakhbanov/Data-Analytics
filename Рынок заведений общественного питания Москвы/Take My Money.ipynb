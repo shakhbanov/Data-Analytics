{
 "cells": [
  {
   "cell_type": "markdown",
   "metadata": {},
   "source": [
    "# Рынок заведений общественного питания Москвы"
   ]
  },
  {
   "cell_type": "markdown",
   "metadata": {},
   "source": [
    "<div style=\"border:solid black 2px; padding: 10px\"> \n",
    "    \n",
    "Инвесторы из фонда **«Shut Up and Take My Money»** решили попробовать себя в новой области и открыть заведение общественного питания в Москве. Заказчики ещё не знают, что это будет за место: кафе, ресторан, пиццерия, паб или бар, — и какими будут расположение, меню и цены.\n",
    "\n",
    "**Цель**:  \n",
    "Исследовать рынок Москвы, найти интересные особенности и презентовать полученные результаты, которые в будущем помогут в выборе подходящего инвесторам места.\n",
    "\n",
    "**Задачи:**\n",
    "\n",
    "1. Изучить сткрутуру данных;  \n",
    "2. Изучить наличие пропусков, дубкатов и других аспектов, которые могут повлиять на ход работы;  \n",
    "3. Провести анализ общих данных, выявить закономерности;  \n",
    "4. Изучить данные о кофейнях, выявить лучшие параметры для её открытия;  \n",
    "5. Сделать отчёт в виде презентации.  \n",
    "\n",
    "**Описание данных:**\n",
    "\n",
    "Доступен датасет с заведениями общественного питания Москвы, составленный на основе данных сервисов Яндекс Карты и Яндекс Бизнес на лето 2022 года.\n",
    "\n",
    "Файл `moscow_places.csv`:\n",
    "\n",
    "`name` — название заведения;  \n",
    "`address` — адрес заведения;  \n",
    "`category` — категория заведения, например «кафе», «пиццерия» или «кофейня»;  \n",
    "`hours` — информация о днях и часах работы;  \n",
    "`lat` — широта географической точки, в которой находится заведение;  \n",
    "`lng` — долгота географической точки, в которой находится заведение;  \n",
    "`rating` — рейтинг заведения по оценкам пользователей в Яндекс Картах (высшая оценка — 5.0);  \n",
    "`price` — категория цен в заведении, например «средние», «ниже среднего», «выше среднего» и так далее;  \n",
    "`avg_bill` — строка, которая хранит среднюю стоимость заказа в виде диапазона, например:\n",
    " - «Средний счёт: 1000–1500 ₽»;  \n",
    " - «Цена чашки капучино: 130–220 ₽»;  \n",
    " - «Цена бокала пива: 400–600 ₽». и так далее;  \n",
    "\n",
    "`middle_avg_bill` — число с оценкой среднего чека, которое указано только для значений из столбца `avg_bill`, начинающихся с подстроки **«Средний счёт»**:  \n",
    " - Если в строке указан ценовой диапазон из двух значений, в столбец войдёт медиана этих двух значений.  \n",
    " - Если в строке указано одно число — цена без диапазона, то в столбец войдёт это число.  \n",
    " - Если значения нет или оно не начинается с подстроки «Средний счёт», то в столбец ничего не войдёт.  \n",
    " \n",
    "`middle_coffee_cup` — число с оценкой одной чашки капучино, которое указано только для значений из столбца a`vg_bill`, начинающихся с подстроки **«Цена одной чашки капучино»**:\n",
    " - Если в строке указан ценовой диапазон из двух значений, в столбец войдёт медиана этих двух значений.  \n",
    " - Если в строке указано одно число — цена без диапазона, то в столбец войдёт это число.  \n",
    " - Если значения нет или оно не начинается с подстроки «Цена одной чашки капучино», то в столбец ничего не войдёт. \n",
    " \n",
    "`chain` — число, выраженное 0 или 1, которое показывает, является ли заведение сетевым (для маленьких сетей могут встречаться ошибки);  \n",
    "`district` — административный район, в котором находится заведение, например Центральный административный округ;  \n",
    "`seats` — количество посадочных мест.  "
   ]
  },
  {
   "cell_type": "markdown",
   "metadata": {},
   "source": [
    "## Загрузим данные и изучим общую информацию\n"
   ]
  },
  {
   "cell_type": "code",
   "execution_count": 1,
   "metadata": {},
   "outputs": [],
   "source": [
    "import re\n",
    "import json\n",
    "import pandas as pd\n",
    "import numpy as np\n",
    "import matplotlib.pyplot as plt\n",
    "import seaborn as sns\n",
    "import plotly.express as px\n",
    "import warnings; warnings.filterwarnings(action='ignore')\n",
    "\n",
    "\n",
    "from sklearn.impute import KNNImputer\n",
    "from plotly import graph_objects as go\n",
    "from folium import Map, Choropleth\n",
    "from folium import Map, Marker # импортируем карту и маркер\n",
    "from folium.plugins import MarkerCluster # импортируем кластер\n",
    "from folium import Map, Choropleth # импортируем карту и хороплет"
   ]
  },
  {
   "cell_type": "code",
   "execution_count": 2,
   "metadata": {},
   "outputs": [],
   "source": [
    "# снимаем ограничение на количество столбцов\n",
    "pd.set_option('display.max_columns', None)\n",
    "\n",
    "# снимаем ограничение на ширину столбцов\n",
    "pd.set_option('display.max_colwidth', None)\n",
    "\n",
    "# игнорируем предупреждения\n",
    "pd.set_option('chained_assignment', None)\n",
    "\n",
    "# выставляем ограничение на показ знаков после запятой\n",
    "pd.options.display.float_format = '{:,.2f}'.format\n",
    "\n",
    "# устанавливаем стиль графиков\n",
    "sns.set_style('whitegrid')\n",
    "sns.set(rc={\"figure.dpi\":200, 'savefig.dpi':300})\n",
    "sns.set_context('notebook')  \n",
    "sns.set_style(\"ticks\")"
   ]
  },
  {
   "cell_type": "code",
   "execution_count": 3,
   "metadata": {},
   "outputs": [],
   "source": [
    "try:\n",
    "    data = pd.read_csv('/datasets/moscow_places.csv')\n",
    "except:\n",
    "    data = pd.read_csv('moscow_places.csv')"
   ]
  },
  {
   "cell_type": "code",
   "execution_count": 4,
   "metadata": {},
   "outputs": [
    {
     "data": {
      "text/html": [
       "<div>\n",
       "<style scoped>\n",
       "    .dataframe tbody tr th:only-of-type {\n",
       "        vertical-align: middle;\n",
       "    }\n",
       "\n",
       "    .dataframe tbody tr th {\n",
       "        vertical-align: top;\n",
       "    }\n",
       "\n",
       "    .dataframe thead th {\n",
       "        text-align: right;\n",
       "    }\n",
       "</style>\n",
       "<table border=\"1\" class=\"dataframe\">\n",
       "  <thead>\n",
       "    <tr style=\"text-align: right;\">\n",
       "      <th></th>\n",
       "      <th>name</th>\n",
       "      <th>category</th>\n",
       "      <th>address</th>\n",
       "      <th>district</th>\n",
       "      <th>hours</th>\n",
       "      <th>lat</th>\n",
       "      <th>lng</th>\n",
       "      <th>rating</th>\n",
       "      <th>price</th>\n",
       "      <th>avg_bill</th>\n",
       "      <th>middle_avg_bill</th>\n",
       "      <th>middle_coffee_cup</th>\n",
       "      <th>chain</th>\n",
       "      <th>seats</th>\n",
       "    </tr>\n",
       "  </thead>\n",
       "  <tbody>\n",
       "    <tr>\n",
       "      <th>0</th>\n",
       "      <td>WoWфли</td>\n",
       "      <td>кафе</td>\n",
       "      <td>Москва, улица Дыбенко, 7/1</td>\n",
       "      <td>Северный административный округ</td>\n",
       "      <td>ежедневно, 10:00–22:00</td>\n",
       "      <td>55.88</td>\n",
       "      <td>37.48</td>\n",
       "      <td>5.00</td>\n",
       "      <td>NaN</td>\n",
       "      <td>NaN</td>\n",
       "      <td>NaN</td>\n",
       "      <td>NaN</td>\n",
       "      <td>0</td>\n",
       "      <td>NaN</td>\n",
       "    </tr>\n",
       "    <tr>\n",
       "      <th>1</th>\n",
       "      <td>Четыре комнаты</td>\n",
       "      <td>ресторан</td>\n",
       "      <td>Москва, улица Дыбенко, 36, корп. 1</td>\n",
       "      <td>Северный административный округ</td>\n",
       "      <td>ежедневно, 10:00–22:00</td>\n",
       "      <td>55.88</td>\n",
       "      <td>37.48</td>\n",
       "      <td>4.50</td>\n",
       "      <td>выше среднего</td>\n",
       "      <td>Средний счёт:1500–1600 ₽</td>\n",
       "      <td>1,550.00</td>\n",
       "      <td>NaN</td>\n",
       "      <td>0</td>\n",
       "      <td>4.00</td>\n",
       "    </tr>\n",
       "    <tr>\n",
       "      <th>2</th>\n",
       "      <td>Хазри</td>\n",
       "      <td>кафе</td>\n",
       "      <td>Москва, Клязьминская улица, 15</td>\n",
       "      <td>Северный административный округ</td>\n",
       "      <td>пн-чт 11:00–02:00; пт,сб 11:00–05:00; вс 11:00–02:00</td>\n",
       "      <td>55.89</td>\n",
       "      <td>37.53</td>\n",
       "      <td>4.60</td>\n",
       "      <td>средние</td>\n",
       "      <td>Средний счёт:от 1000 ₽</td>\n",
       "      <td>1,000.00</td>\n",
       "      <td>NaN</td>\n",
       "      <td>0</td>\n",
       "      <td>45.00</td>\n",
       "    </tr>\n",
       "    <tr>\n",
       "      <th>3</th>\n",
       "      <td>Dormouse Coffee Shop</td>\n",
       "      <td>кофейня</td>\n",
       "      <td>Москва, улица Маршала Федоренко, 12</td>\n",
       "      <td>Северный административный округ</td>\n",
       "      <td>ежедневно, 09:00–22:00</td>\n",
       "      <td>55.88</td>\n",
       "      <td>37.49</td>\n",
       "      <td>5.00</td>\n",
       "      <td>NaN</td>\n",
       "      <td>Цена чашки капучино:155–185 ₽</td>\n",
       "      <td>NaN</td>\n",
       "      <td>170.00</td>\n",
       "      <td>0</td>\n",
       "      <td>NaN</td>\n",
       "    </tr>\n",
       "    <tr>\n",
       "      <th>4</th>\n",
       "      <td>Иль Марко</td>\n",
       "      <td>пиццерия</td>\n",
       "      <td>Москва, Правобережная улица, 1Б</td>\n",
       "      <td>Северный административный округ</td>\n",
       "      <td>ежедневно, 10:00–22:00</td>\n",
       "      <td>55.88</td>\n",
       "      <td>37.45</td>\n",
       "      <td>5.00</td>\n",
       "      <td>средние</td>\n",
       "      <td>Средний счёт:400–600 ₽</td>\n",
       "      <td>500.00</td>\n",
       "      <td>NaN</td>\n",
       "      <td>1</td>\n",
       "      <td>148.00</td>\n",
       "    </tr>\n",
       "  </tbody>\n",
       "</table>\n",
       "</div>"
      ],
      "text/plain": [
       "                   name  category                              address  \\\n",
       "0                WoWфли      кафе           Москва, улица Дыбенко, 7/1   \n",
       "1        Четыре комнаты  ресторан   Москва, улица Дыбенко, 36, корп. 1   \n",
       "2                 Хазри      кафе       Москва, Клязьминская улица, 15   \n",
       "3  Dormouse Coffee Shop   кофейня  Москва, улица Маршала Федоренко, 12   \n",
       "4             Иль Марко  пиццерия      Москва, Правобережная улица, 1Б   \n",
       "\n",
       "                          district  \\\n",
       "0  Северный административный округ   \n",
       "1  Северный административный округ   \n",
       "2  Северный административный округ   \n",
       "3  Северный административный округ   \n",
       "4  Северный административный округ   \n",
       "\n",
       "                                                  hours   lat   lng  rating  \\\n",
       "0                                ежедневно, 10:00–22:00 55.88 37.48    5.00   \n",
       "1                                ежедневно, 10:00–22:00 55.88 37.48    4.50   \n",
       "2  пн-чт 11:00–02:00; пт,сб 11:00–05:00; вс 11:00–02:00 55.89 37.53    4.60   \n",
       "3                                ежедневно, 09:00–22:00 55.88 37.49    5.00   \n",
       "4                                ежедневно, 10:00–22:00 55.88 37.45    5.00   \n",
       "\n",
       "           price                       avg_bill  middle_avg_bill  \\\n",
       "0            NaN                            NaN              NaN   \n",
       "1  выше среднего       Средний счёт:1500–1600 ₽         1,550.00   \n",
       "2        средние         Средний счёт:от 1000 ₽         1,000.00   \n",
       "3            NaN  Цена чашки капучино:155–185 ₽              NaN   \n",
       "4        средние         Средний счёт:400–600 ₽           500.00   \n",
       "\n",
       "   middle_coffee_cup  chain  seats  \n",
       "0                NaN      0    NaN  \n",
       "1                NaN      0   4.00  \n",
       "2                NaN      0  45.00  \n",
       "3             170.00      0    NaN  \n",
       "4                NaN      1 148.00  "
      ]
     },
     "metadata": {},
     "output_type": "display_data"
    },
    {
     "data": {
      "text/html": [
       "<div>\n",
       "<style scoped>\n",
       "    .dataframe tbody tr th:only-of-type {\n",
       "        vertical-align: middle;\n",
       "    }\n",
       "\n",
       "    .dataframe tbody tr th {\n",
       "        vertical-align: top;\n",
       "    }\n",
       "\n",
       "    .dataframe thead th {\n",
       "        text-align: right;\n",
       "    }\n",
       "</style>\n",
       "<table border=\"1\" class=\"dataframe\">\n",
       "  <thead>\n",
       "    <tr style=\"text-align: right;\">\n",
       "      <th></th>\n",
       "      <th>name</th>\n",
       "      <th>category</th>\n",
       "      <th>address</th>\n",
       "      <th>district</th>\n",
       "      <th>hours</th>\n",
       "      <th>lat</th>\n",
       "      <th>lng</th>\n",
       "      <th>rating</th>\n",
       "      <th>price</th>\n",
       "      <th>avg_bill</th>\n",
       "      <th>middle_avg_bill</th>\n",
       "      <th>middle_coffee_cup</th>\n",
       "      <th>chain</th>\n",
       "      <th>seats</th>\n",
       "    </tr>\n",
       "  </thead>\n",
       "  <tbody>\n",
       "    <tr>\n",
       "      <th>6227</th>\n",
       "      <td>Хлеб с маслом</td>\n",
       "      <td>булочная</td>\n",
       "      <td>Москва, улица Вавилова, 3</td>\n",
       "      <td>Южный административный округ</td>\n",
       "      <td>ежедневно, 09:00–22:00</td>\n",
       "      <td>55.71</td>\n",
       "      <td>37.59</td>\n",
       "      <td>4.80</td>\n",
       "      <td>NaN</td>\n",
       "      <td>NaN</td>\n",
       "      <td>NaN</td>\n",
       "      <td>NaN</td>\n",
       "      <td>1</td>\n",
       "      <td>320.00</td>\n",
       "    </tr>\n",
       "    <tr>\n",
       "      <th>4621</th>\n",
       "      <td>ФО Point</td>\n",
       "      <td>ресторан</td>\n",
       "      <td>Москва, улица Сретенка, 1с1</td>\n",
       "      <td>Центральный административный округ</td>\n",
       "      <td>пн-пт 11:00–23:00; сб,вс 12:00–23:00</td>\n",
       "      <td>55.77</td>\n",
       "      <td>37.63</td>\n",
       "      <td>4.40</td>\n",
       "      <td>средние</td>\n",
       "      <td>Средний счёт:500–1000 ₽</td>\n",
       "      <td>750.00</td>\n",
       "      <td>NaN</td>\n",
       "      <td>0</td>\n",
       "      <td>NaN</td>\n",
       "    </tr>\n",
       "    <tr>\n",
       "      <th>1820</th>\n",
       "      <td>Ещё одна собачка</td>\n",
       "      <td>кофейня</td>\n",
       "      <td>Москва, улица Дубки, 2</td>\n",
       "      <td>Северный административный округ</td>\n",
       "      <td>ежедневно, 09:00–21:00</td>\n",
       "      <td>55.82</td>\n",
       "      <td>37.57</td>\n",
       "      <td>4.70</td>\n",
       "      <td>NaN</td>\n",
       "      <td>Цена чашки капучино:180–250 ₽</td>\n",
       "      <td>NaN</td>\n",
       "      <td>215.00</td>\n",
       "      <td>0</td>\n",
       "      <td>NaN</td>\n",
       "    </tr>\n",
       "    <tr>\n",
       "      <th>6831</th>\n",
       "      <td>Столовая</td>\n",
       "      <td>кафе</td>\n",
       "      <td>Москва, Профсоюзная улица, 83А</td>\n",
       "      <td>Юго-Западный административный округ</td>\n",
       "      <td>ежедневно, 10:00–18:00</td>\n",
       "      <td>55.65</td>\n",
       "      <td>37.53</td>\n",
       "      <td>4.40</td>\n",
       "      <td>NaN</td>\n",
       "      <td>NaN</td>\n",
       "      <td>NaN</td>\n",
       "      <td>NaN</td>\n",
       "      <td>0</td>\n",
       "      <td>50.00</td>\n",
       "    </tr>\n",
       "    <tr>\n",
       "      <th>922</th>\n",
       "      <td>Хей Мам</td>\n",
       "      <td>пиццерия</td>\n",
       "      <td>Москва, улица Коминтерна, 15</td>\n",
       "      <td>Северо-Восточный административный округ</td>\n",
       "      <td>ежедневно, 10:00–23:00</td>\n",
       "      <td>55.87</td>\n",
       "      <td>37.69</td>\n",
       "      <td>4.60</td>\n",
       "      <td>NaN</td>\n",
       "      <td>NaN</td>\n",
       "      <td>NaN</td>\n",
       "      <td>NaN</td>\n",
       "      <td>0</td>\n",
       "      <td>NaN</td>\n",
       "    </tr>\n",
       "  </tbody>\n",
       "</table>\n",
       "</div>"
      ],
      "text/plain": [
       "                  name  category                         address  \\\n",
       "6227     Хлеб с маслом  булочная       Москва, улица Вавилова, 3   \n",
       "4621          ФО Point  ресторан     Москва, улица Сретенка, 1с1   \n",
       "1820  Ещё одна собачка   кофейня          Москва, улица Дубки, 2   \n",
       "6831          Столовая      кафе  Москва, Профсоюзная улица, 83А   \n",
       "922            Хей Мам  пиццерия    Москва, улица Коминтерна, 15   \n",
       "\n",
       "                                     district  \\\n",
       "6227             Южный административный округ   \n",
       "4621       Центральный административный округ   \n",
       "1820          Северный административный округ   \n",
       "6831      Юго-Западный административный округ   \n",
       "922   Северо-Восточный административный округ   \n",
       "\n",
       "                                     hours   lat   lng  rating    price  \\\n",
       "6227                ежедневно, 09:00–22:00 55.71 37.59    4.80      NaN   \n",
       "4621  пн-пт 11:00–23:00; сб,вс 12:00–23:00 55.77 37.63    4.40  средние   \n",
       "1820                ежедневно, 09:00–21:00 55.82 37.57    4.70      NaN   \n",
       "6831                ежедневно, 10:00–18:00 55.65 37.53    4.40      NaN   \n",
       "922                 ежедневно, 10:00–23:00 55.87 37.69    4.60      NaN   \n",
       "\n",
       "                           avg_bill  middle_avg_bill  middle_coffee_cup  \\\n",
       "6227                            NaN              NaN                NaN   \n",
       "4621        Средний счёт:500–1000 ₽           750.00                NaN   \n",
       "1820  Цена чашки капучино:180–250 ₽              NaN             215.00   \n",
       "6831                            NaN              NaN                NaN   \n",
       "922                             NaN              NaN                NaN   \n",
       "\n",
       "      chain  seats  \n",
       "6227      1 320.00  \n",
       "4621      0    NaN  \n",
       "1820      0    NaN  \n",
       "6831      0  50.00  \n",
       "922       0    NaN  "
      ]
     },
     "metadata": {},
     "output_type": "display_data"
    },
    {
     "data": {
      "text/html": [
       "<div>\n",
       "<style scoped>\n",
       "    .dataframe tbody tr th:only-of-type {\n",
       "        vertical-align: middle;\n",
       "    }\n",
       "\n",
       "    .dataframe tbody tr th {\n",
       "        vertical-align: top;\n",
       "    }\n",
       "\n",
       "    .dataframe thead th {\n",
       "        text-align: right;\n",
       "    }\n",
       "</style>\n",
       "<table border=\"1\" class=\"dataframe\">\n",
       "  <thead>\n",
       "    <tr style=\"text-align: right;\">\n",
       "      <th></th>\n",
       "      <th>name</th>\n",
       "      <th>category</th>\n",
       "      <th>address</th>\n",
       "      <th>district</th>\n",
       "      <th>hours</th>\n",
       "      <th>lat</th>\n",
       "      <th>lng</th>\n",
       "      <th>rating</th>\n",
       "      <th>price</th>\n",
       "      <th>avg_bill</th>\n",
       "      <th>middle_avg_bill</th>\n",
       "      <th>middle_coffee_cup</th>\n",
       "      <th>chain</th>\n",
       "      <th>seats</th>\n",
       "    </tr>\n",
       "  </thead>\n",
       "  <tbody>\n",
       "    <tr>\n",
       "      <th>8401</th>\n",
       "      <td>Суши Мания</td>\n",
       "      <td>кафе</td>\n",
       "      <td>Москва, Профсоюзная улица, 56</td>\n",
       "      <td>Юго-Западный административный округ</td>\n",
       "      <td>ежедневно, 09:00–02:00</td>\n",
       "      <td>55.67</td>\n",
       "      <td>37.55</td>\n",
       "      <td>4.40</td>\n",
       "      <td>NaN</td>\n",
       "      <td>NaN</td>\n",
       "      <td>NaN</td>\n",
       "      <td>NaN</td>\n",
       "      <td>0</td>\n",
       "      <td>86.00</td>\n",
       "    </tr>\n",
       "    <tr>\n",
       "      <th>8402</th>\n",
       "      <td>Миславнес</td>\n",
       "      <td>кафе</td>\n",
       "      <td>Москва, Пролетарский проспект, 19, корп. 1</td>\n",
       "      <td>Южный административный округ</td>\n",
       "      <td>ежедневно, 08:00–22:00</td>\n",
       "      <td>55.64</td>\n",
       "      <td>37.66</td>\n",
       "      <td>4.80</td>\n",
       "      <td>NaN</td>\n",
       "      <td>NaN</td>\n",
       "      <td>NaN</td>\n",
       "      <td>NaN</td>\n",
       "      <td>0</td>\n",
       "      <td>150.00</td>\n",
       "    </tr>\n",
       "    <tr>\n",
       "      <th>8403</th>\n",
       "      <td>Самовар</td>\n",
       "      <td>кафе</td>\n",
       "      <td>Москва, Люблинская улица, 112А, стр. 1</td>\n",
       "      <td>Юго-Восточный административный округ</td>\n",
       "      <td>ежедневно, круглосуточно</td>\n",
       "      <td>55.65</td>\n",
       "      <td>37.74</td>\n",
       "      <td>3.90</td>\n",
       "      <td>NaN</td>\n",
       "      <td>Средний счёт:от 150 ₽</td>\n",
       "      <td>150.00</td>\n",
       "      <td>NaN</td>\n",
       "      <td>0</td>\n",
       "      <td>150.00</td>\n",
       "    </tr>\n",
       "    <tr>\n",
       "      <th>8404</th>\n",
       "      <td>Чайхана Sabr</td>\n",
       "      <td>кафе</td>\n",
       "      <td>Москва, Люблинская улица, 112А, стр. 1</td>\n",
       "      <td>Юго-Восточный административный округ</td>\n",
       "      <td>ежедневно, круглосуточно</td>\n",
       "      <td>55.65</td>\n",
       "      <td>37.74</td>\n",
       "      <td>4.20</td>\n",
       "      <td>NaN</td>\n",
       "      <td>NaN</td>\n",
       "      <td>NaN</td>\n",
       "      <td>NaN</td>\n",
       "      <td>1</td>\n",
       "      <td>150.00</td>\n",
       "    </tr>\n",
       "    <tr>\n",
       "      <th>8405</th>\n",
       "      <td>Kebab Time</td>\n",
       "      <td>кафе</td>\n",
       "      <td>Москва, Россошанский проезд, 6</td>\n",
       "      <td>Южный административный округ</td>\n",
       "      <td>ежедневно, круглосуточно</td>\n",
       "      <td>55.60</td>\n",
       "      <td>37.60</td>\n",
       "      <td>3.90</td>\n",
       "      <td>NaN</td>\n",
       "      <td>NaN</td>\n",
       "      <td>NaN</td>\n",
       "      <td>NaN</td>\n",
       "      <td>0</td>\n",
       "      <td>12.00</td>\n",
       "    </tr>\n",
       "  </tbody>\n",
       "</table>\n",
       "</div>"
      ],
      "text/plain": [
       "              name category                                     address  \\\n",
       "8401    Суши Мания     кафе               Москва, Профсоюзная улица, 56   \n",
       "8402     Миславнес     кафе  Москва, Пролетарский проспект, 19, корп. 1   \n",
       "8403       Самовар     кафе      Москва, Люблинская улица, 112А, стр. 1   \n",
       "8404  Чайхана Sabr     кафе      Москва, Люблинская улица, 112А, стр. 1   \n",
       "8405    Kebab Time     кафе              Москва, Россошанский проезд, 6   \n",
       "\n",
       "                                  district                     hours   lat  \\\n",
       "8401   Юго-Западный административный округ    ежедневно, 09:00–02:00 55.67   \n",
       "8402          Южный административный округ    ежедневно, 08:00–22:00 55.64   \n",
       "8403  Юго-Восточный административный округ  ежедневно, круглосуточно 55.65   \n",
       "8404  Юго-Восточный административный округ  ежедневно, круглосуточно 55.65   \n",
       "8405          Южный административный округ  ежедневно, круглосуточно 55.60   \n",
       "\n",
       "       lng  rating price               avg_bill  middle_avg_bill  \\\n",
       "8401 37.55    4.40   NaN                    NaN              NaN   \n",
       "8402 37.66    4.80   NaN                    NaN              NaN   \n",
       "8403 37.74    3.90   NaN  Средний счёт:от 150 ₽           150.00   \n",
       "8404 37.74    4.20   NaN                    NaN              NaN   \n",
       "8405 37.60    3.90   NaN                    NaN              NaN   \n",
       "\n",
       "      middle_coffee_cup  chain  seats  \n",
       "8401                NaN      0  86.00  \n",
       "8402                NaN      0 150.00  \n",
       "8403                NaN      0 150.00  \n",
       "8404                NaN      1 150.00  \n",
       "8405                NaN      0  12.00  "
      ]
     },
     "metadata": {},
     "output_type": "display_data"
    }
   ],
   "source": [
    "display(data.head(), data.sample(5), data.tail())"
   ]
  },
  {
   "cell_type": "code",
   "execution_count": 5,
   "metadata": {},
   "outputs": [
    {
     "name": "stdout",
     "output_type": "stream",
     "text": [
      "<class 'pandas.core.frame.DataFrame'>\n",
      "RangeIndex: 8406 entries, 0 to 8405\n",
      "Data columns (total 14 columns):\n",
      " #   Column             Non-Null Count  Dtype  \n",
      "---  ------             --------------  -----  \n",
      " 0   name               8406 non-null   object \n",
      " 1   category           8406 non-null   object \n",
      " 2   address            8406 non-null   object \n",
      " 3   district           8406 non-null   object \n",
      " 4   hours              7870 non-null   object \n",
      " 5   lat                8406 non-null   float64\n",
      " 6   lng                8406 non-null   float64\n",
      " 7   rating             8406 non-null   float64\n",
      " 8   price              3315 non-null   object \n",
      " 9   avg_bill           3816 non-null   object \n",
      " 10  middle_avg_bill    3149 non-null   float64\n",
      " 11  middle_coffee_cup  535 non-null    float64\n",
      " 12  chain              8406 non-null   int64  \n",
      " 13  seats              4795 non-null   float64\n",
      "dtypes: float64(6), int64(1), object(7)\n",
      "memory usage: 919.5+ KB\n"
     ]
    }
   ],
   "source": [
    "data.info()"
   ]
  },
  {
   "cell_type": "code",
   "execution_count": 6,
   "metadata": {},
   "outputs": [
    {
     "data": {
      "text/plain": [
       "0"
      ]
     },
     "execution_count": 6,
     "metadata": {},
     "output_type": "execute_result"
    }
   ],
   "source": [
    "data.duplicated().sum()"
   ]
  },
  {
   "cell_type": "code",
   "execution_count": 7,
   "metadata": {},
   "outputs": [
    {
     "data": {
      "text/plain": [
       "name                    0\n",
       "category                0\n",
       "address                 0\n",
       "district                0\n",
       "hours                 536\n",
       "lat                     0\n",
       "lng                     0\n",
       "rating                  0\n",
       "price                5091\n",
       "avg_bill             4590\n",
       "middle_avg_bill      5257\n",
       "middle_coffee_cup    7871\n",
       "chain                   0\n",
       "seats                3611\n",
       "dtype: int64"
      ]
     },
     "execution_count": 7,
     "metadata": {},
     "output_type": "execute_result"
    }
   ],
   "source": [
    "data.isna().sum()"
   ]
  },
  {
   "cell_type": "code",
   "execution_count": 8,
   "metadata": {},
   "outputs": [
    {
     "data": {
      "text/html": [
       "<style type=\"text/css\">\n",
       "#T_83bff_row0_col0, #T_83bff_row1_col0, #T_83bff_row2_col0, #T_83bff_row3_col0, #T_83bff_row5_col0, #T_83bff_row6_col0, #T_83bff_row7_col0, #T_83bff_row12_col0 {\n",
       "  background-color: #3b4cc0;\n",
       "  color: #f1f1f1;\n",
       "}\n",
       "#T_83bff_row4_col0 {\n",
       "  background-color: #4e68d8;\n",
       "  color: #f1f1f1;\n",
       "}\n",
       "#T_83bff_row8_col0 {\n",
       "  background-color: #f6bda2;\n",
       "  color: #000000;\n",
       "}\n",
       "#T_83bff_row9_col0 {\n",
       "  background-color: #efcebd;\n",
       "  color: #000000;\n",
       "}\n",
       "#T_83bff_row10_col0 {\n",
       "  background-color: #f7b79b;\n",
       "  color: #000000;\n",
       "}\n",
       "#T_83bff_row11_col0 {\n",
       "  background-color: #b40426;\n",
       "  color: #f1f1f1;\n",
       "}\n",
       "#T_83bff_row13_col0 {\n",
       "  background-color: #d2dbe8;\n",
       "  color: #000000;\n",
       "}\n",
       "</style>\n",
       "<table id=\"T_83bff\">\n",
       "  <thead>\n",
       "    <tr>\n",
       "      <th class=\"blank level0\" >&nbsp;</th>\n",
       "      <th id=\"T_83bff_level0_col0\" class=\"col_heading level0 col0\" >0</th>\n",
       "    </tr>\n",
       "  </thead>\n",
       "  <tbody>\n",
       "    <tr>\n",
       "      <th id=\"T_83bff_level0_row0\" class=\"row_heading level0 row0\" >name</th>\n",
       "      <td id=\"T_83bff_row0_col0\" class=\"data row0 col0\" >0.000000</td>\n",
       "    </tr>\n",
       "    <tr>\n",
       "      <th id=\"T_83bff_level0_row1\" class=\"row_heading level0 row1\" >category</th>\n",
       "      <td id=\"T_83bff_row1_col0\" class=\"data row1 col0\" >0.000000</td>\n",
       "    </tr>\n",
       "    <tr>\n",
       "      <th id=\"T_83bff_level0_row2\" class=\"row_heading level0 row2\" >address</th>\n",
       "      <td id=\"T_83bff_row2_col0\" class=\"data row2 col0\" >0.000000</td>\n",
       "    </tr>\n",
       "    <tr>\n",
       "      <th id=\"T_83bff_level0_row3\" class=\"row_heading level0 row3\" >district</th>\n",
       "      <td id=\"T_83bff_row3_col0\" class=\"data row3 col0\" >0.000000</td>\n",
       "    </tr>\n",
       "    <tr>\n",
       "      <th id=\"T_83bff_level0_row4\" class=\"row_heading level0 row4\" >hours</th>\n",
       "      <td id=\"T_83bff_row4_col0\" class=\"data row4 col0\" >6.000000</td>\n",
       "    </tr>\n",
       "    <tr>\n",
       "      <th id=\"T_83bff_level0_row5\" class=\"row_heading level0 row5\" >lat</th>\n",
       "      <td id=\"T_83bff_row5_col0\" class=\"data row5 col0\" >0.000000</td>\n",
       "    </tr>\n",
       "    <tr>\n",
       "      <th id=\"T_83bff_level0_row6\" class=\"row_heading level0 row6\" >lng</th>\n",
       "      <td id=\"T_83bff_row6_col0\" class=\"data row6 col0\" >0.000000</td>\n",
       "    </tr>\n",
       "    <tr>\n",
       "      <th id=\"T_83bff_level0_row7\" class=\"row_heading level0 row7\" >rating</th>\n",
       "      <td id=\"T_83bff_row7_col0\" class=\"data row7 col0\" >0.000000</td>\n",
       "    </tr>\n",
       "    <tr>\n",
       "      <th id=\"T_83bff_level0_row8\" class=\"row_heading level0 row8\" >price</th>\n",
       "      <td id=\"T_83bff_row8_col0\" class=\"data row8 col0\" >61.000000</td>\n",
       "    </tr>\n",
       "    <tr>\n",
       "      <th id=\"T_83bff_level0_row9\" class=\"row_heading level0 row9\" >avg_bill</th>\n",
       "      <td id=\"T_83bff_row9_col0\" class=\"data row9 col0\" >55.000000</td>\n",
       "    </tr>\n",
       "    <tr>\n",
       "      <th id=\"T_83bff_level0_row10\" class=\"row_heading level0 row10\" >middle_avg_bill</th>\n",
       "      <td id=\"T_83bff_row10_col0\" class=\"data row10 col0\" >63.000000</td>\n",
       "    </tr>\n",
       "    <tr>\n",
       "      <th id=\"T_83bff_level0_row11\" class=\"row_heading level0 row11\" >middle_coffee_cup</th>\n",
       "      <td id=\"T_83bff_row11_col0\" class=\"data row11 col0\" >94.000000</td>\n",
       "    </tr>\n",
       "    <tr>\n",
       "      <th id=\"T_83bff_level0_row12\" class=\"row_heading level0 row12\" >chain</th>\n",
       "      <td id=\"T_83bff_row12_col0\" class=\"data row12 col0\" >0.000000</td>\n",
       "    </tr>\n",
       "    <tr>\n",
       "      <th id=\"T_83bff_level0_row13\" class=\"row_heading level0 row13\" >seats</th>\n",
       "      <td id=\"T_83bff_row13_col0\" class=\"data row13 col0\" >43.000000</td>\n",
       "    </tr>\n",
       "  </tbody>\n",
       "</table>\n"
      ],
      "text/plain": [
       "<pandas.io.formats.style.Styler at 0x7f9d47d97b80>"
      ]
     },
     "execution_count": 8,
     "metadata": {},
     "output_type": "execute_result"
    }
   ],
   "source": [
    "pd.DataFrame(round(data.isna().mean()*100,)).style.background_gradient('coolwarm')"
   ]
  },
  {
   "cell_type": "markdown",
   "metadata": {},
   "source": [
    "<div style=\"border:solid black 2px; padding: 10px\">  \n",
    "    \n",
    "**Комментарий:**  \n",
    "\n",
    "Видим пропуски в столбцах `hours`, `price`, `avg_bill`, `middle_avg_bill`, `middle_coffee_cup`, `seats`\n",
    "Пропусков в данных огромное количество. Просто удалить не получится, будут искажения в исследовании.\n",
    "Для дальнейшего исследования нам понадабятся столбец `middle_avg_bill`. Значения для этого столбца берутся из `avg_bill`."
   ]
  },
  {
   "cell_type": "code",
   "execution_count": 9,
   "metadata": {},
   "outputs": [
    {
     "name": "stdout",
     "output_type": "stream",
     "text": [
      "Количество заведений: 5614\n"
     ]
    }
   ],
   "source": [
    "print('Количество заведений:', data.name.nunique())"
   ]
  },
  {
   "cell_type": "code",
   "execution_count": null,
   "metadata": {},
   "outputs": [],
   "source": [
    "data.category.value_counts()"
   ]
  },
  {
   "cell_type": "code",
   "execution_count": null,
   "metadata": {},
   "outputs": [],
   "source": [
    "data.seats.describe()"
   ]
  },
  {
   "cell_type": "markdown",
   "metadata": {},
   "source": [
    "<div style=\"border:solid black 2px; padding: 10px\">  \n",
    "    \n",
    "**Комментарий:**  \n",
    "    \n",
    "В датасете имеется информация о 5614 заведениях питания в Москве. В столбцах `name`, `category`, `address`, `district`, `hours`, `price` и `avg_bill` содержится информация о названии, категории, адресе, районе, часах работы, ценовой категории и средней стоимости заказа, представленных в формате объекта. Колонки `lat` и `lng` предоставляют данные о географических координатах заведения, а `middle_avg_bill` и `middle_coffee_cup` содержат данные о средней стоимости заказа и чашки капучино соответственно. Столбец chain содержит целочисленные значения 1 и 0, указывающие, относится заведение к сети или нет. Однако, столбец seats содержит данные о количестве посадочных мест в виде чисел с плавающей точкой, что является ошибкой. Кроме того, в некоторых столбцах есть пропущенные значения."
   ]
  },
  {
   "cell_type": "markdown",
   "metadata": {},
   "source": [
    "## Предобработка данных"
   ]
  },
  {
   "cell_type": "code",
   "execution_count": null,
   "metadata": {},
   "outputs": [],
   "source": [
    "# Данные выглядят корректно, приведем весь текст в нижний регистр.\n",
    "for col in ['name', 'address', 'avg_bill']:\n",
    "    data[col] = data[col].str.lower()\n",
    "data.head()"
   ]
  },
  {
   "cell_type": "code",
   "execution_count": null,
   "metadata": {},
   "outputs": [],
   "source": [
    "# Воссполним пропуски колонок 'avg_bill', 'price', 'hours'\n",
    "for column in ['avg_bill', 'price', 'hours']:\n",
    "    data[column] = data[column].fillna('н/д')"
   ]
  },
  {
   "cell_type": "markdown",
   "metadata": {},
   "source": [
    "<div style=\"border:solid black 2px; padding: 10px\">  \n",
    "    \n",
    "**Комментарий:**  \n",
    "Столбец `middle_avg_bill` содержит число с оценкой среднего чека, которое указано только для значений из столбца `avg_bill`, начинающихся с подстроки «Средний счёт». Если значения в столбце `avg_bill` нет или оно не начинается с подстроки «Средний счёт», то в столбец ничего не войдёт.\n",
    "\n",
    "Выведем количество непустых значений столбца `middle_avg_bill`."
   ]
  },
  {
   "cell_type": "code",
   "execution_count": null,
   "metadata": {},
   "outputs": [],
   "source": [
    "len(data.query('~middle_avg_bill.isna()'))"
   ]
  },
  {
   "cell_type": "markdown",
   "metadata": {},
   "source": [
    "Найдём количество строк датасета data, для которых значение столбца `avg_bill` начинается с подстроки «cредний счёт»."
   ]
  },
  {
   "cell_type": "code",
   "execution_count": null,
   "metadata": {},
   "outputs": [],
   "source": [
    "len(data.loc[data['avg_bill'].apply(lambda x: x.find('средний счёт')) != -1])"
   ]
  },
  {
   "cell_type": "markdown",
   "metadata": {},
   "source": [
    "<div style=\"border:solid black 2px; padding: 10px\">  \n",
    "    \n",
    "**Комментарий:**  \n",
    "Число строк 3149 равно количеству непустых значений в столбце `middle_avg_bill`.\n",
    "\n",
    "Заполним пропуски c помощью модели машинного обучения метод K-ближайших соседей."
   ]
  },
  {
   "cell_type": "code",
   "execution_count": null,
   "metadata": {},
   "outputs": [],
   "source": [
    "imputer = KNNImputer()\n",
    "middle_avg_bill_2d = data['middle_avg_bill'].values.reshape(-1, 1)\n",
    "data['middle_avg_bill'] = pd.DataFrame(data=imputer.fit_transform(middle_avg_bill_2d),\n",
    "                           columns=['middle_avg_bill'],\n",
    "                           index=data.index)"
   ]
  },
  {
   "cell_type": "code",
   "execution_count": null,
   "metadata": {},
   "outputs": [],
   "source": [
    "middle_avg_bill_2d = data['middle_coffee_cup'].values.reshape(-1, 1)\n",
    "data['middle_coffee_cup'] = pd.DataFrame(data=imputer.fit_transform(middle_avg_bill_2d),\n",
    "                           columns=['middle_coffee_cup'],\n",
    "                           index=data.index)"
   ]
  },
  {
   "cell_type": "markdown",
   "metadata": {},
   "source": [
    "<div style=\"border:solid black 2px; padding: 10px\">  \n",
    "    \n",
    "**Комментарий:**  \n",
    "    \n",
    "Столбец `middle_coffee_cup` содержит число с оценкой одной чашки капучино, которое указано только для значений из столбца `avg_bill`, начинающихся с подстроки «Цена чашки капучино». Если значения в столбце `avg_bill` нет или оно не начинается с подстроки «Цена чашки капучино», то в столбец ничего не войдёт.\n",
    "\n",
    "Выведем количество непустых значений столбца `middle_coffee_cup`."
   ]
  },
  {
   "cell_type": "code",
   "execution_count": null,
   "metadata": {},
   "outputs": [],
   "source": [
    "len(data.query('~middle_coffee_cup.isna()'))"
   ]
  },
  {
   "cell_type": "markdown",
   "metadata": {},
   "source": [
    "Найдём количество строк датафрейма data, для которых значение столбца `avg_bill` начинается с подстроки «Цена чашки капучино»."
   ]
  },
  {
   "cell_type": "code",
   "execution_count": null,
   "metadata": {},
   "outputs": [],
   "source": [
    "len(data.loc[data['avg_bill'].apply(lambda x: x.find('цена чашки капучино')) != -1])"
   ]
  },
  {
   "cell_type": "markdown",
   "metadata": {},
   "source": [
    "<div style=\"border:solid black 2px; padding: 10px\">  \n",
    "    \n",
    "**Комментарий:**  \n",
    "    \n",
    "Число строк 535 равно количеству непустых значений в столбце `middle_coffee_cup`.\n",
    "\n",
    "Заполним пропуски в столбце `middle_coffee_cup` заглушкой \"0\"."
   ]
  },
  {
   "cell_type": "code",
   "execution_count": null,
   "metadata": {},
   "outputs": [],
   "source": [
    "#data['middle_coffee_cup'] = data['middle_coffee_cup'].fillna(0)"
   ]
  },
  {
   "cell_type": "markdown",
   "metadata": {},
   "source": [
    "Заменим пропуски в столбце seats заглушкой \"-1\"."
   ]
  },
  {
   "cell_type": "code",
   "execution_count": null,
   "metadata": {},
   "outputs": [],
   "source": [
    "#data['seats'] = data['seats'].fillna(-1)"
   ]
  },
  {
   "cell_type": "code",
   "execution_count": null,
   "metadata": {},
   "outputs": [],
   "source": [
    "# Проверим обработку пропусков.\n",
    "data.isna().sum()"
   ]
  },
  {
   "cell_type": "code",
   "execution_count": null,
   "metadata": {},
   "outputs": [],
   "source": [
    "# Посмотрим на дубликаты\n",
    "data.loc[data.duplicated(subset=['name', 'address'], keep=False)]"
   ]
  },
  {
   "cell_type": "markdown",
   "metadata": {},
   "source": [
    "<div style=\"border:solid black 2px; padding: 10px\">  \n",
    "    \n",
    "**Комментарий:**  \n",
    "Явным дубликатом выглядит вторая строка с данными ресторана \"More Poke\" и \"кафе\" Вторые строки для заведений \"Раковарня клешни и хвосты\" и \"Хлеб да выпечка\" содержат разные категории заведений и немного разные координаты. Так как адрес один, будем считать это дубликатами и удалим дублирующие строки."
   ]
  },
  {
   "cell_type": "code",
   "execution_count": null,
   "metadata": {},
   "outputs": [],
   "source": [
    "data.drop_duplicates(subset=['name', 'address'], keep='first', inplace=True)"
   ]
  },
  {
   "cell_type": "code",
   "execution_count": null,
   "metadata": {},
   "outputs": [],
   "source": [
    "data.duplicated(subset=['name', 'address']).sum()"
   ]
  },
  {
   "cell_type": "markdown",
   "metadata": {},
   "source": [
    "Проверим на неявные дубликаты названия категорий заведений и районы."
   ]
  },
  {
   "cell_type": "code",
   "execution_count": null,
   "metadata": {},
   "outputs": [],
   "source": [
    "data['category'].unique()"
   ]
  },
  {
   "cell_type": "code",
   "execution_count": null,
   "metadata": {},
   "outputs": [],
   "source": [
    "data['district'].unique()"
   ]
  },
  {
   "cell_type": "markdown",
   "metadata": {},
   "source": [
    "Неявных дубликатов в столбцах `category` и `district` нет. Выведем топ-10 самых часто встречающихся названий заведений."
   ]
  },
  {
   "cell_type": "code",
   "execution_count": null,
   "metadata": {},
   "outputs": [],
   "source": [
    "data.groupby('name') \\\n",
    "    .agg(count=('name', 'count')) \\\n",
    "    .sort_values(by='count', ascending=False) \\\n",
    "    .reset_index() \\\n",
    "    .head(10) \\\n",
    "    .style.background_gradient('coolwarm')"
   ]
  },
  {
   "cell_type": "markdown",
   "metadata": {},
   "source": [
    "<div style=\"border:solid black 2px; padding: 10px\">  \n",
    "    \n",
    "**Комментарий:**  \n",
    "Очевидно, что большая часть из этих заведний - сетевые. Но встречаются и большое количество заведений с названиями \"Кафе\", \"Ресторан\" и \"Столовая\". Проверим, есть ли среди заведений с такими названиями сетевые."
   ]
  },
  {
   "cell_type": "code",
   "execution_count": null,
   "metadata": {},
   "outputs": [],
   "source": [
    "data.query('(name == \"кафе\" or name == \"ресторан\" or name == \"столовая\") and chain == 1')"
   ]
  },
  {
   "cell_type": "markdown",
   "metadata": {},
   "source": [
    "<div style=\"border:solid black 2px; padding: 10px\">  \n",
    "    \n",
    "**Комментарий:**  \n",
    "Сетевых нет. Необходимо проверить данные на неявные дубликаты по названиям.\n",
    "\n",
    "Попробуем поискать неявные дубликаты по первому слову в названии заведения. Для этого создадим столбец с первым словом в названии и поищем дубликаты по этому столбцу, столбцу `category` и `address`."
   ]
  },
  {
   "cell_type": "code",
   "execution_count": null,
   "metadata": {},
   "outputs": [],
   "source": [
    "data['dup_name'] = data['name'].str.split(' ').str[0]\n",
    "data.duplicated(subset=['dup_name', 'category', 'address']).sum()"
   ]
  },
  {
   "cell_type": "markdown",
   "metadata": {},
   "source": [
    "Обнаружено 15 дубликатов. Выведем строки с дубликатами."
   ]
  },
  {
   "cell_type": "code",
   "execution_count": null,
   "metadata": {},
   "outputs": [],
   "source": [
    "data.loc[data.duplicated(subset=['dup_name', 'category', 'address'], keep=False)]"
   ]
  },
  {
   "cell_type": "markdown",
   "metadata": {},
   "source": [
    "<div style=\"border:solid black 2px; padding: 10px\">  \n",
    "    \n",
    "**Комментарий:**  \n",
    "\n",
    "У этих заведений похожие названия, совпадают категории и адреса. По-видимому, некоторые из них представляют собой разные заведения, находящиеся в одном здании, либо разные залы одного заведения. Часть заведений является дубликатами. Удалим строки, которые по всей видимости являются дубликатами."
   ]
  },
  {
   "cell_type": "code",
   "execution_count": null,
   "metadata": {},
   "outputs": [],
   "source": [
    "data = data.drop(data[(data['name'] == \"чебуреки манты\") & (data['address'] == \"Москва, Правобережная улица, 1Б\")].index)\n",
    "data = data.drop(data[(data['name'] == \"чайхана халал\") & (data['address'] == \"Москва, Смольная улица, 24Г, стр. 6\")].index)\n",
    "data = data.drop(data[(data['name'] == \"dragon bubble tea\") & (data['address'] == \"Москва, Щёлковское шоссе, вл75\")].index)\n",
    "data = data.drop(data[(data['name'] == \"баку 24 часа\") & (data['address'] == \"Москва, Монтажная улица, 9, стр. 1\")].index)\n",
    "data = data.drop(data[(data['name'] == \"udcкафе upside down cake\") & (data['address'] == \"Москва, Кутузовский проспект, 57\")].index)\n",
    "data = data.drop(data[(data['name'] == \"vip wok and sushi\") & (data['address'] == \"Москва, Можайское шоссе, 45Б\")].index)\n",
    "data = data.drop(data[(data['name'] == \"от мяса до рыбы\") & (data['address'] == \"Москва, улица Вавилова, 64/1с1\")].index)\n",
    "data = data.drop(data[(data['name'] == \"чайхана дружба\") & (data['address'] == \"Москва, Большая Очаковская улица, 47А, стр. 1\")].index)\n",
    "data = data.drop(data[(data['name'] == \"estetica cafe\") & (data['address'] == \"Москва, Кировоградская улица, 15\")].index)\n",
    "data = data.drop(data[(data['name'] == \"кафе\") & (data['address'] == \"Москва, Ореховый бульвар, 28\")].index)\n",
    "data.loc[data.duplicated(subset=['dup_name', 'category', 'address'], keep=False)]"
   ]
  },
  {
   "cell_type": "markdown",
   "metadata": {},
   "source": [
    "Дубликаты обработаны. Удалим столбец `dup_name`."
   ]
  },
  {
   "cell_type": "code",
   "execution_count": null,
   "metadata": {},
   "outputs": [],
   "source": [
    "data = data.drop(['dup_name'], axis=1)"
   ]
  },
  {
   "cell_type": "code",
   "execution_count": null,
   "metadata": {},
   "outputs": [],
   "source": [
    "# Изменим тип данных на int\n",
    "#for col in ['middle_avg_bill', 'middle_coffee_cup', 'seats']:\n",
    "    #data[col] = data[col].astype('int')"
   ]
  },
  {
   "cell_type": "code",
   "execution_count": null,
   "metadata": {},
   "outputs": [],
   "source": [
    "def make_acronym(phrase):\n",
    "    phrase = phrase.replace('-', ' ').split()\n",
    "    acronym = \"\"\n",
    "    for word in phrase:\n",
    "        acronym = acronym + word[0].upper()\n",
    "    return acronym\n",
    "\n",
    "# Добавим акронимы к районам\n",
    "data['district_short'] = data['district'].apply(make_acronym)"
   ]
  },
  {
   "cell_type": "markdown",
   "metadata": {},
   "source": [
    "## Анализ данных"
   ]
  },
  {
   "cell_type": "markdown",
   "metadata": {},
   "source": [
    "### Категории заведений  \n",
    "Посмотрим какие категории заведений представлены в данных. Исследуем количество объектов общественного питания по категориям: рестораны, кофейни, пиццерии, бары и так далее. Построим визуализации."
   ]
  },
  {
   "cell_type": "code",
   "execution_count": null,
   "metadata": {},
   "outputs": [],
   "source": [
    "category_name = data.groupby('category')['name'].count().reset_index()\n",
    "category_name.columns = ['category', 'count']\n",
    "category_name.style.background_gradient('coolwarm')"
   ]
  },
  {
   "cell_type": "code",
   "execution_count": null,
   "metadata": {},
   "outputs": [],
   "source": [
    "#fig = go.Figure(data=[go.Bar(x=category_name['category'], y=category_name['count'])], \n",
    "#               layout=go.Layout(title=go.layout.Title(text=\"Столбчатая диаграмма категорий заведений\"),\n",
    "#                                xaxis=go.layout.XAxis(title=go.layout.xaxis.Title(text=\"Категории\")),\n",
    "#                                yaxis=go.layout.YAxis(title=go.layout.yaxis.Title(text=\"Количество заведений\")), \n",
    "#                                template='plotly_white'))\n",
    "\n",
    "#fig.show()\n"
   ]
  },
  {
   "cell_type": "code",
   "execution_count": null,
   "metadata": {},
   "outputs": [],
   "source": [
    "fig = px.bar(category_name, \n",
    "             x='category', \n",
    "             y='count', \n",
    "             text='count',\n",
    "             title='Количество объектов общественного питания по видам',\n",
    "             template='plotly_white'\n",
    "            )\n",
    "fig.update_layout(xaxis_title='Категории заведений',\n",
    "                  yaxis_title='Количество заведений',\n",
    "                  xaxis={'categoryorder':'total descending'})\n",
    "fig.show()"
   ]
  },
  {
   "cell_type": "markdown",
   "metadata": {},
   "source": [
    "<div style=\"border:solid black 2px; padding: 10px\">  \n",
    "    \n",
    "**Комментарий:**  \n",
    "    \n",
    "`кафе` с наибольшим количеством - 2376 заведений, за ним следуют `рестораны` с 2042 заведениями, а наименьшее число заведений у `булочных` - всего 256. Однако, кафе и рестораны составляют более чем половину (около 52,6%) от общего числа заведений, в то время как кофейни, бары/пабы и пиццерии представлены чуть менее чем третью частью (33,43%). Оставшиеся заведения, такие как булочные, столовые и быстрое питание занимают 13,97% от общего числа."
   ]
  },
  {
   "cell_type": "markdown",
   "metadata": {},
   "source": [
    "### Исследование количества посадочных мест в местах по категориям. \n",
    "Исследуем количество посадочных мест в местах по категориям: рестораны, кофейни, пиццерии, бары и так далее. Построим визуализации."
   ]
  },
  {
   "cell_type": "code",
   "execution_count": null,
   "metadata": {},
   "outputs": [],
   "source": [
    "seats = data.query('seats != -1') \\\n",
    "            .groupby('category') \\\n",
    "            .agg(seats_median=('seats', 'median')) \\\n",
    "            .sort_values(by='seats_median', ascending=False) \\\n",
    "            .reset_index()\n",
    "seats['seats_median'] = seats['seats_median'].astype('int')"
   ]
  },
  {
   "cell_type": "code",
   "execution_count": null,
   "metadata": {},
   "outputs": [],
   "source": [
    "# строим столбчатую диаграмму \n",
    "fig = px.bar(seats.sort_values(by='seats_median', ascending=True), # загружаем данные и заново их сортируем\n",
    "             x='seats_median', # указываем столбец с данными для оси X\n",
    "             y='category', # указываем столбец с данными для оси Y\n",
    "             text='seats_median',\n",
    "             template='plotly_white'# добавляем аргумент, который отобразит текст с информацией\n",
    "                                # о количестве объявлений внутри столбца графика\n",
    "            )\n",
    "# оформляем график\n",
    "fig.update_layout(title='Количество посадочных мест в объектах общественного питания по категориям',\n",
    "                   xaxis_title='Количество посадочных мест',\n",
    "                   yaxis_title='Категория объекта общественного питания')\n",
    "fig.show() # выводим график"
   ]
  },
  {
   "cell_type": "markdown",
   "metadata": {},
   "source": [
    "<div style=\"border:solid black 2px; padding: 10px\">  \n",
    "    \n",
    "**Комментарий:**  \n",
    "\n",
    "Рестораны предоставляют наибольшее количество мест для посадки, что логично, поскольку такая специализация предполагает отдых и питание гостей. На втором месте - быстрые рестораны, при этом они являются самыми распространенными заведениями. В то же время, кафе и столовые предлагают наименьшее количество мест для посадки."
   ]
  },
  {
   "cell_type": "markdown",
   "metadata": {},
   "source": [
    "### Cоотношение сетевых и несетевых заведений в датасете\n",
    "Подсчитаем число сетевых и несетевых заведений."
   ]
  },
  {
   "cell_type": "code",
   "execution_count": null,
   "metadata": {},
   "outputs": [],
   "source": [
    "chain_category = ['сетевые', 'несетевые']\n",
    "values = [len(data.query('chain == 1')), len(data.query('chain == 0'))]\n",
    "\n",
    "fig = go.Figure(data=[go.Pie(labels=chain_category, values=values)])\n",
    "fig.update_layout(title='Cоотношение сетевых и несетевых заведений общественного питания', \n",
    "                  width=800, \n",
    "                  height=500,\n",
    "                  annotations=[dict(x=1.15, \n",
    "                                    y=1.05,\n",
    "                                    text='Категория',\n",
    "                                    showarrow=False)])\n",
    "fig.show() "
   ]
  },
  {
   "cell_type": "markdown",
   "metadata": {},
   "source": [
    "<div style=\"border:solid black 2px; padding: 10px\">  \n",
    "    \n",
    "**Комментарий:**  \n",
    "    \n",
    "Судя по диаграмме, можно утверждать, что примерно 62% ресторанов в Москве не принадлежат к какой-либо сети."
   ]
  },
  {
   "cell_type": "markdown",
   "metadata": {},
   "source": [
    "### Категории сетевых заведений общественного питания"
   ]
  },
  {
   "cell_type": "code",
   "execution_count": null,
   "metadata": {},
   "outputs": [],
   "source": [
    "# Посмотрим какие категории заведений чаще являются сетевыми\n",
    "chain_objects = data.groupby(['category', 'chain'])['name'].count().reset_index()\n",
    "chain_objects.columns = ['object_type', 'chain', 'count']\n",
    "chain_objects['chain'] = chain_objects['chain'].astype(object)\n",
    "chain_objects = chain_objects.sort_values(['count', 'chain'])\n",
    "chain_objects"
   ]
  },
  {
   "cell_type": "code",
   "execution_count": null,
   "metadata": {},
   "outputs": [],
   "source": [
    "fig = px.bar(chain_objects,\n",
    "             x='count',\n",
    "             y='object_type',\n",
    "             text='count',\n",
    "             template='plotly_white',                   \n",
    "             color='chain',\n",
    "             category_orders={\"chain\": [\"сетевой\", \"несетевой\"]}\n",
    "            )\n",
    "# оформляем график\n",
    "fig.update_layout(title='Соотношение сетевых заведений',\n",
    "                   xaxis_title='Количество заведений',\n",
    "                   yaxis_title='Название категорий',\n",
    "                 )\n",
    "fig.show()"
   ]
  },
  {
   "cell_type": "markdown",
   "metadata": {},
   "source": [
    "<div style=\"border:solid black 2px; padding: 10px\">  \n",
    "    \n",
    "**Комментарий:**  \n",
    "    \n",
    "Согласно графику, большинство заведений не относятся к сетевым, за исключением нескольких категорий: для кофеен количество сетевых заведений немного превышает количество независимых (720|693); для пиццерий количество сетевых заведений уже значительно превышает количество независимых (330|303); для булочных разница между сетевыми и независимыми заведениями оказалась самой большой (157|99)."
   ]
  },
  {
   "cell_type": "markdown",
   "metadata": {},
   "source": [
    "### Топ-15 популярных сетей в Москве\n",
    "Сгруппируем данные по названиям заведений и найдем топ-15 популярных сетей в Москве."
   ]
  },
  {
   "cell_type": "code",
   "execution_count": null,
   "metadata": {},
   "outputs": [],
   "source": [
    "df_chain = data[data['chain'] == 1]\n",
    "top_15 = df_chain.groupby('name').agg({'rating' : 'median', 'category' : pd.Series.mode, 'district' : 'count'})\n",
    "top_15 = top_15.rename(columns={'district':'count'})\n",
    "top_15 = top_15.sort_values('count', ascending = False).reset_index().head(15)\n",
    "top_15"
   ]
  },
  {
   "cell_type": "code",
   "execution_count": null,
   "metadata": {},
   "outputs": [],
   "source": [
    "fig = px.bar(top_15,\n",
    "             x='count',\n",
    "             y='name',\n",
    "             text='count',\n",
    "             template='plotly_white', \n",
    "             color='name'\n",
    "            )\n",
    "# оформляем график\n",
    "fig.update_layout(title='ТОП-15 популярных сетей в Москве',\n",
    "                   xaxis_title='Количество заведений',\n",
    "                   yaxis_title='Название заведений',\n",
    "                   showlegend=False)\n",
    "fig.show()"
   ]
  },
  {
   "cell_type": "markdown",
   "metadata": {},
   "source": [
    "<div style=\"border:solid black 2px; padding: 10px\">  \n",
    "    \n",
    "**Комментарий:**  \n",
    "    \n",
    "По результатам мы можем заключить, что среди сетевых заведений в Москве первое место занимает Шоколадница, второе и третье места заняли известные пиццерии, а наименьшее количество заведений относится к сети Му-Му."
   ]
  },
  {
   "cell_type": "code",
   "execution_count": null,
   "metadata": {},
   "outputs": [],
   "source": [
    "print('Всего заведений в Топ-15:', top_15['count'].sum())"
   ]
  },
  {
   "cell_type": "code",
   "execution_count": null,
   "metadata": {},
   "outputs": [],
   "source": [
    "fig = px.bar(top_15,\n",
    "             x='count',\n",
    "             y='category',\n",
    "             template='plotly_white',                 \n",
    "             color='category'\n",
    "            )\n",
    "# оформляем график\n",
    "fig.update_layout(title='Количество заведений каждой категории по районам',\n",
    "                   xaxis_title='Количество заведений',\n",
    "                   yaxis_title='Название категорий',\n",
    "                   yaxis={'categoryorder':'total ascending'}\n",
    "                 )\n",
    "fig.show()"
   ]
  },
  {
   "cell_type": "code",
   "execution_count": null,
   "metadata": {},
   "outputs": [],
   "source": [
    "district_chain = df_chain.groupby(['district', 'category', 'name']).agg({'rating' : 'median', 'address' : 'count'})\n",
    "district_chain = district_chain.sort_values('rating', ascending = False).reset_index()\n",
    "district_chain = district_chain.rename(columns={'address':'count'})\n",
    "district_chain = district_chain[district_chain['name'].isin(top_15['name'])]\n",
    "district_chain.head()"
   ]
  },
  {
   "cell_type": "code",
   "execution_count": null,
   "metadata": {},
   "outputs": [],
   "source": [
    "fig = px.bar(district_chain,\n",
    "             x='count',\n",
    "             y='district',\n",
    "             template='plotly_white',                    \n",
    "             color='category'\n",
    "            )\n",
    "# оформляем график\n",
    "fig.update_layout(title='Количество заведений каждой категории по районам',\n",
    "                   xaxis_title='Количество заведений',\n",
    "                   yaxis_title='Название района',\n",
    "                   yaxis={'categoryorder':'total ascending'}\n",
    "                 )\n",
    "fig.show()"
   ]
  },
  {
   "cell_type": "markdown",
   "metadata": {},
   "source": [
    "### Какие административные районы Москвы присутствуют в датасете?\n",
    "Посмотрим какие административные районы Москвы присутствуют в датасете. Отобразим общее количество заведений и количество заведений каждой категории по районам."
   ]
  },
  {
   "cell_type": "code",
   "execution_count": null,
   "metadata": {},
   "outputs": [],
   "source": [
    "print('Общее количество заведений в датасете:',data['name'].count())"
   ]
  },
  {
   "cell_type": "code",
   "execution_count": null,
   "metadata": {},
   "outputs": [],
   "source": [
    "district_chain_df = data.groupby(['district', 'category']).agg({'rating' : 'median', 'name' : 'count'})\n",
    "district_chain_df = district_chain_df.sort_values('rating', ascending = False).reset_index()\n",
    "district_chain_df = district_chain_df.rename(columns={'name':'count'})\n",
    "district_chain_df.head()"
   ]
  },
  {
   "cell_type": "code",
   "execution_count": null,
   "metadata": {},
   "outputs": [],
   "source": [
    "fig = px.bar(district_chain_df,\n",
    "             x='count',\n",
    "             y='district',\n",
    "             template='plotly_white',                    \n",
    "             color='category'\n",
    "            )\n",
    "# оформляем график\n",
    "fig.update_layout(title='Количество заведений каждой категории по районам',\n",
    "                   xaxis_title='Количество заведений',\n",
    "                   yaxis_title='Название района',\n",
    "                   yaxis={'categoryorder':'total ascending'}\n",
    "                 )\n",
    "fig.show()"
   ]
  },
  {
   "cell_type": "markdown",
   "metadata": {},
   "source": [
    "<div style=\"border:solid black 2px; padding: 10px\">  \n",
    "    \n",
    "**Комментарий:**  \n",
    "    \n",
    "Мы имеем 9 административных округов. График показывает, что наибольшее количество заведений всех категорий находится в центральном административном округе. В основном, это кафе, кофейни и рестораны, что логично, учитывая, что люди едут в центр города, чтобы отдохнуть, погулять или сделать покупки. Категория кафе имеет неплохое распределение по всем округам. В то же время столовых наименьшее количество в каждом из округов."
   ]
  },
  {
   "cell_type": "markdown",
   "metadata": {},
   "source": [
    "### Средние рейтинги по категориям\n",
    "Визуализируем распределение средних рейтингов по категориям заведений."
   ]
  },
  {
   "cell_type": "code",
   "execution_count": null,
   "metadata": {},
   "outputs": [],
   "source": [
    "rating_category = data.groupby('category').agg({'rating' : 'mean'}).round(2).sort_values('rating', ascending = False).reset_index()\n",
    "rating_category"
   ]
  },
  {
   "cell_type": "code",
   "execution_count": null,
   "metadata": {},
   "outputs": [],
   "source": [
    "fig = px.bar(rating_category,\n",
    "             x='rating',\n",
    "             y='category',\n",
    "             text='rating',\n",
    "             template='plotly_white', \n",
    "             color='category'                   \n",
    "            )\n",
    "# оформляем график\n",
    "fig.update_layout(title='Распределение средних рейтингов по категориям заведений',\n",
    "                   xaxis_title='Рейтинг',\n",
    "                   yaxis_title='Название категорий')\n",
    "fig.update_xaxes(range=[4, 4.5])\n",
    "fig.show()"
   ]
  },
  {
   "cell_type": "markdown",
   "metadata": {},
   "source": [
    "<div style=\"border:solid black 2px; padding: 10px\">  \n",
    "    \n",
    "**Комментарий:**  \n",
    "\n",
    "Согласно данным на графике, бары и пабы имеют наивысший рейтинг, тогда как пиццерии, рестораны, кофейни и булочные имеют примерно одинаковый рейтинг. Рестораны быстрого питания имеют наименьший рейтинг. Кроме того, средние значения по всем категориям превышают 4 в нашей выборке."
   ]
  },
  {
   "cell_type": "markdown",
   "metadata": {},
   "source": [
    "### Фоновая картограмма (хороплет) со средним рейтингом заведений каждого района\n",
    "Построим фоновую картограмму (хороплет) со средним рейтингом заведений каждого района. Границы районов Москвы, которые встречаются в датасете, хранятся в файле `admin_level_geomap.geojson`"
   ]
  },
  {
   "cell_type": "code",
   "execution_count": null,
   "metadata": {},
   "outputs": [],
   "source": [
    "rating_df = data.groupby('district', as_index=False)['rating'].agg('mean').round(2)\n",
    "rating_df"
   ]
  },
  {
   "cell_type": "code",
   "execution_count": null,
   "metadata": {},
   "outputs": [],
   "source": [
    "# читаем файл и сохраняем в переменной\n",
    "with open('/datasets/admin_level_geomap.geojson', 'r') as f:\n",
    "    geo_json = json.load(f)"
   ]
  },
  {
   "cell_type": "code",
   "execution_count": null,
   "metadata": {},
   "outputs": [],
   "source": [
    "# загружаем JSON-файл с границами округов Москвы\n",
    "state_geo = '/datasets/admin_level_geomap.geojson'\n",
    "# moscow_lat - широта центра Москвы, moscow_lng - долгота центра Москвы\n",
    "moscow_lat, moscow_lng = 55.751244, 37.618423\n",
    "\n",
    "# создаём карту Москвы\n",
    "m = Map(location=[moscow_lat, moscow_lng], zoom_start=10)\n",
    "\n",
    "# создаём хороплет с помощью конструктора Choropleth и добавляем его на карту\n",
    "Choropleth(\n",
    "    geo_data=state_geo,\n",
    "    data=rating_df,\n",
    "    columns=['district', 'rating'],\n",
    "    key_on='feature.name',\n",
    "    #fill_color='YlGn',\n",
    "    #fill_opacity=0.8,\n",
    "    legend_name='Средний рейтинг заведений по районам',\n",
    ").add_to(m)\n",
    "\n",
    "# выводим карту\n",
    "m"
   ]
  },
  {
   "cell_type": "markdown",
   "metadata": {},
   "source": [
    "На основании предоставленных данных можно сделать вывод о том, что у заведений, расположенных в Центральном административном округе, наивысший рейтинг, составляющий 4.38. В то же время заведения, расположенные в Юго-Восточном административном округе, имеют наименьший рейтинг, который составляет 4.1."
   ]
  },
  {
   "cell_type": "markdown",
   "metadata": {},
   "source": [
    "### Заведения датасета на карте\n",
    "Отобразим все заведения датасета на карте с помощью кластеров средствами библиотеки `folium`."
   ]
  },
  {
   "cell_type": "code",
   "execution_count": null,
   "metadata": {},
   "outputs": [],
   "source": [
    "# moscow_lat - широта центра Москвы, moscow_lng - долгота центра Москвы\n",
    "moscow_lat, moscow_lng = 55.751244, 37.618423\n",
    "\n",
    "# создаём карту Москвы\n",
    "m = Map(location=[moscow_lat, moscow_lng], zoom_start=10)\n",
    "# создаём пустой кластер, добавляем его на карту\n",
    "marker_cluster = MarkerCluster().add_to(m)\n",
    "\n",
    "# пишем функцию, которая принимает строку датафрейма,\n",
    "# создаёт маркер в текущей точке и добавляет его в кластер marker_cluster\n",
    "def create_clusters(row):\n",
    "    Marker(\n",
    "        [row['lat'], row['lng']],\n",
    "        popup=f\"{row['name']} {row['rating']}\",\n",
    "    ).add_to(marker_cluster)\n",
    "\n",
    "# применяем функцию create_clusters() к каждой строке датафрейма\n",
    "data.apply(create_clusters, axis=1)\n",
    "\n",
    "# выводим карту\n",
    "m"
   ]
  },
  {
   "cell_type": "markdown",
   "metadata": {},
   "source": [
    "По карте отчетливо видно, что основная масса заведений сконцентрирована в центре Москвы. Уже меньше на севере и еще меньше на юге."
   ]
  },
  {
   "cell_type": "markdown",
   "metadata": {},
   "source": [
    "### Топ-15 улиц по количеству заведений\n",
    "Найдем топ-15 улиц по количеству заведений. Построим график распределения количества заведений и их категорий по этим улицам."
   ]
  },
  {
   "cell_type": "code",
   "execution_count": null,
   "metadata": {},
   "outputs": [],
   "source": [
    "words = ['проезд','шоссе','улица','переулок','микрорайон','мкад','проспект','пр.',\n",
    "         'площадь','аллея','бульвар','набережная','сквер','тупик','линия','территория',\n",
    "         'квартал','просек','парк','мост']\n",
    " \n",
    "str_pat = r\".*,\\s*\\b([^,]*?(?:{})\\b[^,]*)[,$]+\".format(\"|\".join(words))\n",
    " \n",
    "data['street'] = data['address'].str.extract(str_pat, flags=re.I)"
   ]
  },
  {
   "cell_type": "code",
   "execution_count": null,
   "metadata": {},
   "outputs": [],
   "source": [
    "streets_moscow = data[data['street'].notnull()]\n",
    "top15_streets = streets_moscow['street'].value_counts().reset_index().head(15)\n",
    "top15_streets.columns = ['street_name', 'count']\n",
    "top15_streets"
   ]
  },
  {
   "cell_type": "code",
   "execution_count": null,
   "metadata": {},
   "outputs": [],
   "source": [
    "#создадим таблицу с названиями улиц и категорий\n",
    "streets_category = data.groupby(['street', 'category'])['name'].count().reset_index()\n",
    "streets_category.columns = ['street_name', 'category', 'count']\n",
    "streets_category.sort_values('count', ascending=False)"
   ]
  },
  {
   "cell_type": "code",
   "execution_count": null,
   "metadata": {},
   "outputs": [],
   "source": [
    "#оставим только улицы из топ 15\n",
    "streets15_category = streets_category[streets_category['street_name'].isin(top15_streets['street_name'])]\n",
    "streets15_category"
   ]
  },
  {
   "cell_type": "code",
   "execution_count": null,
   "metadata": {},
   "outputs": [],
   "source": [
    "fig = px.bar(streets15_category,\n",
    "             x='count',\n",
    "             y='street_name',\n",
    "             template='plotly_white',                   \n",
    "             color='category'\n",
    "            )\n",
    "# оформляем график\n",
    "fig.update_layout(title='Количество заведений каждой категории по районам',\n",
    "                   xaxis_title='Количество заведений',\n",
    "                   yaxis_title='Название улиц',\n",
    "                   yaxis={'categoryorder':'total ascending'}\n",
    "                 )\n",
    "fig.show()"
   ]
  },
  {
   "cell_type": "markdown",
   "metadata": {},
   "source": [
    "Из графика выше мы видим, что больше всего заведений на проспекте Мира. Преобладают категории кафе и рестораны. Столовых меньше всего.\n",
    "Следом за ним идет Профсоюзная, ситуация с категориями там аналогична.\n",
    "Меньше всего заведений на улица Миклухо-Маклая. Среди популярных категорий также кафе и рестораны."
   ]
  },
  {
   "cell_type": "code",
   "execution_count": null,
   "metadata": {},
   "outputs": [],
   "source": [
    "one_cafe = data['street'].value_counts().reset_index()\n",
    "one_cafe.columns = ['street_name', 'cafe_count']\n",
    "one_cafe = one_cafe[one_cafe['cafe_count'] == 1]\n",
    "one_cafe"
   ]
  },
  {
   "cell_type": "code",
   "execution_count": null,
   "metadata": {},
   "outputs": [],
   "source": [
    "#добавим районы\n",
    "streets1_category = streets_category[streets_category['street_name'].isin(one_cafe['street_name'])]\n",
    "streets1_category = streets1_category.groupby('category')['street_name'].count()\n",
    "streets1_category"
   ]
  },
  {
   "cell_type": "markdown",
   "metadata": {},
   "source": [
    "Из данных выше мы видим, что 425 улиц имеют только одно заведение. Больше всего из них относятся к категории кафе."
   ]
  },
  {
   "cell_type": "markdown",
   "metadata": {},
   "source": []
  },
  {
   "cell_type": "markdown",
   "metadata": {},
   "source": [
    "### Значения средних чеков заведений\n",
    "Значения средних чеков заведений хранятся в столбце `middle_avg_bill`. Эти числа показывают примерную стоимость заказа в рублях, которая чаще всего выражена диапазоном. Посчитаем медиану этого столбца для каждого района. Используем это значение в качестве ценового индикатора района. Построим фоновую картограмму (хороплет) с полученными значениями для каждого района."
   ]
  },
  {
   "cell_type": "code",
   "execution_count": null,
   "metadata": {},
   "outputs": [],
   "source": [
    "median_bill = data.groupby('district')['middle_avg_bill'].median().reset_index()"
   ]
  },
  {
   "cell_type": "code",
   "execution_count": null,
   "metadata": {},
   "outputs": [],
   "source": [
    "# создаём карту Москвы\n",
    "m2 = Map(location=[moscow_lat, moscow_lng], zoom_start=10)\n",
    "\n",
    "# создаём хороплет с помощью конструктора Choropleth и добавляем его на карту\n",
    "Choropleth(\n",
    "    geo_data=state_geo,\n",
    "    data=median_bill,\n",
    "    columns=['district', 'middle_avg_bill'],\n",
    "    key_on='feature.name',\n",
    "    legend_name='Средний чек заведений по районам',\n",
    ").add_to(m2)\n",
    "\n",
    "# выводим карту\n",
    "m2"
   ]
  },
  {
   "cell_type": "markdown",
   "metadata": {},
   "source": [
    "<div style=\"border:solid black 2px; padding: 10px\">  \n",
    "    \n",
    "**Комментарий:**  \n",
    "\n",
    "Из приведенных данных можно сделать вывод, что Центральный и Западный округа имеют наибольший средний чек в сравнении с Юго-Восточным округом, который имеет наименьший средний чек. Округи вблизи Центрального округа имеют в среднем средний чек на 1,5 - 2 раза выше, чем округа вдали от центра."
   ]
  },
  {
   "cell_type": "markdown",
   "metadata": {},
   "source": [
    "### Вывод"
   ]
  },
  {
   "cell_type": "markdown",
   "metadata": {},
   "source": [
    "<div style=\"border:solid black 2px; padding: 10px\">  \n",
    "    \n",
    "Анализ показал, что наибольшее количество заведений в Москве - кафе (2378), немного меньше - рестораны (2043), и наименьшее количество - булочные (256).  \n",
    "    \n",
    "Кафе и рестораны составляют почти 52,6% от общего числа заведений, в то время как кофейни, бары/пабы и пиццерии составляют 33,43%, а булочные, столовые и заведения быстрого питания - 13,97%. Рестораны предоставляют наибольшее количество посадочных мест, а заведения быстрого питания распространены шире всего. Кофейни занимают первое место по количеству сетевых заведений, за которой следует категория пиццерий.  \n",
    "    \n",
    "Самой популярной сетью является Шоколадница. Заведений категории кофе, ресторанов и пиццерий в топ-15 примерно одинаковое количество. Заведений из топ-15 в центральном административном округе больше всего, а в северо-западном - наименьшее количество.  \n",
    "    \n",
    "Проспект Мира - улица с наибольшим количеством заведений, преобладают кафе и рестораны, а меньше всего - столовые. Средний чек выше всего в центральном и западном округах, а наименьший - в юго-восточном."
   ]
  },
  {
   "cell_type": "markdown",
   "metadata": {},
   "source": [
    "## Детализируем исследование: открытие кофейни"
   ]
  },
  {
   "cell_type": "markdown",
   "metadata": {},
   "source": [
    "<div style=\"border:solid black 2px; padding: 10px\">  \n",
    "    \n",
    "Ответим на следующие вопросы:  \n",
    "Сколько всего кофеен в датасете? В каких районах их больше всего, каковы особенности их расположения?  \n",
    "Есть ли круглосуточные кофейни?  \n",
    "Какие у кофеен рейтинги? Как они распределяются по районам?  \n",
    "На какую стоимость чашки капучино стоит ориентироваться при открытии и почему?  "
   ]
  },
  {
   "cell_type": "markdown",
   "metadata": {},
   "source": [
    "### Количество кофеен\n",
    "Посчитаем количество и посмотрим на их расположение."
   ]
  },
  {
   "cell_type": "code",
   "execution_count": null,
   "metadata": {},
   "outputs": [],
   "source": [
    "cofe_df = data[data['category'] == 'кофейня']\n",
    "print('Всего коффен:', cofe_df.shape[0])"
   ]
  },
  {
   "cell_type": "code",
   "execution_count": null,
   "metadata": {},
   "outputs": [],
   "source": [
    "# создаём карту Москвы\n",
    "m3 = Map(location=[moscow_lat, moscow_lng], zoom_start=10)\n",
    "# создаём пустой кластер, добавляем его на карту\n",
    "marker_cluster = MarkerCluster().add_to(m3)\n",
    "\n",
    "# пишем функцию, которая принимает строку датафрейма,\n",
    "# создаёт маркер в текущей точке и добавляет его в кластер marker_cluster\n",
    "def create_clusters(row):\n",
    "    Marker(\n",
    "        [row['lat'], row['lng']],\n",
    "        popup=f\"{row['name']} {row['rating']}\",\n",
    "    ).add_to(marker_cluster)\n",
    "\n",
    "# применяем функцию create_clusters() к каждой строке датафрейма\n",
    "cofe_df.apply(create_clusters, axis=1)\n",
    "\n",
    "# выводим карту\n",
    "m3"
   ]
  },
  {
   "cell_type": "markdown",
   "metadata": {},
   "source": [
    "У нас имеется 1413 кофейных мест. Большинство из них расположены в Центральном районе. За ними следуют юго-западные и северные части города."
   ]
  },
  {
   "cell_type": "markdown",
   "metadata": {},
   "source": [
    "### Время работы\n",
    "Посмотрим, есть ли круглосуточные кофейни."
   ]
  },
  {
   "cell_type": "code",
   "execution_count": null,
   "metadata": {},
   "outputs": [],
   "source": [
    "coffee = data.query('hours == \"ежедневно, круглосуточно\" & category == \"кофейня\"')\n",
    "coffee_house = data.query('hours == \"ежедневно, круглосуточно\" & category == \"кофейня\"') \\\n",
    "                   .groupby(by=['district_short'], as_index=False) \\\n",
    "                   .agg(count=('name', 'count'))\n",
    "print(f'Количество кругосуточных кофеен: {coffee_house[\"count\"].sum()}')"
   ]
  },
  {
   "cell_type": "code",
   "execution_count": null,
   "metadata": {},
   "outputs": [],
   "source": [
    "fig = px.bar(\n",
    "    data_frame=coffee_house.sort_values('count',ascending=False),\n",
    "    x='district_short', y='count', color='district_short', text='count',\n",
    "    title='Количество кофеен 24/7 по районам',\n",
    "    labels={'district_short': 'Район', 'count': 'Количество кафе'},\n",
    "    height=450\n",
    ")\n",
    "\n",
    "fig.update_layout(\n",
    "    legend_title='Часы работы',\n",
    "    template='plotly_white'\n",
    ")\n",
    "fig.show()"
   ]
  },
  {
   "cell_type": "code",
   "execution_count": null,
   "metadata": {},
   "outputs": [],
   "source": [
    "# создаём карту Москвы\n",
    "m4 = Map(location=[moscow_lat, moscow_lng], zoom_start=10)\n",
    "# создаём пустой кластер, добавляем его на карту\n",
    "marker_cluster = MarkerCluster().add_to(m4)\n",
    "\n",
    "# пишем функцию, которая принимает строку датафрейма,\n",
    "# создаёт маркер в текущей точке и добавляет его в кластер marker_cluster\n",
    "def create_clusters(row):\n",
    "    Marker(\n",
    "        [row['lat'], row['lng']],\n",
    "        popup=f\"{row['name']} {row['rating']}\",\n",
    "    ).add_to(marker_cluster)\n",
    "\n",
    "# применяем функцию create_clusters() к каждой строке датафрейма\n",
    "coffee.apply(create_clusters, axis=1)\n",
    "\n",
    "# выводим карту\n",
    "m4"
   ]
  },
  {
   "cell_type": "markdown",
   "metadata": {},
   "source": [
    "<div style=\"border:solid black 2px; padding: 10px\">  \n",
    "    \n",
    "**Комментарий:**  \n",
    "    \n",
    "Из этого можно сделать вывод, что в центре города наиболее распространены круглосуточные кофейни, в то время как в остальных районах это отсутствует или представлено в минимальном количестве."
   ]
  },
  {
   "cell_type": "markdown",
   "metadata": {},
   "source": [
    "### Рейтинги кофеен\n",
    "Посмотрим какие у кофеен рейтинги. Как они распределяются по районам."
   ]
  },
  {
   "cell_type": "code",
   "execution_count": null,
   "metadata": {},
   "outputs": [],
   "source": [
    "rating_cofe = cofe_df.groupby('district', as_index=False)['rating'].agg('mean').round(2).sort_values('rating', ascending=False)\n",
    "rating_cofe"
   ]
  },
  {
   "cell_type": "code",
   "execution_count": null,
   "metadata": {},
   "outputs": [],
   "source": [
    "# создаём карту Москвы\n",
    "m5 = Map(location=[moscow_lat, moscow_lng], zoom_start=10)\n",
    "\n",
    "# создаём хороплет с помощью конструктора Choropleth и добавляем его на карту\n",
    "Choropleth(\n",
    "    geo_data=state_geo,\n",
    "    data=rating_cofe,\n",
    "    columns=['district', 'rating'],\n",
    "    key_on='feature.name',\n",
    "    #fill_color='YlGn',\n",
    "    #fill_opacity=0.8,\n",
    "    legend_name='Средний рейтинг заведений по районам',\n",
    ").add_to(m5)\n",
    "\n",
    "# выводим карту\n",
    "m5"
   ]
  },
  {
   "cell_type": "markdown",
   "metadata": {},
   "source": [
    "<div style=\"border:solid black 2px; padding: 10px\">  \n",
    "    \n",
    "**Комментарий:**  \n",
    "Центральный административный округ и Северо-Западный административный округ имеют самые высокие показатели рейтинга по сравнению с другими округами, в то время как Западный административный округ имеет наименьший рейтинг."
   ]
  },
  {
   "cell_type": "markdown",
   "metadata": {},
   "source": [
    "###  Cтоимость чашки капучино\n",
    "Посмотрим на какую стоимость чашки капучино стоит ориентироваться при открытии."
   ]
  },
  {
   "cell_type": "code",
   "execution_count": null,
   "metadata": {
    "scrolled": true
   },
   "outputs": [],
   "source": [
    "middle_cofe = cofe_df.groupby('district', as_index=False)['middle_coffee_cup'].agg('mean').round().sort_values('middle_coffee_cup', ascending=False)\n",
    "display(middle_cofe)\n",
    "print('Средняя стоимость чашки кофе в Москве:', middle_cofe['middle_coffee_cup'].mean().round())"
   ]
  },
  {
   "cell_type": "code",
   "execution_count": null,
   "metadata": {},
   "outputs": [],
   "source": [
    "# создаём карту Москвы\n",
    "m6 = Map(location=[moscow_lat, moscow_lng], zoom_start=10)\n",
    "\n",
    "# создаём хороплет с помощью конструктора Choropleth и добавляем его на карту\n",
    "Choropleth(\n",
    "    geo_data=state_geo,\n",
    "    data=middle_cofe,\n",
    "    columns=['district', 'middle_coffee_cup'],\n",
    "    key_on='feature.name',\n",
    "    #fill_color='YlGn',\n",
    "    #fill_opacity=0.8,\n",
    "    legend_name='Средний цена чашки кофе по районам',\n",
    ").add_to(m6)\n",
    "\n",
    "# выводим карту\n",
    "m6"
   ]
  },
  {
   "cell_type": "markdown",
   "metadata": {},
   "source": [
    "<div style=\"border:solid black 2px; padding: 10px\">  \n",
    "    \n",
    "**Комментарий:**  \n",
    "    \n",
    "В Центральном, Западном и Юго-Западном округах находится самый дорогой кофе, средняя его стоимость составляет 180, в то время как в среднем по Москве цена за чашку кофе равна 171. Если вы собираетесь открыть новое кафе, рекомендуется определить цену на кофе исходя из района, в котором находится ваше заведение, не превышая средней цены в этом районе."
   ]
  },
  {
   "cell_type": "markdown",
   "metadata": {},
   "source": [
    "## Рекомендация"
   ]
  },
  {
   "cell_type": "markdown",
   "metadata": {},
   "source": [
    "<div style=\"border:solid black 2px; padding: 10px\"> \n",
    "    \n",
    "При запуске новой кофейни рекомендуется выбрать Центральный, Западный или Юго-Западный округа, поскольку здесь средняя стоимость кофе выше, что позволит получить хорошую прибыль. Это также позволит начать дело со сниженной ценой на кофе без больших потерь.  \n",
    "\n",
    "Стоит обдумать возможность круглосуточной работы. Западный и Юго-Западный округа являются дефицитными регионами в плане круглосуточных заведений. В Центральном округе будет лучше воспользоваться форматом 24/7, так как это самый оживленный район с большим количеством пешеходных улиц и оживлен в темное время суток. Кроме того, на западных округах наблюдается низкий рейтинг заведений, что может быть использовано как преимущество при запуске."
   ]
  },
  {
   "cell_type": "markdown",
   "metadata": {},
   "source": [
    "## Презентация"
   ]
  },
  {
   "cell_type": "markdown",
   "metadata": {},
   "source": [
    "Ссылка: https://disk.yandex.ru/i/HGCwRNmm7LF2"
   ]
  },
  {
   "cell_type": "code",
   "execution_count": null,
   "metadata": {},
   "outputs": [],
   "source": []
  }
 ],
 "metadata": {
  "ExecuteTimeLog": [
   {
    "duration": 1755,
    "start_time": "2023-04-09T14:01:13.892Z"
   },
   {
    "duration": 9,
    "start_time": "2023-04-09T14:01:45.650Z"
   },
   {
    "duration": 124,
    "start_time": "2023-04-09T14:01:55.379Z"
   },
   {
    "duration": 28,
    "start_time": "2023-04-09T14:02:38.412Z"
   },
   {
    "duration": 29,
    "start_time": "2023-04-09T14:03:23.029Z"
   },
   {
    "duration": 14,
    "start_time": "2023-04-09T14:03:33.377Z"
   },
   {
    "duration": 17,
    "start_time": "2023-04-09T14:03:54.661Z"
   },
   {
    "duration": 6,
    "start_time": "2023-04-09T14:04:17.414Z"
   },
   {
    "duration": 888,
    "start_time": "2023-04-09T14:05:32.981Z"
   },
   {
    "duration": 814,
    "start_time": "2023-04-09T14:05:39.560Z"
   },
   {
    "duration": 14,
    "start_time": "2023-04-09T14:05:44.756Z"
   },
   {
    "duration": 48,
    "start_time": "2023-04-09T14:06:22.899Z"
   },
   {
    "duration": 9,
    "start_time": "2023-04-09T14:06:25.700Z"
   },
   {
    "duration": 16,
    "start_time": "2023-04-09T14:06:49.031Z"
   },
   {
    "duration": 14,
    "start_time": "2023-04-09T14:07:03.469Z"
   },
   {
    "duration": 13,
    "start_time": "2023-04-09T14:10:10.191Z"
   },
   {
    "duration": 14,
    "start_time": "2023-04-09T14:10:22.769Z"
   },
   {
    "duration": 23,
    "start_time": "2023-04-09T14:10:30.529Z"
   },
   {
    "duration": 15,
    "start_time": "2023-04-09T14:10:47.082Z"
   },
   {
    "duration": 15,
    "start_time": "2023-04-09T14:15:10.157Z"
   },
   {
    "duration": 306,
    "start_time": "2023-04-09T14:24:43.950Z"
   },
   {
    "duration": 13,
    "start_time": "2023-04-09T14:25:16.705Z"
   },
   {
    "duration": 5,
    "start_time": "2023-04-09T14:35:19.245Z"
   },
   {
    "duration": 5,
    "start_time": "2023-04-09T14:35:22.744Z"
   },
   {
    "duration": 7,
    "start_time": "2023-04-09T14:35:23.040Z"
   },
   {
    "duration": 111,
    "start_time": "2023-04-09T14:35:23.506Z"
   },
   {
    "duration": 48,
    "start_time": "2023-04-09T14:35:24.290Z"
   },
   {
    "duration": 21,
    "start_time": "2023-04-09T14:35:25.524Z"
   },
   {
    "duration": 17,
    "start_time": "2023-04-09T14:35:33.170Z"
   },
   {
    "duration": 13,
    "start_time": "2023-04-09T14:35:34.096Z"
   },
   {
    "duration": 46,
    "start_time": "2023-04-09T14:35:36.484Z"
   },
   {
    "duration": 25,
    "start_time": "2023-04-09T14:35:38.538Z"
   },
   {
    "duration": 1693,
    "start_time": "2023-04-15T15:19:03.489Z"
   },
   {
    "duration": 5,
    "start_time": "2023-04-15T15:19:05.184Z"
   },
   {
    "duration": 114,
    "start_time": "2023-04-15T15:19:05.191Z"
   },
   {
    "duration": 37,
    "start_time": "2023-04-15T15:19:05.306Z"
   },
   {
    "duration": 14,
    "start_time": "2023-04-15T15:19:05.345Z"
   },
   {
    "duration": 26,
    "start_time": "2023-04-15T15:19:05.360Z"
   },
   {
    "duration": 8,
    "start_time": "2023-04-15T15:19:05.388Z"
   },
   {
    "duration": 26,
    "start_time": "2023-04-15T15:19:05.398Z"
   },
   {
    "duration": 29057,
    "start_time": "2023-04-15T15:22:22.550Z"
   },
   {
    "duration": 52,
    "start_time": "2023-04-15T15:23:03.416Z"
   },
   {
    "duration": 25,
    "start_time": "2023-04-15T15:23:39.760Z"
   },
   {
    "duration": 3,
    "start_time": "2023-04-15T15:25:54.654Z"
   },
   {
    "duration": 4,
    "start_time": "2023-04-15T15:26:00.804Z"
   },
   {
    "duration": 5,
    "start_time": "2023-04-15T15:26:01.126Z"
   },
   {
    "duration": 65,
    "start_time": "2023-04-15T15:26:01.350Z"
   },
   {
    "duration": 35,
    "start_time": "2023-04-15T15:26:01.541Z"
   },
   {
    "duration": 14,
    "start_time": "2023-04-15T15:26:02.289Z"
   },
   {
    "duration": 16,
    "start_time": "2023-04-15T15:26:02.484Z"
   },
   {
    "duration": 9,
    "start_time": "2023-04-15T15:26:02.999Z"
   },
   {
    "duration": 29,
    "start_time": "2023-04-15T15:26:03.190Z"
   },
   {
    "duration": 1412,
    "start_time": "2023-04-23T06:23:21.683Z"
   },
   {
    "duration": 4,
    "start_time": "2023-04-23T06:23:23.097Z"
   },
   {
    "duration": 256,
    "start_time": "2023-04-23T06:23:23.102Z"
   },
   {
    "duration": 34,
    "start_time": "2023-04-23T06:23:23.359Z"
   },
   {
    "duration": 14,
    "start_time": "2023-04-23T06:23:23.394Z"
   },
   {
    "duration": 15,
    "start_time": "2023-04-23T06:23:23.410Z"
   },
   {
    "duration": 6,
    "start_time": "2023-04-23T06:23:23.426Z"
   },
   {
    "duration": 22,
    "start_time": "2023-04-23T06:23:23.434Z"
   },
   {
    "duration": 6,
    "start_time": "2023-04-23T06:44:26.884Z"
   },
   {
    "duration": 6,
    "start_time": "2023-04-23T06:44:39.145Z"
   },
   {
    "duration": 5,
    "start_time": "2023-04-23T06:44:57.765Z"
   },
   {
    "duration": 9,
    "start_time": "2023-04-23T06:45:52.211Z"
   },
   {
    "duration": 5,
    "start_time": "2023-04-23T06:46:11.145Z"
   },
   {
    "duration": 31,
    "start_time": "2023-04-23T06:56:31.391Z"
   },
   {
    "duration": 10,
    "start_time": "2023-04-23T07:00:17.122Z"
   },
   {
    "duration": 7,
    "start_time": "2023-04-23T07:00:24.242Z"
   },
   {
    "duration": 10,
    "start_time": "2023-04-23T07:13:53.012Z"
   },
   {
    "duration": 18,
    "start_time": "2023-04-23T07:14:03.203Z"
   },
   {
    "duration": 8,
    "start_time": "2023-04-23T07:14:26.804Z"
   },
   {
    "duration": 8,
    "start_time": "2023-04-23T07:14:37.181Z"
   },
   {
    "duration": 35,
    "start_time": "2023-04-23T07:19:41.444Z"
   },
   {
    "duration": 21,
    "start_time": "2023-04-23T07:19:57.494Z"
   },
   {
    "duration": 15,
    "start_time": "2023-04-23T07:20:04.057Z"
   },
   {
    "duration": 3,
    "start_time": "2023-04-23T07:20:49.395Z"
   },
   {
    "duration": 101,
    "start_time": "2023-04-23T07:21:00.510Z"
   },
   {
    "duration": 20,
    "start_time": "2023-04-23T07:21:15.163Z"
   },
   {
    "duration": 10,
    "start_time": "2023-04-23T07:21:23.158Z"
   },
   {
    "duration": 4,
    "start_time": "2023-04-23T07:21:28.458Z"
   },
   {
    "duration": 25,
    "start_time": "2023-04-23T07:26:06.103Z"
   },
   {
    "duration": 3,
    "start_time": "2023-04-23T07:26:46.345Z"
   },
   {
    "duration": 6,
    "start_time": "2023-04-23T07:26:59.122Z"
   },
   {
    "duration": 9,
    "start_time": "2023-04-23T07:27:09.200Z"
   },
   {
    "duration": 17,
    "start_time": "2023-04-23T07:32:37.815Z"
   },
   {
    "duration": 1716,
    "start_time": "2023-04-25T06:57:30.598Z"
   },
   {
    "duration": 5,
    "start_time": "2023-04-25T06:57:32.316Z"
   },
   {
    "duration": 270,
    "start_time": "2023-04-25T06:57:32.323Z"
   },
   {
    "duration": 37,
    "start_time": "2023-04-25T06:57:32.596Z"
   },
   {
    "duration": 92,
    "start_time": "2023-04-25T06:57:32.635Z"
   },
   {
    "duration": 48,
    "start_time": "2023-04-25T06:57:32.729Z"
   },
   {
    "duration": 24,
    "start_time": "2023-04-25T06:57:32.779Z"
   },
   {
    "duration": 83,
    "start_time": "2023-04-25T06:57:32.804Z"
   },
   {
    "duration": 55,
    "start_time": "2023-04-25T06:57:32.889Z"
   },
   {
    "duration": 18,
    "start_time": "2023-04-25T06:57:32.946Z"
   },
   {
    "duration": 47,
    "start_time": "2023-04-25T06:57:32.965Z"
   },
   {
    "duration": 34,
    "start_time": "2023-04-25T06:57:33.014Z"
   },
   {
    "duration": 35,
    "start_time": "2023-04-25T06:57:33.050Z"
   },
   {
    "duration": 33,
    "start_time": "2023-04-25T06:57:33.086Z"
   },
   {
    "duration": 10,
    "start_time": "2023-04-25T06:57:33.120Z"
   },
   {
    "duration": 32,
    "start_time": "2023-04-25T06:57:33.132Z"
   },
   {
    "duration": 141,
    "start_time": "2023-04-25T06:57:33.166Z"
   },
   {
    "duration": 14,
    "start_time": "2023-04-25T07:04:04.517Z"
   },
   {
    "duration": 4,
    "start_time": "2023-04-25T07:04:12.798Z"
   },
   {
    "duration": 5,
    "start_time": "2023-04-25T07:04:12.993Z"
   },
   {
    "duration": 68,
    "start_time": "2023-04-25T07:04:13.172Z"
   },
   {
    "duration": 35,
    "start_time": "2023-04-25T07:04:13.366Z"
   },
   {
    "duration": 14,
    "start_time": "2023-04-25T07:04:13.560Z"
   },
   {
    "duration": 17,
    "start_time": "2023-04-25T07:04:13.763Z"
   },
   {
    "duration": 8,
    "start_time": "2023-04-25T07:04:13.967Z"
   },
   {
    "duration": 15,
    "start_time": "2023-04-25T07:04:14.151Z"
   },
   {
    "duration": 6,
    "start_time": "2023-04-25T07:04:14.526Z"
   },
   {
    "duration": 6,
    "start_time": "2023-04-25T07:04:14.735Z"
   },
   {
    "duration": 8,
    "start_time": "2023-04-25T07:04:14.950Z"
   },
   {
    "duration": 28,
    "start_time": "2023-04-25T07:04:15.609Z"
   },
   {
    "duration": 7,
    "start_time": "2023-04-25T07:04:15.870Z"
   },
   {
    "duration": 22,
    "start_time": "2023-04-25T07:04:16.741Z"
   },
   {
    "duration": 9,
    "start_time": "2023-04-25T07:04:17.147Z"
   },
   {
    "duration": 10,
    "start_time": "2023-04-25T07:04:17.309Z"
   },
   {
    "duration": 14,
    "start_time": "2023-04-25T07:04:17.875Z"
   },
   {
    "duration": 5,
    "start_time": "2023-04-25T07:05:57.086Z"
   },
   {
    "duration": 5,
    "start_time": "2023-04-25T07:06:21.561Z"
   },
   {
    "duration": 56,
    "start_time": "2023-04-25T07:07:05.515Z"
   },
   {
    "duration": 22,
    "start_time": "2023-04-25T07:08:38.278Z"
   },
   {
    "duration": 21,
    "start_time": "2023-04-25T07:08:44.911Z"
   },
   {
    "duration": 23,
    "start_time": "2023-04-25T07:09:23.006Z"
   },
   {
    "duration": 14,
    "start_time": "2023-04-25T07:12:05.233Z"
   },
   {
    "duration": 28,
    "start_time": "2023-04-25T07:17:22.064Z"
   },
   {
    "duration": 15,
    "start_time": "2023-04-25T07:18:23.557Z"
   },
   {
    "duration": 13,
    "start_time": "2023-04-25T07:19:55.017Z"
   },
   {
    "duration": 26,
    "start_time": "2023-04-25T07:20:03.404Z"
   },
   {
    "duration": 9,
    "start_time": "2023-04-25T07:21:01.143Z"
   },
   {
    "duration": 47,
    "start_time": "2023-04-25T07:22:50.521Z"
   },
   {
    "duration": 60,
    "start_time": "2023-04-25T07:23:08.029Z"
   },
   {
    "duration": 14,
    "start_time": "2023-04-25T07:24:00.928Z"
   },
   {
    "duration": 4,
    "start_time": "2023-04-25T07:24:06.615Z"
   },
   {
    "duration": 17,
    "start_time": "2023-04-25T07:24:08.929Z"
   },
   {
    "duration": 1422,
    "start_time": "2023-04-25T07:24:19.755Z"
   },
   {
    "duration": 5,
    "start_time": "2023-04-25T07:24:21.180Z"
   },
   {
    "duration": 178,
    "start_time": "2023-04-25T07:24:21.187Z"
   },
   {
    "duration": 0,
    "start_time": "2023-04-25T07:24:21.367Z"
   },
   {
    "duration": 0,
    "start_time": "2023-04-25T07:24:21.369Z"
   },
   {
    "duration": 0,
    "start_time": "2023-04-25T07:24:21.370Z"
   },
   {
    "duration": 0,
    "start_time": "2023-04-25T07:24:21.371Z"
   },
   {
    "duration": 0,
    "start_time": "2023-04-25T07:24:21.372Z"
   },
   {
    "duration": 0,
    "start_time": "2023-04-25T07:24:21.373Z"
   },
   {
    "duration": 0,
    "start_time": "2023-04-25T07:24:21.374Z"
   },
   {
    "duration": 0,
    "start_time": "2023-04-25T07:24:21.375Z"
   },
   {
    "duration": 0,
    "start_time": "2023-04-25T07:24:21.376Z"
   },
   {
    "duration": 0,
    "start_time": "2023-04-25T07:24:21.377Z"
   },
   {
    "duration": 0,
    "start_time": "2023-04-25T07:24:21.378Z"
   },
   {
    "duration": 0,
    "start_time": "2023-04-25T07:24:21.380Z"
   },
   {
    "duration": 0,
    "start_time": "2023-04-25T07:24:21.381Z"
   },
   {
    "duration": 0,
    "start_time": "2023-04-25T07:24:21.382Z"
   },
   {
    "duration": 0,
    "start_time": "2023-04-25T07:24:21.411Z"
   },
   {
    "duration": 0,
    "start_time": "2023-04-25T07:24:21.413Z"
   },
   {
    "duration": 0,
    "start_time": "2023-04-25T07:24:21.414Z"
   },
   {
    "duration": 0,
    "start_time": "2023-04-25T07:24:21.415Z"
   },
   {
    "duration": 0,
    "start_time": "2023-04-25T07:24:21.416Z"
   },
   {
    "duration": 0,
    "start_time": "2023-04-25T07:24:21.417Z"
   },
   {
    "duration": 0,
    "start_time": "2023-04-25T07:24:21.418Z"
   },
   {
    "duration": 4,
    "start_time": "2023-04-25T07:25:41.479Z"
   },
   {
    "duration": 5,
    "start_time": "2023-04-25T07:25:42.458Z"
   },
   {
    "duration": 83,
    "start_time": "2023-04-25T07:25:43.251Z"
   },
   {
    "duration": 40,
    "start_time": "2023-04-25T07:25:44.825Z"
   },
   {
    "duration": 14,
    "start_time": "2023-04-25T07:25:45.632Z"
   },
   {
    "duration": 18,
    "start_time": "2023-04-25T07:25:46.163Z"
   },
   {
    "duration": 10,
    "start_time": "2023-04-25T07:25:46.599Z"
   },
   {
    "duration": 30,
    "start_time": "2023-04-25T07:25:47.242Z"
   },
   {
    "duration": 6,
    "start_time": "2023-04-25T07:25:48.577Z"
   },
   {
    "duration": 7,
    "start_time": "2023-04-25T07:25:49.079Z"
   },
   {
    "duration": 9,
    "start_time": "2023-04-25T07:25:49.657Z"
   },
   {
    "duration": 27,
    "start_time": "2023-04-25T07:25:51.060Z"
   },
   {
    "duration": 7,
    "start_time": "2023-04-25T07:25:51.890Z"
   },
   {
    "duration": 19,
    "start_time": "2023-04-25T07:25:55.394Z"
   },
   {
    "duration": 9,
    "start_time": "2023-04-25T07:25:56.333Z"
   },
   {
    "duration": 9,
    "start_time": "2023-04-25T07:25:56.641Z"
   },
   {
    "duration": 4,
    "start_time": "2023-04-25T07:25:57.233Z"
   },
   {
    "duration": 4,
    "start_time": "2023-04-25T07:25:57.549Z"
   },
   {
    "duration": 24,
    "start_time": "2023-04-25T07:25:58.524Z"
   },
   {
    "duration": 13,
    "start_time": "2023-04-25T07:25:59.327Z"
   },
   {
    "duration": 21,
    "start_time": "2023-04-25T07:26:00.225Z"
   },
   {
    "duration": 29,
    "start_time": "2023-04-25T07:26:01.111Z"
   },
   {
    "duration": 67,
    "start_time": "2023-04-25T07:26:02.522Z"
   },
   {
    "duration": 5,
    "start_time": "2023-04-25T07:26:03.519Z"
   },
   {
    "duration": 10,
    "start_time": "2023-04-25T07:26:20.719Z"
   },
   {
    "duration": 8,
    "start_time": "2023-04-25T07:28:37.121Z"
   },
   {
    "duration": 8,
    "start_time": "2023-04-25T07:29:03.691Z"
   },
   {
    "duration": 9,
    "start_time": "2023-04-25T07:31:37.768Z"
   },
   {
    "duration": 4,
    "start_time": "2023-04-25T07:31:53.616Z"
   },
   {
    "duration": 8,
    "start_time": "2023-04-25T07:33:00.393Z"
   },
   {
    "duration": 9,
    "start_time": "2023-04-25T07:33:26.838Z"
   },
   {
    "duration": 4,
    "start_time": "2023-04-25T07:34:26.870Z"
   },
   {
    "duration": 4,
    "start_time": "2023-04-25T07:34:51.975Z"
   },
   {
    "duration": 10,
    "start_time": "2023-04-25T07:35:37.001Z"
   },
   {
    "duration": 1437,
    "start_time": "2023-04-25T07:36:46.168Z"
   },
   {
    "duration": 6,
    "start_time": "2023-04-25T07:36:47.606Z"
   },
   {
    "duration": 87,
    "start_time": "2023-04-25T07:36:47.613Z"
   },
   {
    "duration": 39,
    "start_time": "2023-04-25T07:36:47.703Z"
   },
   {
    "duration": 14,
    "start_time": "2023-04-25T07:36:47.743Z"
   },
   {
    "duration": 23,
    "start_time": "2023-04-25T07:36:47.759Z"
   },
   {
    "duration": 27,
    "start_time": "2023-04-25T07:36:47.784Z"
   },
   {
    "duration": 56,
    "start_time": "2023-04-25T07:36:47.813Z"
   },
   {
    "duration": 5,
    "start_time": "2023-04-25T07:36:47.871Z"
   },
   {
    "duration": 30,
    "start_time": "2023-04-25T07:36:47.879Z"
   },
   {
    "duration": 26,
    "start_time": "2023-04-25T07:36:47.911Z"
   },
   {
    "duration": 41,
    "start_time": "2023-04-25T07:36:47.939Z"
   },
   {
    "duration": 6,
    "start_time": "2023-04-25T07:36:47.981Z"
   },
   {
    "duration": 13,
    "start_time": "2023-04-25T07:36:47.988Z"
   },
   {
    "duration": 10,
    "start_time": "2023-04-25T07:36:48.003Z"
   },
   {
    "duration": 5,
    "start_time": "2023-04-25T07:36:48.014Z"
   },
   {
    "duration": 15,
    "start_time": "2023-04-25T07:36:48.020Z"
   },
   {
    "duration": 11,
    "start_time": "2023-04-25T07:36:48.037Z"
   },
   {
    "duration": 11,
    "start_time": "2023-04-25T07:36:48.049Z"
   },
   {
    "duration": 5,
    "start_time": "2023-04-25T07:36:48.061Z"
   },
   {
    "duration": 21,
    "start_time": "2023-04-25T07:36:48.068Z"
   },
   {
    "duration": 28,
    "start_time": "2023-04-25T07:36:48.091Z"
   },
   {
    "duration": 8,
    "start_time": "2023-04-25T07:36:48.121Z"
   },
   {
    "duration": 11,
    "start_time": "2023-04-25T07:36:48.130Z"
   },
   {
    "duration": 11,
    "start_time": "2023-04-25T07:36:48.143Z"
   },
   {
    "duration": 10,
    "start_time": "2023-04-25T07:36:48.156Z"
   },
   {
    "duration": 55,
    "start_time": "2023-04-25T07:36:48.167Z"
   },
   {
    "duration": 12,
    "start_time": "2023-04-25T07:36:48.225Z"
   },
   {
    "duration": 22,
    "start_time": "2023-04-25T07:36:48.239Z"
   },
   {
    "duration": 28,
    "start_time": "2023-04-25T07:36:48.263Z"
   },
   {
    "duration": 80,
    "start_time": "2023-04-25T07:36:48.292Z"
   },
   {
    "duration": 5,
    "start_time": "2023-04-25T07:36:48.374Z"
   },
   {
    "duration": 32,
    "start_time": "2023-04-25T07:36:48.380Z"
   },
   {
    "duration": 1488,
    "start_time": "2023-04-25T07:38:35.625Z"
   },
   {
    "duration": 5,
    "start_time": "2023-04-25T07:38:37.115Z"
   },
   {
    "duration": 75,
    "start_time": "2023-04-25T07:38:37.122Z"
   },
   {
    "duration": 40,
    "start_time": "2023-04-25T07:38:37.200Z"
   },
   {
    "duration": 14,
    "start_time": "2023-04-25T07:38:37.242Z"
   },
   {
    "duration": 19,
    "start_time": "2023-04-25T07:38:37.258Z"
   },
   {
    "duration": 37,
    "start_time": "2023-04-25T07:38:37.279Z"
   },
   {
    "duration": 33,
    "start_time": "2023-04-25T07:38:37.317Z"
   },
   {
    "duration": 5,
    "start_time": "2023-04-25T07:38:37.352Z"
   },
   {
    "duration": 6,
    "start_time": "2023-04-25T07:38:37.359Z"
   },
   {
    "duration": 10,
    "start_time": "2023-04-25T07:38:37.366Z"
   },
   {
    "duration": 53,
    "start_time": "2023-04-25T07:38:37.378Z"
   },
   {
    "duration": 10,
    "start_time": "2023-04-25T07:38:37.433Z"
   },
   {
    "duration": 8,
    "start_time": "2023-04-25T07:38:37.444Z"
   },
   {
    "duration": 9,
    "start_time": "2023-04-25T07:38:37.454Z"
   },
   {
    "duration": 4,
    "start_time": "2023-04-25T07:38:37.465Z"
   },
   {
    "duration": 10,
    "start_time": "2023-04-25T07:38:37.471Z"
   },
   {
    "duration": 38,
    "start_time": "2023-04-25T07:38:37.482Z"
   },
   {
    "duration": 11,
    "start_time": "2023-04-25T07:38:37.522Z"
   },
   {
    "duration": 4,
    "start_time": "2023-04-25T07:38:37.535Z"
   },
   {
    "duration": 12,
    "start_time": "2023-04-25T07:38:37.541Z"
   },
   {
    "duration": 22,
    "start_time": "2023-04-25T07:38:37.554Z"
   },
   {
    "duration": 38,
    "start_time": "2023-04-25T07:38:37.578Z"
   },
   {
    "duration": 9,
    "start_time": "2023-04-25T07:38:37.618Z"
   },
   {
    "duration": 6,
    "start_time": "2023-04-25T07:38:37.629Z"
   },
   {
    "duration": 10,
    "start_time": "2023-04-25T07:38:37.636Z"
   },
   {
    "duration": 23,
    "start_time": "2023-04-25T07:38:37.648Z"
   },
   {
    "duration": 42,
    "start_time": "2023-04-25T07:38:37.674Z"
   },
   {
    "duration": 22,
    "start_time": "2023-04-25T07:38:37.718Z"
   },
   {
    "duration": 28,
    "start_time": "2023-04-25T07:38:37.742Z"
   },
   {
    "duration": 88,
    "start_time": "2023-04-25T07:38:37.772Z"
   },
   {
    "duration": 5,
    "start_time": "2023-04-25T07:38:37.862Z"
   },
   {
    "duration": 23,
    "start_time": "2023-04-25T07:38:37.869Z"
   },
   {
    "duration": 5,
    "start_time": "2023-04-25T07:40:04.003Z"
   },
   {
    "duration": 4,
    "start_time": "2023-04-25T07:40:33.737Z"
   },
   {
    "duration": 12,
    "start_time": "2023-04-25T07:43:02.836Z"
   },
   {
    "duration": 13,
    "start_time": "2023-04-25T07:43:19.103Z"
   },
   {
    "duration": 182,
    "start_time": "2023-04-25T07:43:35.173Z"
   },
   {
    "duration": 309,
    "start_time": "2023-04-25T07:43:57.150Z"
   },
   {
    "duration": 50,
    "start_time": "2023-04-25T07:48:30.310Z"
   },
   {
    "duration": 31,
    "start_time": "2023-04-25T08:08:50.618Z"
   },
   {
    "duration": 156,
    "start_time": "2023-04-25T08:09:17.780Z"
   },
   {
    "duration": 579,
    "start_time": "2023-04-25T08:09:31.977Z"
   },
   {
    "duration": 537,
    "start_time": "2023-04-25T08:10:04.795Z"
   },
   {
    "duration": 16,
    "start_time": "2023-04-25T08:11:33.358Z"
   },
   {
    "duration": 47,
    "start_time": "2023-04-25T08:11:52.255Z"
   },
   {
    "duration": 46,
    "start_time": "2023-04-25T08:12:08.276Z"
   },
   {
    "duration": 573,
    "start_time": "2023-04-25T08:13:21.764Z"
   },
   {
    "duration": 584,
    "start_time": "2023-04-25T08:14:00.783Z"
   },
   {
    "duration": 587,
    "start_time": "2023-04-25T08:14:07.605Z"
   },
   {
    "duration": 31,
    "start_time": "2023-04-25T08:14:13.036Z"
   },
   {
    "duration": 701,
    "start_time": "2023-04-25T08:14:17.694Z"
   },
   {
    "duration": 28,
    "start_time": "2023-04-25T08:14:21.386Z"
   },
   {
    "duration": 19,
    "start_time": "2023-04-25T08:19:25.906Z"
   },
   {
    "duration": 15,
    "start_time": "2023-04-25T08:21:33.691Z"
   },
   {
    "duration": 54,
    "start_time": "2023-04-25T08:21:46.990Z"
   },
   {
    "duration": 52,
    "start_time": "2023-04-25T08:22:33.009Z"
   },
   {
    "duration": 100,
    "start_time": "2023-04-25T08:27:11.744Z"
   },
   {
    "duration": 95,
    "start_time": "2023-04-25T08:28:01.355Z"
   },
   {
    "duration": 3,
    "start_time": "2023-04-25T08:31:26.706Z"
   },
   {
    "duration": 64,
    "start_time": "2023-04-25T08:32:21.857Z"
   },
   {
    "duration": 22,
    "start_time": "2023-04-25T08:35:57.041Z"
   },
   {
    "duration": 74,
    "start_time": "2023-04-25T08:36:44.713Z"
   },
   {
    "duration": 5,
    "start_time": "2023-04-25T08:43:03.299Z"
   },
   {
    "duration": 17,
    "start_time": "2023-04-25T08:43:16.303Z"
   },
   {
    "duration": 73,
    "start_time": "2023-04-25T08:44:08.608Z"
   },
   {
    "duration": 28,
    "start_time": "2023-04-25T08:48:30.801Z"
   },
   {
    "duration": 89,
    "start_time": "2023-04-25T08:49:06.503Z"
   },
   {
    "duration": 1632,
    "start_time": "2023-04-25T09:51:29.683Z"
   },
   {
    "duration": 5,
    "start_time": "2023-04-25T09:51:31.318Z"
   },
   {
    "duration": 114,
    "start_time": "2023-04-25T09:51:31.325Z"
   },
   {
    "duration": 40,
    "start_time": "2023-04-25T09:51:31.442Z"
   },
   {
    "duration": 37,
    "start_time": "2023-04-25T09:51:31.483Z"
   },
   {
    "duration": 37,
    "start_time": "2023-04-25T09:51:31.522Z"
   },
   {
    "duration": 16,
    "start_time": "2023-04-25T09:51:31.561Z"
   },
   {
    "duration": 82,
    "start_time": "2023-04-25T09:51:31.579Z"
   },
   {
    "duration": 30,
    "start_time": "2023-04-25T09:51:31.663Z"
   },
   {
    "duration": 76,
    "start_time": "2023-04-25T09:51:31.696Z"
   },
   {
    "duration": 46,
    "start_time": "2023-04-25T09:51:31.774Z"
   },
   {
    "duration": 74,
    "start_time": "2023-04-25T09:51:31.822Z"
   },
   {
    "duration": 54,
    "start_time": "2023-04-25T09:51:31.898Z"
   },
   {
    "duration": 26,
    "start_time": "2023-04-25T09:51:31.953Z"
   },
   {
    "duration": 22,
    "start_time": "2023-04-25T09:51:31.981Z"
   },
   {
    "duration": 49,
    "start_time": "2023-04-25T09:51:32.006Z"
   },
   {
    "duration": 37,
    "start_time": "2023-04-25T09:51:32.057Z"
   },
   {
    "duration": 42,
    "start_time": "2023-04-25T09:51:32.096Z"
   },
   {
    "duration": 83,
    "start_time": "2023-04-25T09:51:32.141Z"
   },
   {
    "duration": 56,
    "start_time": "2023-04-25T09:51:32.225Z"
   },
   {
    "duration": 36,
    "start_time": "2023-04-25T09:51:32.284Z"
   },
   {
    "duration": 34,
    "start_time": "2023-04-25T09:51:32.322Z"
   },
   {
    "duration": 32,
    "start_time": "2023-04-25T09:51:32.358Z"
   },
   {
    "duration": 26,
    "start_time": "2023-04-25T09:51:32.393Z"
   },
   {
    "duration": 29,
    "start_time": "2023-04-25T09:51:32.422Z"
   },
   {
    "duration": 28,
    "start_time": "2023-04-25T09:51:32.453Z"
   },
   {
    "duration": 85,
    "start_time": "2023-04-25T09:51:32.484Z"
   },
   {
    "duration": 21,
    "start_time": "2023-04-25T09:51:32.574Z"
   },
   {
    "duration": 48,
    "start_time": "2023-04-25T09:51:32.598Z"
   },
   {
    "duration": 33,
    "start_time": "2023-04-25T09:51:32.648Z"
   },
   {
    "duration": 84,
    "start_time": "2023-04-25T09:51:32.683Z"
   },
   {
    "duration": 7,
    "start_time": "2023-04-25T09:51:32.769Z"
   },
   {
    "duration": 112,
    "start_time": "2023-04-25T09:51:32.778Z"
   },
   {
    "duration": 30,
    "start_time": "2023-04-25T09:51:32.892Z"
   },
   {
    "duration": 204,
    "start_time": "2023-04-25T09:51:32.925Z"
   },
   {
    "duration": 436,
    "start_time": "2023-04-25T09:51:33.131Z"
   },
   {
    "duration": 18,
    "start_time": "2023-04-25T09:51:33.569Z"
   },
   {
    "duration": 65,
    "start_time": "2023-04-25T09:51:33.589Z"
   },
   {
    "duration": 20,
    "start_time": "2023-04-25T09:51:33.656Z"
   },
   {
    "duration": 46,
    "start_time": "2023-04-25T09:51:33.678Z"
   },
   {
    "duration": 62,
    "start_time": "2023-04-25T09:51:33.726Z"
   },
   {
    "duration": 153,
    "start_time": "2023-04-25T09:51:33.790Z"
   },
   {
    "duration": 110,
    "start_time": "2023-04-25T09:51:33.945Z"
   },
   {
    "duration": 4,
    "start_time": "2023-04-25T09:51:34.057Z"
   },
   {
    "duration": 87,
    "start_time": "2023-04-25T09:51:34.063Z"
   },
   {
    "duration": 23,
    "start_time": "2023-04-25T09:51:34.153Z"
   },
   {
    "duration": 99,
    "start_time": "2023-04-25T09:51:34.178Z"
   },
   {
    "duration": 5,
    "start_time": "2023-04-25T09:51:34.279Z"
   },
   {
    "duration": 54,
    "start_time": "2023-04-25T09:51:34.286Z"
   },
   {
    "duration": 79,
    "start_time": "2023-04-25T09:51:34.342Z"
   },
   {
    "duration": 25,
    "start_time": "2023-04-25T09:51:34.423Z"
   },
   {
    "duration": 94,
    "start_time": "2023-04-25T09:51:34.450Z"
   },
   {
    "duration": 14,
    "start_time": "2023-04-25T09:52:40.476Z"
   },
   {
    "duration": 144,
    "start_time": "2023-04-25T09:52:50.152Z"
   },
   {
    "duration": 127,
    "start_time": "2023-04-25T09:53:01.016Z"
   },
   {
    "duration": 244,
    "start_time": "2023-04-25T09:53:08.636Z"
   },
   {
    "duration": 271,
    "start_time": "2023-04-25T09:56:00.520Z"
   },
   {
    "duration": 10276,
    "start_time": "2023-04-25T09:56:30.393Z"
   },
   {
    "duration": 10564,
    "start_time": "2023-04-25T09:56:47.001Z"
   },
   {
    "duration": 807,
    "start_time": "2023-04-25T09:59:58.202Z"
   },
   {
    "duration": 19,
    "start_time": "2023-04-25T10:03:34.249Z"
   },
   {
    "duration": 836,
    "start_time": "2023-04-25T10:05:37.427Z"
   },
   {
    "duration": 15,
    "start_time": "2023-04-25T10:05:43.900Z"
   },
   {
    "duration": 822,
    "start_time": "2023-04-25T10:05:44.599Z"
   },
   {
    "duration": 16,
    "start_time": "2023-04-25T10:05:56.592Z"
   },
   {
    "duration": 5,
    "start_time": "2023-04-25T10:12:41.057Z"
   },
   {
    "duration": 1570,
    "start_time": "2023-04-25T10:12:50.557Z"
   },
   {
    "duration": 10,
    "start_time": "2023-04-25T10:12:52.129Z"
   },
   {
    "duration": 74,
    "start_time": "2023-04-25T10:12:52.142Z"
   },
   {
    "duration": 38,
    "start_time": "2023-04-25T10:12:52.219Z"
   },
   {
    "duration": 14,
    "start_time": "2023-04-25T10:12:52.260Z"
   },
   {
    "duration": 47,
    "start_time": "2023-04-25T10:12:52.275Z"
   },
   {
    "duration": 10,
    "start_time": "2023-04-25T10:12:52.324Z"
   },
   {
    "duration": 33,
    "start_time": "2023-04-25T10:12:52.336Z"
   },
   {
    "duration": 5,
    "start_time": "2023-04-25T10:12:52.371Z"
   },
   {
    "duration": 9,
    "start_time": "2023-04-25T10:12:52.411Z"
   },
   {
    "duration": 11,
    "start_time": "2023-04-25T10:12:52.422Z"
   },
   {
    "duration": 29,
    "start_time": "2023-04-25T10:12:52.435Z"
   },
   {
    "duration": 6,
    "start_time": "2023-04-25T10:12:52.467Z"
   },
   {
    "duration": 40,
    "start_time": "2023-04-25T10:12:52.475Z"
   },
   {
    "duration": 10,
    "start_time": "2023-04-25T10:12:52.517Z"
   },
   {
    "duration": 5,
    "start_time": "2023-04-25T10:12:52.528Z"
   },
   {
    "duration": 9,
    "start_time": "2023-04-25T10:12:52.535Z"
   },
   {
    "duration": 13,
    "start_time": "2023-04-25T10:12:52.546Z"
   },
   {
    "duration": 5,
    "start_time": "2023-04-25T10:12:52.561Z"
   },
   {
    "duration": 10,
    "start_time": "2023-04-25T10:12:52.568Z"
   },
   {
    "duration": 33,
    "start_time": "2023-04-25T10:12:52.580Z"
   },
   {
    "duration": 32,
    "start_time": "2023-04-25T10:12:52.615Z"
   },
   {
    "duration": 9,
    "start_time": "2023-04-25T10:12:52.649Z"
   },
   {
    "duration": 13,
    "start_time": "2023-04-25T10:12:52.659Z"
   },
   {
    "duration": 5,
    "start_time": "2023-04-25T10:12:52.675Z"
   },
   {
    "duration": 30,
    "start_time": "2023-04-25T10:12:52.682Z"
   },
   {
    "duration": 25,
    "start_time": "2023-04-25T10:12:52.714Z"
   },
   {
    "duration": 14,
    "start_time": "2023-04-25T10:12:52.743Z"
   },
   {
    "duration": 55,
    "start_time": "2023-04-25T10:12:52.758Z"
   },
   {
    "duration": 33,
    "start_time": "2023-04-25T10:12:52.815Z"
   },
   {
    "duration": 99,
    "start_time": "2023-04-25T10:12:52.850Z"
   },
   {
    "duration": 6,
    "start_time": "2023-04-25T10:12:52.951Z"
   },
   {
    "duration": 5,
    "start_time": "2023-04-25T10:12:52.960Z"
   },
   {
    "duration": 18,
    "start_time": "2023-04-25T10:12:52.967Z"
   },
   {
    "duration": 169,
    "start_time": "2023-04-25T10:12:52.987Z"
   },
   {
    "duration": 410,
    "start_time": "2023-04-25T10:12:53.158Z"
   },
   {
    "duration": 17,
    "start_time": "2023-04-25T10:12:53.570Z"
   },
   {
    "duration": 65,
    "start_time": "2023-04-25T10:12:53.589Z"
   },
   {
    "duration": 18,
    "start_time": "2023-04-25T10:12:53.656Z"
   },
   {
    "duration": 48,
    "start_time": "2023-04-25T10:12:53.676Z"
   },
   {
    "duration": 57,
    "start_time": "2023-04-25T10:12:53.725Z"
   },
   {
    "duration": 146,
    "start_time": "2023-04-25T10:12:53.785Z"
   },
   {
    "duration": 139,
    "start_time": "2023-04-25T10:12:53.933Z"
   },
   {
    "duration": 3,
    "start_time": "2023-04-25T10:12:54.074Z"
   },
   {
    "duration": 75,
    "start_time": "2023-04-25T10:12:54.079Z"
   },
   {
    "duration": 25,
    "start_time": "2023-04-25T10:12:54.156Z"
   },
   {
    "duration": 98,
    "start_time": "2023-04-25T10:12:54.182Z"
   },
   {
    "duration": 5,
    "start_time": "2023-04-25T10:12:54.281Z"
   },
   {
    "duration": 38,
    "start_time": "2023-04-25T10:12:54.288Z"
   },
   {
    "duration": 90,
    "start_time": "2023-04-25T10:12:54.328Z"
   },
   {
    "duration": 16,
    "start_time": "2023-04-25T10:12:54.419Z"
   },
   {
    "duration": 104,
    "start_time": "2023-04-25T10:12:54.437Z"
   },
   {
    "duration": 13,
    "start_time": "2023-04-25T10:12:54.543Z"
   },
   {
    "duration": 40,
    "start_time": "2023-04-25T10:12:54.557Z"
   },
   {
    "duration": 122,
    "start_time": "2023-04-25T10:12:54.599Z"
   },
   {
    "duration": 10643,
    "start_time": "2023-04-25T10:12:54.723Z"
   },
   {
    "duration": 175,
    "start_time": "2023-04-25T10:13:05.368Z"
   },
   {
    "duration": 79,
    "start_time": "2023-04-25T10:13:05.545Z"
   },
   {
    "duration": 20,
    "start_time": "2023-04-25T10:15:44.325Z"
   },
   {
    "duration": 14,
    "start_time": "2023-04-25T10:15:55.894Z"
   },
   {
    "duration": 82,
    "start_time": "2023-04-25T10:16:57.449Z"
   },
   {
    "duration": 22,
    "start_time": "2023-04-25T10:20:27.795Z"
   },
   {
    "duration": 9,
    "start_time": "2023-04-25T10:20:37.653Z"
   },
   {
    "duration": 207,
    "start_time": "2023-04-25T10:21:56.192Z"
   },
   {
    "duration": 12,
    "start_time": "2023-04-25T10:22:00.000Z"
   },
   {
    "duration": 17,
    "start_time": "2023-04-25T10:22:27.924Z"
   },
   {
    "duration": 16,
    "start_time": "2023-04-25T10:22:43.129Z"
   },
   {
    "duration": 138,
    "start_time": "2023-04-25T10:23:04.800Z"
   },
   {
    "duration": 19,
    "start_time": "2023-04-25T10:25:24.405Z"
   },
   {
    "duration": 345,
    "start_time": "2023-04-25T10:25:24.648Z"
   },
   {
    "duration": 20,
    "start_time": "2023-04-25T10:25:47.332Z"
   },
   {
    "duration": 16,
    "start_time": "2023-04-25T10:25:50.660Z"
   },
   {
    "duration": 126,
    "start_time": "2023-04-25T10:25:56.122Z"
   },
   {
    "duration": 12,
    "start_time": "2023-04-25T10:28:48.145Z"
   },
   {
    "duration": 49,
    "start_time": "2023-04-25T10:29:26.118Z"
   },
   {
    "duration": 11,
    "start_time": "2023-04-25T10:29:30.735Z"
   },
   {
    "duration": 18,
    "start_time": "2023-04-25T10:29:47.704Z"
   },
   {
    "duration": 143,
    "start_time": "2023-04-25T10:30:26.251Z"
   },
   {
    "duration": 1638,
    "start_time": "2023-04-25T10:35:55.822Z"
   },
   {
    "duration": 5,
    "start_time": "2023-04-25T10:35:57.463Z"
   },
   {
    "duration": 92,
    "start_time": "2023-04-25T10:35:57.470Z"
   },
   {
    "duration": 51,
    "start_time": "2023-04-25T10:35:57.564Z"
   },
   {
    "duration": 17,
    "start_time": "2023-04-25T10:35:57.617Z"
   },
   {
    "duration": 20,
    "start_time": "2023-04-25T10:35:57.637Z"
   },
   {
    "duration": 13,
    "start_time": "2023-04-25T10:35:57.659Z"
   },
   {
    "duration": 78,
    "start_time": "2023-04-25T10:35:57.675Z"
   },
   {
    "duration": 6,
    "start_time": "2023-04-25T10:35:57.755Z"
   },
   {
    "duration": 8,
    "start_time": "2023-04-25T10:35:57.765Z"
   },
   {
    "duration": 38,
    "start_time": "2023-04-25T10:35:57.775Z"
   },
   {
    "duration": 29,
    "start_time": "2023-04-25T10:35:57.814Z"
   },
   {
    "duration": 13,
    "start_time": "2023-04-25T10:35:57.845Z"
   },
   {
    "duration": 32,
    "start_time": "2023-04-25T10:35:57.860Z"
   },
   {
    "duration": 24,
    "start_time": "2023-04-25T10:35:57.894Z"
   },
   {
    "duration": 22,
    "start_time": "2023-04-25T10:35:57.920Z"
   },
   {
    "duration": 13,
    "start_time": "2023-04-25T10:35:57.944Z"
   },
   {
    "duration": 25,
    "start_time": "2023-04-25T10:35:57.960Z"
   },
   {
    "duration": 5,
    "start_time": "2023-04-25T10:35:57.988Z"
   },
   {
    "duration": 10,
    "start_time": "2023-04-25T10:35:57.994Z"
   },
   {
    "duration": 17,
    "start_time": "2023-04-25T10:35:58.006Z"
   },
   {
    "duration": 28,
    "start_time": "2023-04-25T10:35:58.025Z"
   },
   {
    "duration": 9,
    "start_time": "2023-04-25T10:35:58.055Z"
   },
   {
    "duration": 22,
    "start_time": "2023-04-25T10:35:58.065Z"
   },
   {
    "duration": 10,
    "start_time": "2023-04-25T10:35:58.088Z"
   },
   {
    "duration": 11,
    "start_time": "2023-04-25T10:35:58.101Z"
   },
   {
    "duration": 31,
    "start_time": "2023-04-25T10:35:58.113Z"
   },
   {
    "duration": 15,
    "start_time": "2023-04-25T10:35:58.149Z"
   },
   {
    "duration": 31,
    "start_time": "2023-04-25T10:35:58.166Z"
   },
   {
    "duration": 30,
    "start_time": "2023-04-25T10:35:58.212Z"
   },
   {
    "duration": 82,
    "start_time": "2023-04-25T10:35:58.243Z"
   },
   {
    "duration": 6,
    "start_time": "2023-04-25T10:35:58.327Z"
   },
   {
    "duration": 8,
    "start_time": "2023-04-25T10:35:58.335Z"
   },
   {
    "duration": 22,
    "start_time": "2023-04-25T10:35:58.345Z"
   },
   {
    "duration": 173,
    "start_time": "2023-04-25T10:35:58.369Z"
   },
   {
    "duration": 459,
    "start_time": "2023-04-25T10:35:58.544Z"
   },
   {
    "duration": 27,
    "start_time": "2023-04-25T10:35:59.005Z"
   },
   {
    "duration": 78,
    "start_time": "2023-04-25T10:35:59.038Z"
   },
   {
    "duration": 29,
    "start_time": "2023-04-25T10:35:59.118Z"
   },
   {
    "duration": 23,
    "start_time": "2023-04-25T10:35:59.149Z"
   },
   {
    "duration": 94,
    "start_time": "2023-04-25T10:35:59.174Z"
   },
   {
    "duration": 132,
    "start_time": "2023-04-25T10:35:59.269Z"
   },
   {
    "duration": 132,
    "start_time": "2023-04-25T10:35:59.403Z"
   },
   {
    "duration": 4,
    "start_time": "2023-04-25T10:35:59.537Z"
   },
   {
    "duration": 82,
    "start_time": "2023-04-25T10:35:59.543Z"
   },
   {
    "duration": 23,
    "start_time": "2023-04-25T10:35:59.628Z"
   },
   {
    "duration": 99,
    "start_time": "2023-04-25T10:35:59.652Z"
   },
   {
    "duration": 5,
    "start_time": "2023-04-25T10:35:59.753Z"
   },
   {
    "duration": 30,
    "start_time": "2023-04-25T10:35:59.760Z"
   },
   {
    "duration": 95,
    "start_time": "2023-04-25T10:35:59.792Z"
   },
   {
    "duration": 32,
    "start_time": "2023-04-25T10:35:59.890Z"
   },
   {
    "duration": 114,
    "start_time": "2023-04-25T10:35:59.925Z"
   },
   {
    "duration": 20,
    "start_time": "2023-04-25T10:36:00.042Z"
   },
   {
    "duration": 41,
    "start_time": "2023-04-25T10:36:00.064Z"
   },
   {
    "duration": 115,
    "start_time": "2023-04-25T10:36:00.108Z"
   },
   {
    "duration": 10654,
    "start_time": "2023-04-25T10:36:00.225Z"
   },
   {
    "duration": 155,
    "start_time": "2023-04-25T10:36:10.881Z"
   },
   {
    "duration": 18,
    "start_time": "2023-04-25T10:36:11.038Z"
   },
   {
    "duration": 21,
    "start_time": "2023-04-25T10:36:11.112Z"
   },
   {
    "duration": 14,
    "start_time": "2023-04-25T10:36:11.135Z"
   },
   {
    "duration": 130,
    "start_time": "2023-04-25T10:36:11.152Z"
   },
   {
    "duration": 33,
    "start_time": "2023-04-25T10:36:11.284Z"
   },
   {
    "duration": 11,
    "start_time": "2023-04-25T10:36:11.319Z"
   },
   {
    "duration": 21,
    "start_time": "2023-04-25T10:36:11.332Z"
   },
   {
    "duration": 142,
    "start_time": "2023-04-25T10:36:11.355Z"
   },
   {
    "duration": 13,
    "start_time": "2023-04-25T10:55:13.511Z"
   },
   {
    "duration": 318,
    "start_time": "2023-04-25T10:55:21.199Z"
   },
   {
    "duration": 12,
    "start_time": "2023-04-25T10:55:37.693Z"
   },
   {
    "duration": 122,
    "start_time": "2023-04-25T10:55:40.543Z"
   },
   {
    "duration": 12,
    "start_time": "2023-04-25T10:55:52.388Z"
   },
   {
    "duration": 83,
    "start_time": "2023-04-25T11:11:30.345Z"
   },
   {
    "duration": 15,
    "start_time": "2023-04-25T11:11:41.424Z"
   },
   {
    "duration": 134,
    "start_time": "2023-04-25T11:11:48.385Z"
   },
   {
    "duration": 1746,
    "start_time": "2023-04-25T11:14:08.283Z"
   },
   {
    "duration": 6,
    "start_time": "2023-04-25T11:14:10.031Z"
   },
   {
    "duration": 81,
    "start_time": "2023-04-25T11:14:10.038Z"
   },
   {
    "duration": 39,
    "start_time": "2023-04-25T11:14:10.121Z"
   },
   {
    "duration": 15,
    "start_time": "2023-04-25T11:14:10.162Z"
   },
   {
    "duration": 49,
    "start_time": "2023-04-25T11:14:10.179Z"
   },
   {
    "duration": 13,
    "start_time": "2023-04-25T11:14:10.230Z"
   },
   {
    "duration": 38,
    "start_time": "2023-04-25T11:14:10.245Z"
   },
   {
    "duration": 5,
    "start_time": "2023-04-25T11:14:10.284Z"
   },
   {
    "duration": 34,
    "start_time": "2023-04-25T11:14:10.292Z"
   },
   {
    "duration": 11,
    "start_time": "2023-04-25T11:14:10.329Z"
   },
   {
    "duration": 28,
    "start_time": "2023-04-25T11:14:10.342Z"
   },
   {
    "duration": 12,
    "start_time": "2023-04-25T11:14:10.372Z"
   },
   {
    "duration": 13,
    "start_time": "2023-04-25T11:14:10.386Z"
   },
   {
    "duration": 21,
    "start_time": "2023-04-25T11:14:10.413Z"
   },
   {
    "duration": 4,
    "start_time": "2023-04-25T11:14:10.435Z"
   },
   {
    "duration": 8,
    "start_time": "2023-04-25T11:14:10.441Z"
   },
   {
    "duration": 10,
    "start_time": "2023-04-25T11:14:10.452Z"
   },
   {
    "duration": 4,
    "start_time": "2023-04-25T11:14:10.464Z"
   },
   {
    "duration": 9,
    "start_time": "2023-04-25T11:14:10.470Z"
   },
   {
    "duration": 37,
    "start_time": "2023-04-25T11:14:10.480Z"
   },
   {
    "duration": 28,
    "start_time": "2023-04-25T11:14:10.519Z"
   },
   {
    "duration": 11,
    "start_time": "2023-04-25T11:14:10.549Z"
   },
   {
    "duration": 14,
    "start_time": "2023-04-25T11:14:10.562Z"
   },
   {
    "duration": 5,
    "start_time": "2023-04-25T11:14:10.579Z"
   },
   {
    "duration": 9,
    "start_time": "2023-04-25T11:14:10.619Z"
   },
   {
    "duration": 28,
    "start_time": "2023-04-25T11:14:10.630Z"
   },
   {
    "duration": 14,
    "start_time": "2023-04-25T11:14:10.662Z"
   },
   {
    "duration": 47,
    "start_time": "2023-04-25T11:14:10.678Z"
   },
   {
    "duration": 29,
    "start_time": "2023-04-25T11:14:10.727Z"
   },
   {
    "duration": 75,
    "start_time": "2023-04-25T11:14:10.758Z"
   },
   {
    "duration": 6,
    "start_time": "2023-04-25T11:14:10.835Z"
   },
   {
    "duration": 140,
    "start_time": "2023-04-25T11:14:10.842Z"
   },
   {
    "duration": 0,
    "start_time": "2023-04-25T11:14:10.983Z"
   },
   {
    "duration": 0,
    "start_time": "2023-04-25T11:14:10.985Z"
   },
   {
    "duration": 0,
    "start_time": "2023-04-25T11:14:10.987Z"
   },
   {
    "duration": 0,
    "start_time": "2023-04-25T11:14:10.988Z"
   },
   {
    "duration": 0,
    "start_time": "2023-04-25T11:14:10.989Z"
   },
   {
    "duration": 0,
    "start_time": "2023-04-25T11:14:10.990Z"
   },
   {
    "duration": 0,
    "start_time": "2023-04-25T11:14:10.991Z"
   },
   {
    "duration": 0,
    "start_time": "2023-04-25T11:14:10.992Z"
   },
   {
    "duration": 0,
    "start_time": "2023-04-25T11:14:10.993Z"
   },
   {
    "duration": 0,
    "start_time": "2023-04-25T11:14:11.015Z"
   },
   {
    "duration": 0,
    "start_time": "2023-04-25T11:14:11.016Z"
   },
   {
    "duration": 0,
    "start_time": "2023-04-25T11:14:11.017Z"
   },
   {
    "duration": 0,
    "start_time": "2023-04-25T11:14:11.018Z"
   },
   {
    "duration": 1,
    "start_time": "2023-04-25T11:14:11.018Z"
   },
   {
    "duration": 0,
    "start_time": "2023-04-25T11:14:11.019Z"
   },
   {
    "duration": 0,
    "start_time": "2023-04-25T11:14:11.020Z"
   },
   {
    "duration": 0,
    "start_time": "2023-04-25T11:14:11.022Z"
   },
   {
    "duration": 0,
    "start_time": "2023-04-25T11:14:11.025Z"
   },
   {
    "duration": 0,
    "start_time": "2023-04-25T11:14:11.026Z"
   },
   {
    "duration": 0,
    "start_time": "2023-04-25T11:14:11.027Z"
   },
   {
    "duration": 1,
    "start_time": "2023-04-25T11:14:11.028Z"
   },
   {
    "duration": 0,
    "start_time": "2023-04-25T11:14:11.030Z"
   },
   {
    "duration": 0,
    "start_time": "2023-04-25T11:14:11.031Z"
   },
   {
    "duration": 0,
    "start_time": "2023-04-25T11:14:11.032Z"
   },
   {
    "duration": 0,
    "start_time": "2023-04-25T11:14:11.033Z"
   },
   {
    "duration": 0,
    "start_time": "2023-04-25T11:14:11.035Z"
   },
   {
    "duration": 0,
    "start_time": "2023-04-25T11:14:11.037Z"
   },
   {
    "duration": 1,
    "start_time": "2023-04-25T11:14:11.037Z"
   },
   {
    "duration": 0,
    "start_time": "2023-04-25T11:14:11.039Z"
   },
   {
    "duration": 0,
    "start_time": "2023-04-25T11:14:11.040Z"
   },
   {
    "duration": 0,
    "start_time": "2023-04-25T11:14:11.041Z"
   },
   {
    "duration": 0,
    "start_time": "2023-04-25T11:14:11.042Z"
   },
   {
    "duration": 2014,
    "start_time": "2023-04-25T11:15:00.633Z"
   },
   {
    "duration": 10,
    "start_time": "2023-04-25T11:15:02.650Z"
   },
   {
    "duration": 131,
    "start_time": "2023-04-25T11:15:02.662Z"
   },
   {
    "duration": 73,
    "start_time": "2023-04-25T11:15:02.795Z"
   },
   {
    "duration": 19,
    "start_time": "2023-04-25T11:15:02.870Z"
   },
   {
    "duration": 60,
    "start_time": "2023-04-25T11:15:02.892Z"
   },
   {
    "duration": 14,
    "start_time": "2023-04-25T11:15:02.955Z"
   },
   {
    "duration": 63,
    "start_time": "2023-04-25T11:15:02.971Z"
   },
   {
    "duration": 10,
    "start_time": "2023-04-25T11:15:03.039Z"
   },
   {
    "duration": 34,
    "start_time": "2023-04-25T11:15:03.051Z"
   },
   {
    "duration": 48,
    "start_time": "2023-04-25T11:15:03.086Z"
   },
   {
    "duration": 38,
    "start_time": "2023-04-25T11:15:03.136Z"
   },
   {
    "duration": 24,
    "start_time": "2023-04-25T11:15:03.176Z"
   },
   {
    "duration": 90,
    "start_time": "2023-04-25T11:15:03.203Z"
   },
   {
    "duration": 20,
    "start_time": "2023-04-25T11:15:03.295Z"
   },
   {
    "duration": 25,
    "start_time": "2023-04-25T11:15:03.318Z"
   },
   {
    "duration": 18,
    "start_time": "2023-04-25T11:15:03.345Z"
   },
   {
    "duration": 10,
    "start_time": "2023-04-25T11:15:03.365Z"
   },
   {
    "duration": 13,
    "start_time": "2023-04-25T11:15:03.376Z"
   },
   {
    "duration": 41,
    "start_time": "2023-04-25T11:15:03.390Z"
   },
   {
    "duration": 26,
    "start_time": "2023-04-25T11:15:03.434Z"
   },
   {
    "duration": 37,
    "start_time": "2023-04-25T11:15:03.462Z"
   },
   {
    "duration": 13,
    "start_time": "2023-04-25T11:15:03.502Z"
   },
   {
    "duration": 14,
    "start_time": "2023-04-25T11:15:03.517Z"
   },
   {
    "duration": 7,
    "start_time": "2023-04-25T11:15:03.533Z"
   },
   {
    "duration": 24,
    "start_time": "2023-04-25T11:15:03.543Z"
   },
   {
    "duration": 25,
    "start_time": "2023-04-25T11:15:03.568Z"
   },
   {
    "duration": 35,
    "start_time": "2023-04-25T11:15:03.595Z"
   },
   {
    "duration": 44,
    "start_time": "2023-04-25T11:15:03.633Z"
   },
   {
    "duration": 42,
    "start_time": "2023-04-25T11:15:03.679Z"
   },
   {
    "duration": 119,
    "start_time": "2023-04-25T11:15:03.723Z"
   },
   {
    "duration": 7,
    "start_time": "2023-04-25T11:15:03.846Z"
   },
   {
    "duration": 214,
    "start_time": "2023-04-25T11:15:03.856Z"
   },
   {
    "duration": 0,
    "start_time": "2023-04-25T11:15:04.073Z"
   },
   {
    "duration": 0,
    "start_time": "2023-04-25T11:15:04.074Z"
   },
   {
    "duration": 0,
    "start_time": "2023-04-25T11:15:04.076Z"
   },
   {
    "duration": 0,
    "start_time": "2023-04-25T11:15:04.077Z"
   },
   {
    "duration": 0,
    "start_time": "2023-04-25T11:15:04.078Z"
   },
   {
    "duration": 0,
    "start_time": "2023-04-25T11:15:04.079Z"
   },
   {
    "duration": 0,
    "start_time": "2023-04-25T11:15:04.081Z"
   },
   {
    "duration": 0,
    "start_time": "2023-04-25T11:15:04.083Z"
   },
   {
    "duration": 0,
    "start_time": "2023-04-25T11:15:04.084Z"
   },
   {
    "duration": 0,
    "start_time": "2023-04-25T11:15:04.085Z"
   },
   {
    "duration": 0,
    "start_time": "2023-04-25T11:15:04.086Z"
   },
   {
    "duration": 0,
    "start_time": "2023-04-25T11:15:04.087Z"
   },
   {
    "duration": 0,
    "start_time": "2023-04-25T11:15:04.089Z"
   },
   {
    "duration": 0,
    "start_time": "2023-04-25T11:15:04.090Z"
   },
   {
    "duration": 0,
    "start_time": "2023-04-25T11:15:04.092Z"
   },
   {
    "duration": 0,
    "start_time": "2023-04-25T11:15:04.111Z"
   },
   {
    "duration": 0,
    "start_time": "2023-04-25T11:15:04.112Z"
   },
   {
    "duration": 0,
    "start_time": "2023-04-25T11:15:04.113Z"
   },
   {
    "duration": 0,
    "start_time": "2023-04-25T11:15:04.114Z"
   },
   {
    "duration": 0,
    "start_time": "2023-04-25T11:15:04.114Z"
   },
   {
    "duration": 0,
    "start_time": "2023-04-25T11:15:04.115Z"
   },
   {
    "duration": 0,
    "start_time": "2023-04-25T11:15:04.116Z"
   },
   {
    "duration": 0,
    "start_time": "2023-04-25T11:15:04.120Z"
   },
   {
    "duration": 0,
    "start_time": "2023-04-25T11:15:04.121Z"
   },
   {
    "duration": 0,
    "start_time": "2023-04-25T11:15:04.122Z"
   },
   {
    "duration": 0,
    "start_time": "2023-04-25T11:15:04.123Z"
   },
   {
    "duration": 0,
    "start_time": "2023-04-25T11:15:04.133Z"
   },
   {
    "duration": 0,
    "start_time": "2023-04-25T11:15:04.134Z"
   },
   {
    "duration": 0,
    "start_time": "2023-04-25T11:15:04.135Z"
   },
   {
    "duration": 0,
    "start_time": "2023-04-25T11:15:04.136Z"
   },
   {
    "duration": 0,
    "start_time": "2023-04-25T11:15:04.138Z"
   },
   {
    "duration": 0,
    "start_time": "2023-04-25T11:15:04.139Z"
   },
   {
    "duration": 1706,
    "start_time": "2023-04-25T11:16:17.358Z"
   },
   {
    "duration": 8,
    "start_time": "2023-04-25T11:16:19.066Z"
   },
   {
    "duration": 97,
    "start_time": "2023-04-25T11:16:19.076Z"
   },
   {
    "duration": 52,
    "start_time": "2023-04-25T11:16:19.176Z"
   },
   {
    "duration": 20,
    "start_time": "2023-04-25T11:16:19.230Z"
   },
   {
    "duration": 24,
    "start_time": "2023-04-25T11:16:19.252Z"
   },
   {
    "duration": 45,
    "start_time": "2023-04-25T11:16:19.279Z"
   },
   {
    "duration": 34,
    "start_time": "2023-04-25T11:16:19.326Z"
   },
   {
    "duration": 6,
    "start_time": "2023-04-25T11:16:19.363Z"
   },
   {
    "duration": 10,
    "start_time": "2023-04-25T11:16:19.372Z"
   },
   {
    "duration": 24,
    "start_time": "2023-04-25T11:16:19.383Z"
   },
   {
    "duration": 38,
    "start_time": "2023-04-25T11:16:19.411Z"
   },
   {
    "duration": 7,
    "start_time": "2023-04-25T11:16:19.451Z"
   },
   {
    "duration": 41,
    "start_time": "2023-04-25T11:16:19.460Z"
   },
   {
    "duration": 17,
    "start_time": "2023-04-25T11:16:19.503Z"
   },
   {
    "duration": 4,
    "start_time": "2023-04-25T11:16:19.522Z"
   },
   {
    "duration": 8,
    "start_time": "2023-04-25T11:16:19.529Z"
   },
   {
    "duration": 11,
    "start_time": "2023-04-25T11:16:19.539Z"
   },
   {
    "duration": 3,
    "start_time": "2023-04-25T11:16:19.551Z"
   },
   {
    "duration": 3,
    "start_time": "2023-04-25T11:16:19.556Z"
   },
   {
    "duration": 11,
    "start_time": "2023-04-25T11:16:19.561Z"
   },
   {
    "duration": 56,
    "start_time": "2023-04-25T11:16:19.574Z"
   },
   {
    "duration": 8,
    "start_time": "2023-04-25T11:16:19.632Z"
   },
   {
    "duration": 9,
    "start_time": "2023-04-25T11:16:19.642Z"
   },
   {
    "duration": 4,
    "start_time": "2023-04-25T11:16:19.653Z"
   },
   {
    "duration": 18,
    "start_time": "2023-04-25T11:16:19.659Z"
   },
   {
    "duration": 48,
    "start_time": "2023-04-25T11:16:19.679Z"
   },
   {
    "duration": 15,
    "start_time": "2023-04-25T11:16:19.730Z"
   },
   {
    "duration": 21,
    "start_time": "2023-04-25T11:16:19.746Z"
   },
   {
    "duration": 55,
    "start_time": "2023-04-25T11:16:19.769Z"
   },
   {
    "duration": 66,
    "start_time": "2023-04-25T11:16:19.826Z"
   },
   {
    "duration": 5,
    "start_time": "2023-04-25T11:16:19.894Z"
   },
   {
    "duration": 18,
    "start_time": "2023-04-25T11:16:19.901Z"
   },
   {
    "duration": 14,
    "start_time": "2023-04-25T11:16:19.924Z"
   },
   {
    "duration": 173,
    "start_time": "2023-04-25T11:16:19.940Z"
   },
   {
    "duration": 425,
    "start_time": "2023-04-25T11:16:20.114Z"
   },
   {
    "duration": 17,
    "start_time": "2023-04-25T11:16:20.542Z"
   },
   {
    "duration": 74,
    "start_time": "2023-04-25T11:16:20.560Z"
   },
   {
    "duration": 17,
    "start_time": "2023-04-25T11:16:20.636Z"
   },
   {
    "duration": 17,
    "start_time": "2023-04-25T11:16:20.655Z"
   },
   {
    "duration": 90,
    "start_time": "2023-04-25T11:16:20.673Z"
   },
   {
    "duration": 126,
    "start_time": "2023-04-25T11:16:20.765Z"
   },
   {
    "duration": 114,
    "start_time": "2023-04-25T11:16:20.892Z"
   },
   {
    "duration": 15,
    "start_time": "2023-04-25T11:16:21.008Z"
   },
   {
    "duration": 64,
    "start_time": "2023-04-25T11:16:21.027Z"
   },
   {
    "duration": 46,
    "start_time": "2023-04-25T11:16:21.093Z"
   },
   {
    "duration": 87,
    "start_time": "2023-04-25T11:16:21.140Z"
   },
   {
    "duration": 4,
    "start_time": "2023-04-25T11:16:21.229Z"
   },
   {
    "duration": 24,
    "start_time": "2023-04-25T11:16:21.235Z"
   },
   {
    "duration": 93,
    "start_time": "2023-04-25T11:16:21.261Z"
   },
   {
    "duration": 14,
    "start_time": "2023-04-25T11:16:21.356Z"
   },
   {
    "duration": 101,
    "start_time": "2023-04-25T11:16:21.372Z"
   },
   {
    "duration": 13,
    "start_time": "2023-04-25T11:16:21.475Z"
   },
   {
    "duration": 56,
    "start_time": "2023-04-25T11:16:21.490Z"
   },
   {
    "duration": 116,
    "start_time": "2023-04-25T11:16:21.547Z"
   },
   {
    "duration": 10572,
    "start_time": "2023-04-25T11:16:21.665Z"
   },
   {
    "duration": 218,
    "start_time": "2023-04-25T11:16:32.240Z"
   },
   {
    "duration": 21,
    "start_time": "2023-04-25T11:16:32.516Z"
   },
   {
    "duration": 19,
    "start_time": "2023-04-25T11:16:32.539Z"
   },
   {
    "duration": 18,
    "start_time": "2023-04-25T11:16:32.613Z"
   },
   {
    "duration": 113,
    "start_time": "2023-04-25T11:16:32.633Z"
   },
   {
    "duration": 15,
    "start_time": "2023-04-25T11:16:32.747Z"
   },
   {
    "duration": 14,
    "start_time": "2023-04-25T11:16:32.764Z"
   },
   {
    "duration": 78,
    "start_time": "2023-04-25T11:16:32.780Z"
   },
   {
    "duration": 0,
    "start_time": "2023-04-25T11:16:32.861Z"
   },
   {
    "duration": 54,
    "start_time": "2023-04-25T11:17:31.628Z"
   },
   {
    "duration": 51,
    "start_time": "2023-04-25T11:17:37.250Z"
   },
   {
    "duration": 63,
    "start_time": "2023-04-25T11:17:45.342Z"
   },
   {
    "duration": 55,
    "start_time": "2023-04-25T11:17:57.111Z"
   },
   {
    "duration": 7,
    "start_time": "2023-04-25T11:18:16.925Z"
   },
   {
    "duration": 139,
    "start_time": "2023-04-25T11:18:19.777Z"
   },
   {
    "duration": 176,
    "start_time": "2023-04-25T11:37:25.538Z"
   },
   {
    "duration": 14,
    "start_time": "2023-04-25T11:37:31.213Z"
   },
   {
    "duration": 1944,
    "start_time": "2023-04-25T11:37:38.833Z"
   },
   {
    "duration": 865,
    "start_time": "2023-04-25T11:38:53.962Z"
   },
   {
    "duration": 8,
    "start_time": "2023-04-25T11:41:38.075Z"
   },
   {
    "duration": 849,
    "start_time": "2023-04-25T11:41:38.719Z"
   },
   {
    "duration": 17,
    "start_time": "2023-04-25T11:42:01.829Z"
   },
   {
    "duration": 882,
    "start_time": "2023-04-25T11:42:21.493Z"
   },
   {
    "duration": 7,
    "start_time": "2023-04-25T11:42:25.441Z"
   },
   {
    "duration": 905,
    "start_time": "2023-04-25T11:42:26.451Z"
   },
   {
    "duration": 6,
    "start_time": "2023-04-25T11:42:30.303Z"
   },
   {
    "duration": 1737,
    "start_time": "2023-04-25T11:42:30.656Z"
   },
   {
    "duration": 21,
    "start_time": "2023-04-25T11:42:32.395Z"
   },
   {
    "duration": 28,
    "start_time": "2023-04-25T11:42:32.418Z"
   },
   {
    "duration": 80,
    "start_time": "2023-04-25T11:43:36.926Z"
   },
   {
    "duration": 21,
    "start_time": "2023-04-25T11:46:23.199Z"
   },
   {
    "duration": 138,
    "start_time": "2023-04-25T11:46:30.900Z"
   },
   {
    "duration": 14,
    "start_time": "2023-04-25T11:47:57.695Z"
   },
   {
    "duration": 142,
    "start_time": "2023-04-25T11:48:13.110Z"
   },
   {
    "duration": 1699,
    "start_time": "2023-04-25T11:52:12.884Z"
   },
   {
    "duration": 6,
    "start_time": "2023-04-25T11:52:14.586Z"
   },
   {
    "duration": 82,
    "start_time": "2023-04-25T11:52:14.594Z"
   },
   {
    "duration": 47,
    "start_time": "2023-04-25T11:52:14.678Z"
   },
   {
    "duration": 21,
    "start_time": "2023-04-25T11:52:14.728Z"
   },
   {
    "duration": 38,
    "start_time": "2023-04-25T11:52:14.752Z"
   },
   {
    "duration": 21,
    "start_time": "2023-04-25T11:52:14.792Z"
   },
   {
    "duration": 48,
    "start_time": "2023-04-25T11:52:14.815Z"
   },
   {
    "duration": 7,
    "start_time": "2023-04-25T11:52:14.865Z"
   },
   {
    "duration": 12,
    "start_time": "2023-04-25T11:52:14.874Z"
   },
   {
    "duration": 9,
    "start_time": "2023-04-25T11:52:14.912Z"
   },
   {
    "duration": 47,
    "start_time": "2023-04-25T11:52:14.923Z"
   },
   {
    "duration": 7,
    "start_time": "2023-04-25T11:52:14.972Z"
   },
   {
    "duration": 34,
    "start_time": "2023-04-25T11:52:14.983Z"
   },
   {
    "duration": 24,
    "start_time": "2023-04-25T11:52:15.019Z"
   },
   {
    "duration": 5,
    "start_time": "2023-04-25T11:52:15.046Z"
   },
   {
    "duration": 11,
    "start_time": "2023-04-25T11:52:15.052Z"
   },
   {
    "duration": 17,
    "start_time": "2023-04-25T11:52:15.065Z"
   },
   {
    "duration": 23,
    "start_time": "2023-04-25T11:52:15.084Z"
   },
   {
    "duration": 15,
    "start_time": "2023-04-25T11:52:15.109Z"
   },
   {
    "duration": 23,
    "start_time": "2023-04-25T11:52:15.127Z"
   },
   {
    "duration": 31,
    "start_time": "2023-04-25T11:52:15.153Z"
   },
   {
    "duration": 11,
    "start_time": "2023-04-25T11:52:15.186Z"
   },
   {
    "duration": 20,
    "start_time": "2023-04-25T11:52:15.199Z"
   },
   {
    "duration": 7,
    "start_time": "2023-04-25T11:52:15.221Z"
   },
   {
    "duration": 7,
    "start_time": "2023-04-25T11:52:15.231Z"
   },
   {
    "duration": 35,
    "start_time": "2023-04-25T11:52:15.240Z"
   },
   {
    "duration": 44,
    "start_time": "2023-04-25T11:52:15.277Z"
   },
   {
    "duration": 33,
    "start_time": "2023-04-25T11:52:15.323Z"
   },
   {
    "duration": 29,
    "start_time": "2023-04-25T11:52:15.358Z"
   },
   {
    "duration": 85,
    "start_time": "2023-04-25T11:52:15.389Z"
   },
   {
    "duration": 7,
    "start_time": "2023-04-25T11:52:15.476Z"
   },
   {
    "duration": 129,
    "start_time": "2023-04-25T11:52:15.511Z"
   },
   {
    "duration": 0,
    "start_time": "2023-04-25T11:52:15.644Z"
   },
   {
    "duration": 0,
    "start_time": "2023-04-25T11:52:15.645Z"
   },
   {
    "duration": 0,
    "start_time": "2023-04-25T11:52:15.647Z"
   },
   {
    "duration": 0,
    "start_time": "2023-04-25T11:52:15.648Z"
   },
   {
    "duration": 0,
    "start_time": "2023-04-25T11:52:15.650Z"
   },
   {
    "duration": 0,
    "start_time": "2023-04-25T11:52:15.651Z"
   },
   {
    "duration": 0,
    "start_time": "2023-04-25T11:52:15.652Z"
   },
   {
    "duration": 0,
    "start_time": "2023-04-25T11:52:15.653Z"
   },
   {
    "duration": 0,
    "start_time": "2023-04-25T11:52:15.655Z"
   },
   {
    "duration": 0,
    "start_time": "2023-04-25T11:52:15.657Z"
   },
   {
    "duration": 0,
    "start_time": "2023-04-25T11:52:15.658Z"
   },
   {
    "duration": 0,
    "start_time": "2023-04-25T11:52:15.660Z"
   },
   {
    "duration": 0,
    "start_time": "2023-04-25T11:52:15.661Z"
   },
   {
    "duration": 0,
    "start_time": "2023-04-25T11:52:15.662Z"
   },
   {
    "duration": 0,
    "start_time": "2023-04-25T11:52:15.664Z"
   },
   {
    "duration": 0,
    "start_time": "2023-04-25T11:52:15.665Z"
   },
   {
    "duration": 0,
    "start_time": "2023-04-25T11:52:15.666Z"
   },
   {
    "duration": 0,
    "start_time": "2023-04-25T11:52:15.667Z"
   },
   {
    "duration": 0,
    "start_time": "2023-04-25T11:52:15.711Z"
   },
   {
    "duration": 0,
    "start_time": "2023-04-25T11:52:15.713Z"
   },
   {
    "duration": 0,
    "start_time": "2023-04-25T11:52:15.713Z"
   },
   {
    "duration": 0,
    "start_time": "2023-04-25T11:52:15.715Z"
   },
   {
    "duration": 0,
    "start_time": "2023-04-25T11:52:15.716Z"
   },
   {
    "duration": 0,
    "start_time": "2023-04-25T11:52:15.717Z"
   },
   {
    "duration": 0,
    "start_time": "2023-04-25T11:52:15.718Z"
   },
   {
    "duration": 0,
    "start_time": "2023-04-25T11:52:15.719Z"
   },
   {
    "duration": 0,
    "start_time": "2023-04-25T11:52:15.720Z"
   },
   {
    "duration": 0,
    "start_time": "2023-04-25T11:52:15.721Z"
   },
   {
    "duration": 0,
    "start_time": "2023-04-25T11:52:15.722Z"
   },
   {
    "duration": 0,
    "start_time": "2023-04-25T11:52:15.723Z"
   },
   {
    "duration": 0,
    "start_time": "2023-04-25T11:52:15.725Z"
   },
   {
    "duration": 0,
    "start_time": "2023-04-25T11:52:15.726Z"
   },
   {
    "duration": 0,
    "start_time": "2023-04-25T11:52:15.727Z"
   },
   {
    "duration": 0,
    "start_time": "2023-04-25T11:52:15.728Z"
   },
   {
    "duration": 0,
    "start_time": "2023-04-25T11:52:15.729Z"
   },
   {
    "duration": 0,
    "start_time": "2023-04-25T11:52:15.730Z"
   },
   {
    "duration": 0,
    "start_time": "2023-04-25T11:52:15.731Z"
   },
   {
    "duration": 0,
    "start_time": "2023-04-25T11:52:15.732Z"
   },
   {
    "duration": 0,
    "start_time": "2023-04-25T11:52:15.733Z"
   },
   {
    "duration": 0,
    "start_time": "2023-04-25T11:52:15.734Z"
   },
   {
    "duration": 0,
    "start_time": "2023-04-25T11:52:15.735Z"
   },
   {
    "duration": 1675,
    "start_time": "2023-04-25T11:53:13.037Z"
   },
   {
    "duration": 6,
    "start_time": "2023-04-25T11:53:14.715Z"
   },
   {
    "duration": 93,
    "start_time": "2023-04-25T11:53:14.724Z"
   },
   {
    "duration": 49,
    "start_time": "2023-04-25T11:53:14.819Z"
   },
   {
    "duration": 14,
    "start_time": "2023-04-25T11:53:14.870Z"
   },
   {
    "duration": 40,
    "start_time": "2023-04-25T11:53:14.886Z"
   },
   {
    "duration": 11,
    "start_time": "2023-04-25T11:53:14.928Z"
   },
   {
    "duration": 40,
    "start_time": "2023-04-25T11:53:14.940Z"
   },
   {
    "duration": 30,
    "start_time": "2023-04-25T11:53:14.982Z"
   },
   {
    "duration": 9,
    "start_time": "2023-04-25T11:53:15.016Z"
   },
   {
    "duration": 29,
    "start_time": "2023-04-25T11:53:15.027Z"
   },
   {
    "duration": 35,
    "start_time": "2023-04-25T11:53:15.058Z"
   },
   {
    "duration": 17,
    "start_time": "2023-04-25T11:53:15.095Z"
   },
   {
    "duration": 33,
    "start_time": "2023-04-25T11:53:15.114Z"
   },
   {
    "duration": 19,
    "start_time": "2023-04-25T11:53:15.149Z"
   },
   {
    "duration": 30,
    "start_time": "2023-04-25T11:53:15.171Z"
   },
   {
    "duration": 28,
    "start_time": "2023-04-25T11:53:15.202Z"
   },
   {
    "duration": 35,
    "start_time": "2023-04-25T11:53:15.232Z"
   },
   {
    "duration": 17,
    "start_time": "2023-04-25T11:53:15.269Z"
   },
   {
    "duration": 8,
    "start_time": "2023-04-25T11:53:15.288Z"
   },
   {
    "duration": 31,
    "start_time": "2023-04-25T11:53:15.299Z"
   },
   {
    "duration": 39,
    "start_time": "2023-04-25T11:53:15.332Z"
   },
   {
    "duration": 15,
    "start_time": "2023-04-25T11:53:15.373Z"
   },
   {
    "duration": 21,
    "start_time": "2023-04-25T11:53:15.390Z"
   },
   {
    "duration": 20,
    "start_time": "2023-04-25T11:53:15.413Z"
   },
   {
    "duration": 24,
    "start_time": "2023-04-25T11:53:15.436Z"
   },
   {
    "duration": 39,
    "start_time": "2023-04-25T11:53:15.461Z"
   },
   {
    "duration": 33,
    "start_time": "2023-04-25T11:53:15.505Z"
   },
   {
    "duration": 36,
    "start_time": "2023-04-25T11:53:15.542Z"
   },
   {
    "duration": 112,
    "start_time": "2023-04-25T11:53:15.580Z"
   },
   {
    "duration": 69,
    "start_time": "2023-04-25T11:53:15.694Z"
   },
   {
    "duration": 8,
    "start_time": "2023-04-25T11:53:15.765Z"
   },
   {
    "duration": 148,
    "start_time": "2023-04-25T11:53:15.775Z"
   },
   {
    "duration": 0,
    "start_time": "2023-04-25T11:53:15.925Z"
   },
   {
    "duration": 0,
    "start_time": "2023-04-25T11:53:15.927Z"
   },
   {
    "duration": 0,
    "start_time": "2023-04-25T11:53:15.929Z"
   },
   {
    "duration": 0,
    "start_time": "2023-04-25T11:53:15.930Z"
   },
   {
    "duration": 0,
    "start_time": "2023-04-25T11:53:15.932Z"
   },
   {
    "duration": 0,
    "start_time": "2023-04-25T11:53:15.934Z"
   },
   {
    "duration": 0,
    "start_time": "2023-04-25T11:53:15.936Z"
   },
   {
    "duration": 0,
    "start_time": "2023-04-25T11:53:15.937Z"
   },
   {
    "duration": 0,
    "start_time": "2023-04-25T11:53:15.939Z"
   },
   {
    "duration": 0,
    "start_time": "2023-04-25T11:53:15.941Z"
   },
   {
    "duration": 0,
    "start_time": "2023-04-25T11:53:15.942Z"
   },
   {
    "duration": 0,
    "start_time": "2023-04-25T11:53:15.944Z"
   },
   {
    "duration": 0,
    "start_time": "2023-04-25T11:53:15.945Z"
   },
   {
    "duration": 0,
    "start_time": "2023-04-25T11:53:15.946Z"
   },
   {
    "duration": 0,
    "start_time": "2023-04-25T11:53:15.948Z"
   },
   {
    "duration": 0,
    "start_time": "2023-04-25T11:53:15.950Z"
   },
   {
    "duration": 0,
    "start_time": "2023-04-25T11:53:15.951Z"
   },
   {
    "duration": 0,
    "start_time": "2023-04-25T11:53:15.953Z"
   },
   {
    "duration": 0,
    "start_time": "2023-04-25T11:53:15.954Z"
   },
   {
    "duration": 0,
    "start_time": "2023-04-25T11:53:15.956Z"
   },
   {
    "duration": 0,
    "start_time": "2023-04-25T11:53:15.957Z"
   },
   {
    "duration": 0,
    "start_time": "2023-04-25T11:53:16.012Z"
   },
   {
    "duration": 0,
    "start_time": "2023-04-25T11:53:16.014Z"
   },
   {
    "duration": 0,
    "start_time": "2023-04-25T11:53:16.016Z"
   },
   {
    "duration": 0,
    "start_time": "2023-04-25T11:53:16.017Z"
   },
   {
    "duration": 0,
    "start_time": "2023-04-25T11:53:16.020Z"
   },
   {
    "duration": 0,
    "start_time": "2023-04-25T11:53:16.021Z"
   },
   {
    "duration": 0,
    "start_time": "2023-04-25T11:53:16.023Z"
   },
   {
    "duration": 0,
    "start_time": "2023-04-25T11:53:16.023Z"
   },
   {
    "duration": 0,
    "start_time": "2023-04-25T11:53:16.026Z"
   },
   {
    "duration": 0,
    "start_time": "2023-04-25T11:53:16.027Z"
   },
   {
    "duration": 0,
    "start_time": "2023-04-25T11:53:16.029Z"
   },
   {
    "duration": 0,
    "start_time": "2023-04-25T11:53:16.030Z"
   },
   {
    "duration": 0,
    "start_time": "2023-04-25T11:53:16.032Z"
   },
   {
    "duration": 0,
    "start_time": "2023-04-25T11:53:16.033Z"
   },
   {
    "duration": 0,
    "start_time": "2023-04-25T11:53:16.035Z"
   },
   {
    "duration": 0,
    "start_time": "2023-04-25T11:53:16.036Z"
   },
   {
    "duration": 0,
    "start_time": "2023-04-25T11:53:16.038Z"
   },
   {
    "duration": 0,
    "start_time": "2023-04-25T11:53:16.039Z"
   },
   {
    "duration": 0,
    "start_time": "2023-04-25T11:53:16.041Z"
   },
   {
    "duration": 0,
    "start_time": "2023-04-25T11:53:16.042Z"
   },
   {
    "duration": 1643,
    "start_time": "2023-04-25T11:53:59.643Z"
   },
   {
    "duration": 7,
    "start_time": "2023-04-25T11:54:01.289Z"
   },
   {
    "duration": 91,
    "start_time": "2023-04-25T11:54:01.298Z"
   },
   {
    "duration": 50,
    "start_time": "2023-04-25T11:54:01.392Z"
   },
   {
    "duration": 20,
    "start_time": "2023-04-25T11:54:01.445Z"
   },
   {
    "duration": 56,
    "start_time": "2023-04-25T11:54:01.467Z"
   },
   {
    "duration": 10,
    "start_time": "2023-04-25T11:54:01.524Z"
   },
   {
    "duration": 45,
    "start_time": "2023-04-25T11:54:01.536Z"
   },
   {
    "duration": 6,
    "start_time": "2023-04-25T11:54:01.584Z"
   },
   {
    "duration": 7,
    "start_time": "2023-04-25T11:54:01.611Z"
   },
   {
    "duration": 14,
    "start_time": "2023-04-25T11:54:01.619Z"
   },
   {
    "duration": 34,
    "start_time": "2023-04-25T11:54:01.635Z"
   },
   {
    "duration": 21,
    "start_time": "2023-04-25T11:54:01.670Z"
   },
   {
    "duration": 42,
    "start_time": "2023-04-25T11:54:01.712Z"
   },
   {
    "duration": 38,
    "start_time": "2023-04-25T11:54:01.756Z"
   },
   {
    "duration": 24,
    "start_time": "2023-04-25T11:54:01.796Z"
   },
   {
    "duration": 41,
    "start_time": "2023-04-25T11:54:01.822Z"
   },
   {
    "duration": 40,
    "start_time": "2023-04-25T11:54:01.865Z"
   },
   {
    "duration": 44,
    "start_time": "2023-04-25T11:54:01.907Z"
   },
   {
    "duration": 37,
    "start_time": "2023-04-25T11:54:01.953Z"
   },
   {
    "duration": 51,
    "start_time": "2023-04-25T11:54:01.993Z"
   },
   {
    "duration": 104,
    "start_time": "2023-04-25T11:54:02.046Z"
   },
   {
    "duration": 47,
    "start_time": "2023-04-25T11:54:02.152Z"
   },
   {
    "duration": 102,
    "start_time": "2023-04-25T11:54:02.201Z"
   },
   {
    "duration": 90,
    "start_time": "2023-04-25T11:54:02.305Z"
   },
   {
    "duration": 44,
    "start_time": "2023-04-25T11:54:02.396Z"
   },
   {
    "duration": 57,
    "start_time": "2023-04-25T11:54:02.443Z"
   },
   {
    "duration": 14,
    "start_time": "2023-04-25T11:54:02.505Z"
   },
   {
    "duration": 96,
    "start_time": "2023-04-25T11:54:02.521Z"
   },
   {
    "duration": 50,
    "start_time": "2023-04-25T11:54:02.619Z"
   },
   {
    "duration": 83,
    "start_time": "2023-04-25T11:54:02.672Z"
   },
   {
    "duration": 7,
    "start_time": "2023-04-25T11:54:02.758Z"
   },
   {
    "duration": 26,
    "start_time": "2023-04-25T11:54:02.767Z"
   },
   {
    "duration": 37,
    "start_time": "2023-04-25T11:54:02.796Z"
   },
   {
    "duration": 242,
    "start_time": "2023-04-25T11:54:02.835Z"
   },
   {
    "duration": 391,
    "start_time": "2023-04-25T11:54:03.080Z"
   },
   {
    "duration": 25,
    "start_time": "2023-04-25T11:54:03.473Z"
   },
   {
    "duration": 65,
    "start_time": "2023-04-25T11:54:03.513Z"
   },
   {
    "duration": 35,
    "start_time": "2023-04-25T11:54:03.581Z"
   },
   {
    "duration": 20,
    "start_time": "2023-04-25T11:54:03.618Z"
   },
   {
    "duration": 105,
    "start_time": "2023-04-25T11:54:03.641Z"
   },
   {
    "duration": 151,
    "start_time": "2023-04-25T11:54:03.748Z"
   },
   {
    "duration": 132,
    "start_time": "2023-04-25T11:54:03.902Z"
   },
   {
    "duration": 4,
    "start_time": "2023-04-25T11:54:04.036Z"
   },
   {
    "duration": 107,
    "start_time": "2023-04-25T11:54:04.042Z"
   },
   {
    "duration": 33,
    "start_time": "2023-04-25T11:54:04.151Z"
   },
   {
    "duration": 107,
    "start_time": "2023-04-25T11:54:04.186Z"
   },
   {
    "duration": 17,
    "start_time": "2023-04-25T11:54:04.296Z"
   },
   {
    "duration": 18,
    "start_time": "2023-04-25T11:54:04.316Z"
   },
   {
    "duration": 113,
    "start_time": "2023-04-25T11:54:04.337Z"
   },
   {
    "duration": 20,
    "start_time": "2023-04-25T11:54:04.452Z"
   },
   {
    "duration": 120,
    "start_time": "2023-04-25T11:54:04.474Z"
   },
   {
    "duration": 22,
    "start_time": "2023-04-25T11:54:04.596Z"
   },
   {
    "duration": 43,
    "start_time": "2023-04-25T11:54:04.620Z"
   },
   {
    "duration": 114,
    "start_time": "2023-04-25T11:54:04.666Z"
   },
   {
    "duration": 10652,
    "start_time": "2023-04-25T11:54:04.782Z"
   },
   {
    "duration": 185,
    "start_time": "2023-04-25T11:54:15.436Z"
   },
   {
    "duration": 18,
    "start_time": "2023-04-25T11:54:15.623Z"
   },
   {
    "duration": 85,
    "start_time": "2023-04-25T11:54:15.644Z"
   },
   {
    "duration": 17,
    "start_time": "2023-04-25T11:54:15.731Z"
   },
   {
    "duration": 135,
    "start_time": "2023-04-25T11:54:15.750Z"
   },
   {
    "duration": 36,
    "start_time": "2023-04-25T11:54:15.888Z"
   },
   {
    "duration": 10,
    "start_time": "2023-04-25T11:54:15.926Z"
   },
   {
    "duration": 19,
    "start_time": "2023-04-25T11:54:15.937Z"
   },
   {
    "duration": 128,
    "start_time": "2023-04-25T11:54:15.958Z"
   },
   {
    "duration": 25,
    "start_time": "2023-04-25T11:54:16.088Z"
   },
   {
    "duration": 1859,
    "start_time": "2023-04-25T11:54:16.115Z"
   },
   {
    "duration": 12,
    "start_time": "2023-04-25T11:54:17.977Z"
   },
   {
    "duration": 967,
    "start_time": "2023-04-25T11:54:18.011Z"
   },
   {
    "duration": 0,
    "start_time": "2023-04-25T11:54:18.981Z"
   },
   {
    "duration": 0,
    "start_time": "2023-04-25T11:54:18.988Z"
   },
   {
    "duration": 0,
    "start_time": "2023-04-25T11:54:18.990Z"
   },
   {
    "duration": 0,
    "start_time": "2023-04-25T11:54:18.992Z"
   },
   {
    "duration": 0,
    "start_time": "2023-04-25T11:54:18.993Z"
   },
   {
    "duration": 4558,
    "start_time": "2023-04-25T21:42:28.138Z"
   },
   {
    "duration": 5,
    "start_time": "2023-04-25T21:42:32.698Z"
   },
   {
    "duration": 259,
    "start_time": "2023-04-25T21:42:32.705Z"
   },
   {
    "duration": 39,
    "start_time": "2023-04-25T21:42:32.967Z"
   },
   {
    "duration": 17,
    "start_time": "2023-04-25T21:42:33.008Z"
   },
   {
    "duration": 38,
    "start_time": "2023-04-25T21:42:33.027Z"
   },
   {
    "duration": 10,
    "start_time": "2023-04-25T21:42:33.067Z"
   },
   {
    "duration": 34,
    "start_time": "2023-04-25T21:42:33.079Z"
   },
   {
    "duration": 6,
    "start_time": "2023-04-25T21:42:33.116Z"
   },
   {
    "duration": 7,
    "start_time": "2023-04-25T21:42:33.155Z"
   },
   {
    "duration": 9,
    "start_time": "2023-04-25T21:42:33.164Z"
   },
   {
    "duration": 31,
    "start_time": "2023-04-25T21:42:33.175Z"
   },
   {
    "duration": 6,
    "start_time": "2023-04-25T21:42:33.208Z"
   },
   {
    "duration": 44,
    "start_time": "2023-04-25T21:42:33.216Z"
   },
   {
    "duration": 10,
    "start_time": "2023-04-25T21:42:33.262Z"
   },
   {
    "duration": 2451,
    "start_time": "2023-04-25T21:42:33.274Z"
   },
   {
    "duration": 3265,
    "start_time": "2023-04-25T21:42:35.727Z"
   },
   {
    "duration": 1827,
    "start_time": "2023-04-25T21:42:38.994Z"
   },
   {
    "duration": 9,
    "start_time": "2023-04-25T21:42:40.823Z"
   },
   {
    "duration": 9,
    "start_time": "2023-04-25T21:42:40.833Z"
   },
   {
    "duration": 14,
    "start_time": "2023-04-25T21:42:40.843Z"
   },
   {
    "duration": 5,
    "start_time": "2023-04-25T21:42:40.859Z"
   },
   {
    "duration": 21,
    "start_time": "2023-04-25T21:42:40.866Z"
   },
   {
    "duration": 27,
    "start_time": "2023-04-25T21:42:40.889Z"
   },
   {
    "duration": 9,
    "start_time": "2023-04-25T21:42:40.917Z"
   },
   {
    "duration": 9,
    "start_time": "2023-04-25T21:42:40.928Z"
   },
   {
    "duration": 11,
    "start_time": "2023-04-25T21:42:40.948Z"
   },
   {
    "duration": 9,
    "start_time": "2023-04-25T21:42:40.962Z"
   },
   {
    "duration": 23,
    "start_time": "2023-04-25T21:42:40.973Z"
   },
   {
    "duration": 13,
    "start_time": "2023-04-25T21:42:40.998Z"
   },
   {
    "duration": 47,
    "start_time": "2023-04-25T21:42:41.012Z"
   },
   {
    "duration": 28,
    "start_time": "2023-04-25T21:42:41.061Z"
   },
   {
    "duration": 97,
    "start_time": "2023-04-25T21:42:41.091Z"
   },
   {
    "duration": 5,
    "start_time": "2023-04-25T21:42:41.190Z"
   },
   {
    "duration": 4,
    "start_time": "2023-04-25T21:42:41.197Z"
   },
   {
    "duration": 13,
    "start_time": "2023-04-25T21:42:41.202Z"
   },
   {
    "duration": 603,
    "start_time": "2023-04-25T21:42:41.217Z"
   },
   {
    "duration": 288,
    "start_time": "2023-04-25T21:42:41.821Z"
   },
   {
    "duration": 17,
    "start_time": "2023-04-25T21:42:42.110Z"
   },
   {
    "duration": 70,
    "start_time": "2023-04-25T21:42:42.129Z"
   },
   {
    "duration": 23,
    "start_time": "2023-04-25T21:42:42.200Z"
   },
   {
    "duration": 46,
    "start_time": "2023-04-25T21:42:42.225Z"
   },
   {
    "duration": 67,
    "start_time": "2023-04-25T21:42:42.273Z"
   },
   {
    "duration": 101,
    "start_time": "2023-04-25T21:42:42.356Z"
   },
   {
    "duration": 101,
    "start_time": "2023-04-25T21:42:42.458Z"
   },
   {
    "duration": 4,
    "start_time": "2023-04-25T21:42:42.560Z"
   },
   {
    "duration": 55,
    "start_time": "2023-04-25T21:42:42.565Z"
   },
   {
    "duration": 46,
    "start_time": "2023-04-25T21:42:42.621Z"
   },
   {
    "duration": 180,
    "start_time": "2023-04-25T21:42:42.669Z"
   },
   {
    "duration": 7,
    "start_time": "2023-04-25T21:42:42.851Z"
   },
   {
    "duration": 17,
    "start_time": "2023-04-25T21:42:42.860Z"
   },
   {
    "duration": 88,
    "start_time": "2023-04-25T21:42:42.878Z"
   },
   {
    "duration": 16,
    "start_time": "2023-04-25T21:42:42.968Z"
   },
   {
    "duration": 91,
    "start_time": "2023-04-25T21:42:42.986Z"
   },
   {
    "duration": 12,
    "start_time": "2023-04-25T21:42:43.079Z"
   },
   {
    "duration": 146,
    "start_time": "2023-04-25T21:42:43.092Z"
   },
   {
    "duration": 84,
    "start_time": "2023-04-25T21:42:43.239Z"
   },
   {
    "duration": 9296,
    "start_time": "2023-04-25T21:42:43.325Z"
   },
   {
    "duration": 133,
    "start_time": "2023-04-25T21:42:52.625Z"
   },
   {
    "duration": 15,
    "start_time": "2023-04-25T21:42:52.760Z"
   },
   {
    "duration": 22,
    "start_time": "2023-04-25T21:42:52.777Z"
   },
   {
    "duration": 14,
    "start_time": "2023-04-25T21:42:52.855Z"
   },
   {
    "duration": 118,
    "start_time": "2023-04-25T21:42:52.871Z"
   },
   {
    "duration": 15,
    "start_time": "2023-04-25T21:42:52.990Z"
   },
   {
    "duration": 16,
    "start_time": "2023-04-25T21:42:53.007Z"
   },
   {
    "duration": 9,
    "start_time": "2023-04-25T21:42:53.024Z"
   },
   {
    "duration": 164,
    "start_time": "2023-04-25T21:42:53.035Z"
   },
   {
    "duration": 7,
    "start_time": "2023-04-25T21:42:53.200Z"
   },
   {
    "duration": 1598,
    "start_time": "2023-04-25T21:42:53.209Z"
   },
   {
    "duration": 7,
    "start_time": "2023-04-25T21:42:54.809Z"
   },
   {
    "duration": 8,
    "start_time": "2023-04-25T21:42:54.818Z"
   },
   {
    "duration": 798,
    "start_time": "2023-04-25T21:42:54.855Z"
   },
   {
    "duration": 13,
    "start_time": "2023-04-25T21:42:55.656Z"
   },
   {
    "duration": 113,
    "start_time": "2023-04-25T21:42:55.671Z"
   },
   {
    "duration": 17,
    "start_time": "2023-04-25T21:42:55.786Z"
   },
   {
    "duration": 348,
    "start_time": "2023-04-25T21:42:55.805Z"
   },
   {
    "duration": 11,
    "start_time": "2023-04-25T21:45:13.903Z"
   },
   {
    "duration": 9,
    "start_time": "2023-04-25T21:48:40.698Z"
   },
   {
    "duration": 18,
    "start_time": "2023-04-25T21:48:48.844Z"
   },
   {
    "duration": 2095,
    "start_time": "2023-04-26T06:31:33.379Z"
   },
   {
    "duration": 5,
    "start_time": "2023-04-26T06:31:35.477Z"
   },
   {
    "duration": 273,
    "start_time": "2023-04-26T06:31:35.483Z"
   },
   {
    "duration": 38,
    "start_time": "2023-04-26T06:31:35.758Z"
   },
   {
    "duration": 20,
    "start_time": "2023-04-26T06:31:35.806Z"
   },
   {
    "duration": 15,
    "start_time": "2023-04-26T06:31:35.828Z"
   },
   {
    "duration": 12,
    "start_time": "2023-04-26T06:31:35.844Z"
   },
   {
    "duration": 71,
    "start_time": "2023-04-26T06:31:35.858Z"
   },
   {
    "duration": 6,
    "start_time": "2023-04-26T06:31:35.930Z"
   },
   {
    "duration": 15,
    "start_time": "2023-04-26T06:31:35.938Z"
   },
   {
    "duration": 19,
    "start_time": "2023-04-26T06:31:35.955Z"
   },
   {
    "duration": 51,
    "start_time": "2023-04-26T06:31:35.976Z"
   },
   {
    "duration": 8,
    "start_time": "2023-04-26T06:31:36.031Z"
   },
   {
    "duration": 20,
    "start_time": "2023-04-26T06:31:36.041Z"
   },
   {
    "duration": 15,
    "start_time": "2023-04-26T06:31:36.063Z"
   },
   {
    "duration": 2503,
    "start_time": "2023-04-26T06:31:36.079Z"
   },
   {
    "duration": 3137,
    "start_time": "2023-04-26T06:31:38.585Z"
   },
   {
    "duration": 1840,
    "start_time": "2023-04-26T06:31:41.724Z"
   },
   {
    "duration": 9,
    "start_time": "2023-04-26T06:31:43.566Z"
   },
   {
    "duration": 23,
    "start_time": "2023-04-26T06:31:43.577Z"
   },
   {
    "duration": 3,
    "start_time": "2023-04-26T06:31:43.602Z"
   },
   {
    "duration": 3,
    "start_time": "2023-04-26T06:31:43.606Z"
   },
   {
    "duration": 11,
    "start_time": "2023-04-26T06:31:43.611Z"
   },
   {
    "duration": 18,
    "start_time": "2023-04-26T06:31:43.624Z"
   },
   {
    "duration": 8,
    "start_time": "2023-04-26T06:31:43.644Z"
   },
   {
    "duration": 48,
    "start_time": "2023-04-26T06:31:43.654Z"
   },
   {
    "duration": 9,
    "start_time": "2023-04-26T06:31:43.704Z"
   },
   {
    "duration": 7,
    "start_time": "2023-04-26T06:31:43.718Z"
   },
   {
    "duration": 31,
    "start_time": "2023-04-26T06:31:43.727Z"
   },
   {
    "duration": 41,
    "start_time": "2023-04-26T06:31:43.760Z"
   },
   {
    "duration": 39,
    "start_time": "2023-04-26T06:31:43.803Z"
   },
   {
    "duration": 34,
    "start_time": "2023-04-26T06:31:43.844Z"
   },
   {
    "duration": 88,
    "start_time": "2023-04-26T06:31:43.879Z"
   },
   {
    "duration": 5,
    "start_time": "2023-04-26T06:31:43.969Z"
   },
   {
    "duration": 8,
    "start_time": "2023-04-26T06:31:43.976Z"
   },
   {
    "duration": 20,
    "start_time": "2023-04-26T06:31:43.995Z"
   },
   {
    "duration": 215,
    "start_time": "2023-04-26T06:31:44.018Z"
   },
   {
    "duration": 391,
    "start_time": "2023-04-26T06:31:44.237Z"
   },
   {
    "duration": 25,
    "start_time": "2023-04-26T06:31:44.630Z"
   },
   {
    "duration": 98,
    "start_time": "2023-04-26T06:31:44.658Z"
   },
   {
    "duration": 22,
    "start_time": "2023-04-26T06:31:44.758Z"
   },
   {
    "duration": 33,
    "start_time": "2023-04-26T06:31:44.783Z"
   },
   {
    "duration": 82,
    "start_time": "2023-04-26T06:31:44.819Z"
   },
   {
    "duration": 132,
    "start_time": "2023-04-26T06:31:44.903Z"
   },
   {
    "duration": 123,
    "start_time": "2023-04-26T06:31:45.038Z"
   },
   {
    "duration": 4,
    "start_time": "2023-04-26T06:31:45.164Z"
   },
   {
    "duration": 188,
    "start_time": "2023-04-26T06:31:45.169Z"
   },
   {
    "duration": 30,
    "start_time": "2023-04-26T06:31:45.358Z"
   },
   {
    "duration": 81,
    "start_time": "2023-04-26T06:31:45.390Z"
   },
   {
    "duration": 5,
    "start_time": "2023-04-26T06:31:45.473Z"
   },
   {
    "duration": 47,
    "start_time": "2023-04-26T06:31:45.480Z"
   },
   {
    "duration": 93,
    "start_time": "2023-04-26T06:31:45.529Z"
   },
   {
    "duration": 14,
    "start_time": "2023-04-26T06:31:45.624Z"
   },
   {
    "duration": 105,
    "start_time": "2023-04-26T06:31:45.640Z"
   },
   {
    "duration": 12,
    "start_time": "2023-04-26T06:31:45.747Z"
   },
   {
    "duration": 178,
    "start_time": "2023-04-26T06:31:45.760Z"
   },
   {
    "duration": 102,
    "start_time": "2023-04-26T06:31:45.940Z"
   },
   {
    "duration": 11083,
    "start_time": "2023-04-26T06:31:46.045Z"
   },
   {
    "duration": 198,
    "start_time": "2023-04-26T06:31:57.129Z"
   },
   {
    "duration": 74,
    "start_time": "2023-04-26T06:31:57.329Z"
   },
   {
    "duration": 21,
    "start_time": "2023-04-26T06:31:57.405Z"
   },
   {
    "duration": 12,
    "start_time": "2023-04-26T06:31:57.429Z"
   },
   {
    "duration": 79,
    "start_time": "2023-04-26T06:31:57.494Z"
   },
   {
    "duration": 38,
    "start_time": "2023-04-26T06:31:57.576Z"
   },
   {
    "duration": 9,
    "start_time": "2023-04-26T06:31:57.617Z"
   },
   {
    "duration": 7,
    "start_time": "2023-04-26T06:31:57.628Z"
   },
   {
    "duration": 129,
    "start_time": "2023-04-26T06:31:57.637Z"
   },
   {
    "duration": 7,
    "start_time": "2023-04-26T06:31:57.768Z"
   },
   {
    "duration": 1688,
    "start_time": "2023-04-26T06:31:57.778Z"
   },
   {
    "duration": 6,
    "start_time": "2023-04-26T06:31:59.468Z"
   },
   {
    "duration": 31,
    "start_time": "2023-04-26T06:31:59.476Z"
   },
   {
    "duration": 826,
    "start_time": "2023-04-26T06:31:59.511Z"
   },
   {
    "duration": 12,
    "start_time": "2023-04-26T06:32:00.339Z"
   },
   {
    "duration": 395,
    "start_time": "2023-04-26T06:32:00.353Z"
   },
   {
    "duration": 16,
    "start_time": "2023-04-26T06:32:00.750Z"
   },
   {
    "duration": 159,
    "start_time": "2023-04-26T06:32:00.767Z"
   },
   {
    "duration": 14,
    "start_time": "2023-04-26T06:35:32.440Z"
   },
   {
    "duration": 54,
    "start_time": "2023-04-26T06:36:02.485Z"
   },
   {
    "duration": 247,
    "start_time": "2023-04-26T06:36:17.848Z"
   },
   {
    "duration": 67,
    "start_time": "2023-04-26T06:36:39.249Z"
   },
   {
    "duration": 50,
    "start_time": "2023-04-26T06:36:46.465Z"
   },
   {
    "duration": 16,
    "start_time": "2023-04-26T06:38:49.992Z"
   },
   {
    "duration": 28,
    "start_time": "2023-04-26T06:39:31.868Z"
   },
   {
    "duration": 51,
    "start_time": "2023-04-26T06:39:57.192Z"
   },
   {
    "duration": 54,
    "start_time": "2023-04-26T06:40:09.566Z"
   },
   {
    "duration": 45,
    "start_time": "2023-04-26T06:47:18.272Z"
   },
   {
    "duration": 1692,
    "start_time": "2023-04-26T06:49:05.219Z"
   },
   {
    "duration": 6,
    "start_time": "2023-04-26T06:49:06.913Z"
   },
   {
    "duration": 70,
    "start_time": "2023-04-26T06:49:06.920Z"
   },
   {
    "duration": 35,
    "start_time": "2023-04-26T06:49:06.992Z"
   },
   {
    "duration": 13,
    "start_time": "2023-04-26T06:49:07.029Z"
   },
   {
    "duration": 14,
    "start_time": "2023-04-26T06:49:07.044Z"
   },
   {
    "duration": 38,
    "start_time": "2023-04-26T06:49:07.060Z"
   },
   {
    "duration": 32,
    "start_time": "2023-04-26T06:49:07.100Z"
   },
   {
    "duration": 5,
    "start_time": "2023-04-26T06:49:07.134Z"
   },
   {
    "duration": 17,
    "start_time": "2023-04-26T06:49:07.141Z"
   },
   {
    "duration": 14,
    "start_time": "2023-04-26T06:49:07.160Z"
   },
   {
    "duration": 53,
    "start_time": "2023-04-26T06:49:07.176Z"
   },
   {
    "duration": 8,
    "start_time": "2023-04-26T06:49:07.233Z"
   },
   {
    "duration": 16,
    "start_time": "2023-04-26T06:49:07.244Z"
   },
   {
    "duration": 21,
    "start_time": "2023-04-26T06:49:07.262Z"
   },
   {
    "duration": 2322,
    "start_time": "2023-04-26T06:49:07.295Z"
   },
   {
    "duration": 3182,
    "start_time": "2023-04-26T06:49:09.619Z"
   },
   {
    "duration": 10,
    "start_time": "2023-04-26T06:49:12.803Z"
   },
   {
    "duration": 9,
    "start_time": "2023-04-26T06:49:12.816Z"
   },
   {
    "duration": 10,
    "start_time": "2023-04-26T06:49:12.827Z"
   },
   {
    "duration": 19,
    "start_time": "2023-04-26T06:49:12.839Z"
   },
   {
    "duration": 18,
    "start_time": "2023-04-26T06:49:12.860Z"
   },
   {
    "duration": 36,
    "start_time": "2023-04-26T06:49:12.880Z"
   },
   {
    "duration": 10,
    "start_time": "2023-04-26T06:49:12.918Z"
   },
   {
    "duration": 11,
    "start_time": "2023-04-26T06:49:12.930Z"
   },
   {
    "duration": 32,
    "start_time": "2023-04-26T06:49:12.943Z"
   },
   {
    "duration": 17,
    "start_time": "2023-04-26T06:49:12.977Z"
   },
   {
    "duration": 45,
    "start_time": "2023-04-26T06:49:12.998Z"
   },
   {
    "duration": 12,
    "start_time": "2023-04-26T06:49:13.045Z"
   },
   {
    "duration": 24,
    "start_time": "2023-04-26T06:49:13.058Z"
   },
   {
    "duration": 59,
    "start_time": "2023-04-26T06:49:13.084Z"
   },
   {
    "duration": 58,
    "start_time": "2023-04-26T06:49:13.144Z"
   },
   {
    "duration": 6,
    "start_time": "2023-04-26T06:49:13.204Z"
   },
   {
    "duration": 16,
    "start_time": "2023-04-26T06:49:13.212Z"
   },
   {
    "duration": 18,
    "start_time": "2023-04-26T06:49:13.230Z"
   },
   {
    "duration": 309,
    "start_time": "2023-04-26T06:49:13.250Z"
   },
   {
    "duration": 158,
    "start_time": "2023-04-26T06:49:13.561Z"
   },
   {
    "duration": 17,
    "start_time": "2023-04-26T06:49:13.721Z"
   },
   {
    "duration": 85,
    "start_time": "2023-04-26T06:49:13.740Z"
   },
   {
    "duration": 15,
    "start_time": "2023-04-26T06:49:13.827Z"
   },
   {
    "duration": 15,
    "start_time": "2023-04-26T06:49:13.844Z"
   },
   {
    "duration": 77,
    "start_time": "2023-04-26T06:49:13.860Z"
   },
   {
    "duration": 123,
    "start_time": "2023-04-26T06:49:13.939Z"
   },
   {
    "duration": 114,
    "start_time": "2023-04-26T06:49:14.064Z"
   },
   {
    "duration": 5,
    "start_time": "2023-04-26T06:49:14.180Z"
   },
   {
    "duration": 82,
    "start_time": "2023-04-26T06:49:14.195Z"
   },
   {
    "duration": 42,
    "start_time": "2023-04-26T06:49:14.279Z"
   },
   {
    "duration": 192,
    "start_time": "2023-04-26T06:49:14.323Z"
   },
   {
    "duration": 4,
    "start_time": "2023-04-26T06:49:14.517Z"
   },
   {
    "duration": 21,
    "start_time": "2023-04-26T06:49:14.522Z"
   },
   {
    "duration": 111,
    "start_time": "2023-04-26T06:49:14.544Z"
   },
   {
    "duration": 14,
    "start_time": "2023-04-26T06:49:14.657Z"
   },
   {
    "duration": 85,
    "start_time": "2023-04-26T06:49:14.673Z"
   },
   {
    "duration": 14,
    "start_time": "2023-04-26T06:49:14.760Z"
   },
   {
    "duration": 33,
    "start_time": "2023-04-26T06:49:14.795Z"
   },
   {
    "duration": 86,
    "start_time": "2023-04-26T06:49:14.829Z"
   },
   {
    "duration": 9042,
    "start_time": "2023-04-26T06:49:14.917Z"
   },
   {
    "duration": 167,
    "start_time": "2023-04-26T06:49:23.961Z"
   },
   {
    "duration": 73,
    "start_time": "2023-04-26T06:49:24.130Z"
   },
   {
    "duration": 32,
    "start_time": "2023-04-26T06:49:24.206Z"
   },
   {
    "duration": 13,
    "start_time": "2023-04-26T06:49:24.240Z"
   },
   {
    "duration": 130,
    "start_time": "2023-04-26T06:49:24.255Z"
   },
   {
    "duration": 19,
    "start_time": "2023-04-26T06:49:24.386Z"
   },
   {
    "duration": 8,
    "start_time": "2023-04-26T06:49:24.407Z"
   },
   {
    "duration": 10,
    "start_time": "2023-04-26T06:49:24.416Z"
   },
   {
    "duration": 111,
    "start_time": "2023-04-26T06:49:24.427Z"
   },
   {
    "duration": 6,
    "start_time": "2023-04-26T06:49:24.539Z"
   },
   {
    "duration": 1493,
    "start_time": "2023-04-26T06:49:24.546Z"
   },
   {
    "duration": 7,
    "start_time": "2023-04-26T06:49:26.041Z"
   },
   {
    "duration": 9,
    "start_time": "2023-04-26T06:49:26.049Z"
   },
   {
    "duration": 814,
    "start_time": "2023-04-26T06:49:26.060Z"
   },
   {
    "duration": 26,
    "start_time": "2023-04-26T06:49:26.877Z"
   },
   {
    "duration": 102,
    "start_time": "2023-04-26T06:49:26.905Z"
   },
   {
    "duration": 14,
    "start_time": "2023-04-26T06:49:27.008Z"
   },
   {
    "duration": 304,
    "start_time": "2023-04-26T06:49:27.023Z"
   },
   {
    "duration": 1780,
    "start_time": "2023-04-26T06:49:43.732Z"
   },
   {
    "duration": 4,
    "start_time": "2023-04-26T06:49:45.514Z"
   },
   {
    "duration": 65,
    "start_time": "2023-04-26T06:49:45.520Z"
   },
   {
    "duration": 36,
    "start_time": "2023-04-26T06:49:45.587Z"
   },
   {
    "duration": 13,
    "start_time": "2023-04-26T06:49:45.625Z"
   },
   {
    "duration": 21,
    "start_time": "2023-04-26T06:49:45.640Z"
   },
   {
    "duration": 33,
    "start_time": "2023-04-26T06:49:45.662Z"
   },
   {
    "duration": 36,
    "start_time": "2023-04-26T06:49:45.696Z"
   },
   {
    "duration": 5,
    "start_time": "2023-04-26T06:49:45.734Z"
   },
   {
    "duration": 8,
    "start_time": "2023-04-26T06:49:45.742Z"
   },
   {
    "duration": 24,
    "start_time": "2023-04-26T06:49:45.752Z"
   },
   {
    "duration": 51,
    "start_time": "2023-04-26T06:49:45.778Z"
   },
   {
    "duration": 9,
    "start_time": "2023-04-26T06:49:45.831Z"
   },
   {
    "duration": 27,
    "start_time": "2023-04-26T06:49:45.842Z"
   },
   {
    "duration": 12,
    "start_time": "2023-04-26T06:49:45.872Z"
   },
   {
    "duration": 2361,
    "start_time": "2023-04-26T06:49:45.894Z"
   },
   {
    "duration": 3082,
    "start_time": "2023-04-26T06:49:48.257Z"
   },
   {
    "duration": 9,
    "start_time": "2023-04-26T06:49:51.341Z"
   },
   {
    "duration": 14,
    "start_time": "2023-04-26T06:49:51.351Z"
   },
   {
    "duration": 3,
    "start_time": "2023-04-26T06:49:51.367Z"
   },
   {
    "duration": 14,
    "start_time": "2023-04-26T06:49:51.371Z"
   },
   {
    "duration": 23,
    "start_time": "2023-04-26T06:49:51.387Z"
   },
   {
    "duration": 30,
    "start_time": "2023-04-26T06:49:51.412Z"
   },
   {
    "duration": 9,
    "start_time": "2023-04-26T06:49:51.444Z"
   },
   {
    "duration": 8,
    "start_time": "2023-04-26T06:49:51.454Z"
   },
   {
    "duration": 5,
    "start_time": "2023-04-26T06:49:51.464Z"
   },
   {
    "duration": 28,
    "start_time": "2023-04-26T06:49:51.471Z"
   },
   {
    "duration": 27,
    "start_time": "2023-04-26T06:49:51.505Z"
   },
   {
    "duration": 12,
    "start_time": "2023-04-26T06:49:51.534Z"
   },
   {
    "duration": 20,
    "start_time": "2023-04-26T06:49:51.547Z"
   },
   {
    "duration": 51,
    "start_time": "2023-04-26T06:49:51.569Z"
   },
   {
    "duration": 92,
    "start_time": "2023-04-26T06:49:51.621Z"
   },
   {
    "duration": 6,
    "start_time": "2023-04-26T06:49:51.715Z"
   },
   {
    "duration": 11,
    "start_time": "2023-04-26T06:49:51.723Z"
   },
   {
    "duration": 17,
    "start_time": "2023-04-26T06:49:51.735Z"
   },
   {
    "duration": 305,
    "start_time": "2023-04-26T06:49:51.754Z"
   },
   {
    "duration": 150,
    "start_time": "2023-04-26T06:49:52.062Z"
   },
   {
    "duration": 19,
    "start_time": "2023-04-26T06:49:52.213Z"
   },
   {
    "duration": 75,
    "start_time": "2023-04-26T06:49:52.234Z"
   },
   {
    "duration": 18,
    "start_time": "2023-04-26T06:49:52.311Z"
   },
   {
    "duration": 14,
    "start_time": "2023-04-26T06:49:52.330Z"
   },
   {
    "duration": 72,
    "start_time": "2023-04-26T06:49:52.346Z"
   },
   {
    "duration": 108,
    "start_time": "2023-04-26T06:49:52.419Z"
   },
   {
    "duration": 94,
    "start_time": "2023-04-26T06:49:52.528Z"
   },
   {
    "duration": 4,
    "start_time": "2023-04-26T06:49:52.624Z"
   },
   {
    "duration": 93,
    "start_time": "2023-04-26T06:49:52.630Z"
   },
   {
    "duration": 20,
    "start_time": "2023-04-26T06:49:52.725Z"
   },
   {
    "duration": 184,
    "start_time": "2023-04-26T06:49:52.747Z"
   },
   {
    "duration": 5,
    "start_time": "2023-04-26T06:49:52.933Z"
   },
   {
    "duration": 39,
    "start_time": "2023-04-26T06:49:52.940Z"
   },
   {
    "duration": 73,
    "start_time": "2023-04-26T06:49:52.980Z"
   },
   {
    "duration": 12,
    "start_time": "2023-04-26T06:49:53.055Z"
   },
   {
    "duration": 84,
    "start_time": "2023-04-26T06:49:53.068Z"
   },
   {
    "duration": 13,
    "start_time": "2023-04-26T06:49:53.155Z"
   },
   {
    "duration": 37,
    "start_time": "2023-04-26T06:49:53.170Z"
   },
   {
    "duration": 99,
    "start_time": "2023-04-26T06:49:53.209Z"
   },
   {
    "duration": 9359,
    "start_time": "2023-04-26T06:49:53.309Z"
   },
   {
    "duration": 140,
    "start_time": "2023-04-26T06:50:02.671Z"
   },
   {
    "duration": 16,
    "start_time": "2023-04-26T06:50:02.813Z"
   },
   {
    "duration": 75,
    "start_time": "2023-04-26T06:50:02.831Z"
   },
   {
    "duration": 16,
    "start_time": "2023-04-26T06:50:02.907Z"
   },
   {
    "duration": 116,
    "start_time": "2023-04-26T06:50:02.924Z"
   },
   {
    "duration": 13,
    "start_time": "2023-04-26T06:50:03.041Z"
   },
   {
    "duration": 15,
    "start_time": "2023-04-26T06:50:03.056Z"
   },
   {
    "duration": 43,
    "start_time": "2023-04-26T06:50:03.072Z"
   },
   {
    "duration": 121,
    "start_time": "2023-04-26T06:50:03.117Z"
   },
   {
    "duration": 5,
    "start_time": "2023-04-26T06:50:03.240Z"
   },
   {
    "duration": 1515,
    "start_time": "2023-04-26T06:50:03.247Z"
   },
   {
    "duration": 7,
    "start_time": "2023-04-26T06:50:04.764Z"
   },
   {
    "duration": 25,
    "start_time": "2023-04-26T06:50:04.772Z"
   },
   {
    "duration": 791,
    "start_time": "2023-04-26T06:50:04.799Z"
   },
   {
    "duration": 16,
    "start_time": "2023-04-26T06:50:05.594Z"
   },
   {
    "duration": 108,
    "start_time": "2023-04-26T06:50:05.612Z"
   },
   {
    "duration": 13,
    "start_time": "2023-04-26T06:50:05.722Z"
   },
   {
    "duration": 302,
    "start_time": "2023-04-26T06:50:05.737Z"
   },
   {
    "duration": 1732,
    "start_time": "2023-04-26T07:16:49.256Z"
   },
   {
    "duration": 4,
    "start_time": "2023-04-26T07:16:50.990Z"
   },
   {
    "duration": 85,
    "start_time": "2023-04-26T07:16:50.995Z"
   },
   {
    "duration": 36,
    "start_time": "2023-04-26T07:16:51.085Z"
   },
   {
    "duration": 16,
    "start_time": "2023-04-26T07:16:51.123Z"
   },
   {
    "duration": 20,
    "start_time": "2023-04-26T07:16:51.140Z"
   },
   {
    "duration": 32,
    "start_time": "2023-04-26T07:16:51.162Z"
   },
   {
    "duration": 29,
    "start_time": "2023-04-26T07:16:51.196Z"
   },
   {
    "duration": 5,
    "start_time": "2023-04-26T07:16:51.226Z"
   },
   {
    "duration": 24,
    "start_time": "2023-04-26T07:16:51.234Z"
   },
   {
    "duration": 14,
    "start_time": "2023-04-26T07:16:51.260Z"
   },
   {
    "duration": 32,
    "start_time": "2023-04-26T07:16:51.276Z"
   },
   {
    "duration": 11,
    "start_time": "2023-04-26T07:16:51.310Z"
   },
   {
    "duration": 18,
    "start_time": "2023-04-26T07:16:51.323Z"
   },
   {
    "duration": 11,
    "start_time": "2023-04-26T07:16:51.343Z"
   },
   {
    "duration": 2425,
    "start_time": "2023-04-26T07:16:51.355Z"
   },
   {
    "duration": 3132,
    "start_time": "2023-04-26T07:16:53.782Z"
   },
   {
    "duration": 8,
    "start_time": "2023-04-26T07:16:56.916Z"
   },
   {
    "duration": 15,
    "start_time": "2023-04-26T07:16:56.925Z"
   },
   {
    "duration": 5,
    "start_time": "2023-04-26T07:16:56.942Z"
   },
   {
    "duration": 5,
    "start_time": "2023-04-26T07:16:56.948Z"
   },
   {
    "duration": 15,
    "start_time": "2023-04-26T07:16:56.954Z"
   },
   {
    "duration": 31,
    "start_time": "2023-04-26T07:16:56.970Z"
   },
   {
    "duration": 6,
    "start_time": "2023-04-26T07:16:57.003Z"
   },
   {
    "duration": 12,
    "start_time": "2023-04-26T07:16:57.011Z"
   },
   {
    "duration": 4,
    "start_time": "2023-04-26T07:16:57.025Z"
   },
   {
    "duration": 15,
    "start_time": "2023-04-26T07:16:57.031Z"
   },
   {
    "duration": 26,
    "start_time": "2023-04-26T07:16:57.051Z"
   },
   {
    "duration": 28,
    "start_time": "2023-04-26T07:16:57.079Z"
   },
   {
    "duration": 25,
    "start_time": "2023-04-26T07:16:57.108Z"
   },
   {
    "duration": 28,
    "start_time": "2023-04-26T07:16:57.134Z"
   },
   {
    "duration": 84,
    "start_time": "2023-04-26T07:16:57.164Z"
   },
   {
    "duration": 5,
    "start_time": "2023-04-26T07:16:57.249Z"
   },
   {
    "duration": 6,
    "start_time": "2023-04-26T07:16:57.255Z"
   },
   {
    "duration": 14,
    "start_time": "2023-04-26T07:16:57.262Z"
   },
   {
    "duration": 310,
    "start_time": "2023-04-26T07:16:57.278Z"
   },
   {
    "duration": 122,
    "start_time": "2023-04-26T07:16:57.589Z"
   },
   {
    "duration": 15,
    "start_time": "2023-04-26T07:16:57.712Z"
   },
   {
    "duration": 74,
    "start_time": "2023-04-26T07:16:57.729Z"
   },
   {
    "duration": 23,
    "start_time": "2023-04-26T07:16:57.806Z"
   },
   {
    "duration": 17,
    "start_time": "2023-04-26T07:16:57.831Z"
   },
   {
    "duration": 84,
    "start_time": "2023-04-26T07:16:57.850Z"
   },
   {
    "duration": 114,
    "start_time": "2023-04-26T07:16:57.936Z"
   },
   {
    "duration": 94,
    "start_time": "2023-04-26T07:16:58.052Z"
   },
   {
    "duration": 4,
    "start_time": "2023-04-26T07:16:58.147Z"
   },
   {
    "duration": 93,
    "start_time": "2023-04-26T07:16:58.153Z"
   },
   {
    "duration": 18,
    "start_time": "2023-04-26T07:16:58.248Z"
   },
   {
    "duration": 171,
    "start_time": "2023-04-26T07:16:58.267Z"
   },
   {
    "duration": 4,
    "start_time": "2023-04-26T07:16:58.439Z"
   },
   {
    "duration": 47,
    "start_time": "2023-04-26T07:16:58.444Z"
   },
   {
    "duration": 63,
    "start_time": "2023-04-26T07:16:58.493Z"
   },
   {
    "duration": 11,
    "start_time": "2023-04-26T07:16:58.558Z"
   },
   {
    "duration": 78,
    "start_time": "2023-04-26T07:16:58.570Z"
   },
   {
    "duration": 11,
    "start_time": "2023-04-26T07:16:58.650Z"
   },
   {
    "duration": 35,
    "start_time": "2023-04-26T07:16:58.662Z"
   },
   {
    "duration": 83,
    "start_time": "2023-04-26T07:16:58.699Z"
   },
   {
    "duration": 8946,
    "start_time": "2023-04-26T07:16:58.783Z"
   },
   {
    "duration": 176,
    "start_time": "2023-04-26T07:17:07.731Z"
   },
   {
    "duration": 15,
    "start_time": "2023-04-26T07:17:07.908Z"
   },
   {
    "duration": 75,
    "start_time": "2023-04-26T07:17:07.925Z"
   },
   {
    "duration": 11,
    "start_time": "2023-04-26T07:17:08.001Z"
   },
   {
    "duration": 90,
    "start_time": "2023-04-26T07:17:08.013Z"
   },
   {
    "duration": 11,
    "start_time": "2023-04-26T07:17:08.105Z"
   },
   {
    "duration": 6,
    "start_time": "2023-04-26T07:17:08.118Z"
   },
   {
    "duration": 8,
    "start_time": "2023-04-26T07:17:08.125Z"
   },
   {
    "duration": 102,
    "start_time": "2023-04-26T07:17:08.135Z"
   },
   {
    "duration": 5,
    "start_time": "2023-04-26T07:17:08.239Z"
   },
   {
    "duration": 1480,
    "start_time": "2023-04-26T07:17:08.246Z"
   },
   {
    "duration": 8,
    "start_time": "2023-04-26T07:17:09.728Z"
   },
   {
    "duration": 19,
    "start_time": "2023-04-26T07:17:09.737Z"
   },
   {
    "duration": 782,
    "start_time": "2023-04-26T07:17:09.758Z"
   },
   {
    "duration": 13,
    "start_time": "2023-04-26T07:17:10.541Z"
   },
   {
    "duration": 106,
    "start_time": "2023-04-26T07:17:10.555Z"
   },
   {
    "duration": 13,
    "start_time": "2023-04-26T07:17:10.662Z"
   },
   {
    "duration": 278,
    "start_time": "2023-04-26T07:17:10.694Z"
   },
   {
    "duration": 5,
    "start_time": "2023-04-26T07:36:00.380Z"
   },
   {
    "duration": 7,
    "start_time": "2023-04-26T07:36:01.603Z"
   },
   {
    "duration": 5,
    "start_time": "2023-04-26T07:36:18.423Z"
   },
   {
    "duration": 6,
    "start_time": "2023-04-26T07:36:33.982Z"
   },
   {
    "duration": 1853,
    "start_time": "2023-04-26T07:36:52.160Z"
   },
   {
    "duration": 6,
    "start_time": "2023-04-26T07:36:54.016Z"
   },
   {
    "duration": 73,
    "start_time": "2023-04-26T07:36:54.024Z"
   },
   {
    "duration": 47,
    "start_time": "2023-04-26T07:36:54.100Z"
   },
   {
    "duration": 23,
    "start_time": "2023-04-26T07:36:54.150Z"
   },
   {
    "duration": 37,
    "start_time": "2023-04-26T07:36:54.176Z"
   },
   {
    "duration": 13,
    "start_time": "2023-04-26T07:36:54.215Z"
   },
   {
    "duration": 65,
    "start_time": "2023-04-26T07:36:54.230Z"
   },
   {
    "duration": 7,
    "start_time": "2023-04-26T07:36:54.297Z"
   },
   {
    "duration": 8,
    "start_time": "2023-04-26T07:36:54.308Z"
   },
   {
    "duration": 9,
    "start_time": "2023-04-26T07:36:54.319Z"
   },
   {
    "duration": 30,
    "start_time": "2023-04-26T07:36:54.330Z"
   },
   {
    "duration": 35,
    "start_time": "2023-04-26T07:36:54.362Z"
   },
   {
    "duration": 10,
    "start_time": "2023-04-26T07:36:54.399Z"
   },
   {
    "duration": 13,
    "start_time": "2023-04-26T07:36:54.410Z"
   },
   {
    "duration": 2593,
    "start_time": "2023-04-26T07:36:54.425Z"
   },
   {
    "duration": 3279,
    "start_time": "2023-04-26T07:36:57.019Z"
   },
   {
    "duration": 10,
    "start_time": "2023-04-26T07:37:00.300Z"
   },
   {
    "duration": 21,
    "start_time": "2023-04-26T07:37:00.312Z"
   },
   {
    "duration": 26,
    "start_time": "2023-04-26T07:37:00.335Z"
   },
   {
    "duration": 11,
    "start_time": "2023-04-26T07:37:00.362Z"
   },
   {
    "duration": 22,
    "start_time": "2023-04-26T07:37:00.375Z"
   },
   {
    "duration": 24,
    "start_time": "2023-04-26T07:37:00.399Z"
   },
   {
    "duration": 11,
    "start_time": "2023-04-26T07:37:00.426Z"
   },
   {
    "duration": 8,
    "start_time": "2023-04-26T07:37:00.439Z"
   },
   {
    "duration": 12,
    "start_time": "2023-04-26T07:37:00.449Z"
   },
   {
    "duration": 22,
    "start_time": "2023-04-26T07:37:00.463Z"
   },
   {
    "duration": 39,
    "start_time": "2023-04-26T07:37:00.489Z"
   },
   {
    "duration": 14,
    "start_time": "2023-04-26T07:37:00.529Z"
   },
   {
    "duration": 39,
    "start_time": "2023-04-26T07:37:00.544Z"
   },
   {
    "duration": 56,
    "start_time": "2023-04-26T07:37:00.585Z"
   },
   {
    "duration": 87,
    "start_time": "2023-04-26T07:37:00.643Z"
   },
   {
    "duration": 8,
    "start_time": "2023-04-26T07:37:00.734Z"
   },
   {
    "duration": 32,
    "start_time": "2023-04-26T07:37:00.744Z"
   },
   {
    "duration": 35,
    "start_time": "2023-04-26T07:37:00.779Z"
   },
   {
    "duration": 333,
    "start_time": "2023-04-26T07:37:00.816Z"
   },
   {
    "duration": 88,
    "start_time": "2023-04-26T07:37:01.150Z"
   },
   {
    "duration": 57,
    "start_time": "2023-04-26T07:37:01.240Z"
   },
   {
    "duration": 78,
    "start_time": "2023-04-26T07:37:01.299Z"
   },
   {
    "duration": 24,
    "start_time": "2023-04-26T07:37:01.393Z"
   },
   {
    "duration": 84,
    "start_time": "2023-04-26T07:37:01.419Z"
   },
   {
    "duration": 93,
    "start_time": "2023-04-26T07:37:01.504Z"
   },
   {
    "duration": 127,
    "start_time": "2023-04-26T07:37:01.598Z"
   },
   {
    "duration": 96,
    "start_time": "2023-04-26T07:37:01.727Z"
   },
   {
    "duration": 7,
    "start_time": "2023-04-26T07:37:01.825Z"
   },
   {
    "duration": 97,
    "start_time": "2023-04-26T07:37:01.833Z"
   },
   {
    "duration": 58,
    "start_time": "2023-04-26T07:37:01.932Z"
   },
   {
    "duration": 174,
    "start_time": "2023-04-26T07:37:01.993Z"
   },
   {
    "duration": 4,
    "start_time": "2023-04-26T07:37:02.170Z"
   },
   {
    "duration": 37,
    "start_time": "2023-04-26T07:37:02.176Z"
   },
   {
    "duration": 83,
    "start_time": "2023-04-26T07:37:02.215Z"
   },
   {
    "duration": 16,
    "start_time": "2023-04-26T07:37:02.300Z"
   },
   {
    "duration": 101,
    "start_time": "2023-04-26T07:37:02.318Z"
   },
   {
    "duration": 12,
    "start_time": "2023-04-26T07:37:02.421Z"
   },
   {
    "duration": 32,
    "start_time": "2023-04-26T07:37:02.434Z"
   },
   {
    "duration": 84,
    "start_time": "2023-04-26T07:37:02.468Z"
   },
   {
    "duration": 9059,
    "start_time": "2023-04-26T07:37:02.554Z"
   },
   {
    "duration": 108,
    "start_time": "2023-04-26T07:37:11.615Z"
   },
   {
    "duration": 15,
    "start_time": "2023-04-26T07:37:11.725Z"
   },
   {
    "duration": 20,
    "start_time": "2023-04-26T07:37:11.793Z"
   },
   {
    "duration": 12,
    "start_time": "2023-04-26T07:37:11.814Z"
   },
   {
    "duration": 144,
    "start_time": "2023-04-26T07:37:11.828Z"
   },
   {
    "duration": 32,
    "start_time": "2023-04-26T07:37:11.974Z"
   },
   {
    "duration": 9,
    "start_time": "2023-04-26T07:37:12.008Z"
   },
   {
    "duration": 9,
    "start_time": "2023-04-26T07:37:12.019Z"
   },
   {
    "duration": 127,
    "start_time": "2023-04-26T07:37:12.030Z"
   },
   {
    "duration": 6,
    "start_time": "2023-04-26T07:37:12.159Z"
   },
   {
    "duration": 1526,
    "start_time": "2023-04-26T07:37:12.167Z"
   },
   {
    "duration": 4,
    "start_time": "2023-04-26T07:37:13.695Z"
   },
   {
    "duration": 984,
    "start_time": "2023-04-26T07:37:13.700Z"
   },
   {
    "duration": 0,
    "start_time": "2023-04-26T07:37:14.686Z"
   },
   {
    "duration": 0,
    "start_time": "2023-04-26T07:37:14.687Z"
   },
   {
    "duration": 0,
    "start_time": "2023-04-26T07:37:14.688Z"
   },
   {
    "duration": 0,
    "start_time": "2023-04-26T07:37:14.689Z"
   },
   {
    "duration": 0,
    "start_time": "2023-04-26T07:37:14.690Z"
   },
   {
    "duration": 4,
    "start_time": "2023-04-26T07:39:42.985Z"
   },
   {
    "duration": 2,
    "start_time": "2023-04-26T07:50:06.285Z"
   },
   {
    "duration": 12,
    "start_time": "2023-04-26T07:50:24.319Z"
   },
   {
    "duration": 12,
    "start_time": "2023-04-26T07:50:35.480Z"
   },
   {
    "duration": 10,
    "start_time": "2023-04-26T07:51:01.914Z"
   },
   {
    "duration": 11,
    "start_time": "2023-04-26T07:53:19.122Z"
   },
   {
    "duration": 8,
    "start_time": "2023-04-26T07:53:37.260Z"
   },
   {
    "duration": 820,
    "start_time": "2023-04-26T07:53:37.634Z"
   },
   {
    "duration": 11,
    "start_time": "2023-04-26T07:53:38.456Z"
   },
   {
    "duration": 133,
    "start_time": "2023-04-26T07:53:38.468Z"
   },
   {
    "duration": 17,
    "start_time": "2023-04-26T07:53:39.283Z"
   },
   {
    "duration": 313,
    "start_time": "2023-04-26T07:53:41.022Z"
   },
   {
    "duration": 13,
    "start_time": "2023-04-26T07:53:58.452Z"
   },
   {
    "duration": 14,
    "start_time": "2023-04-26T07:54:07.311Z"
   },
   {
    "duration": 14,
    "start_time": "2023-04-26T07:54:13.444Z"
   },
   {
    "duration": 16,
    "start_time": "2023-04-26T08:13:04.528Z"
   },
   {
    "duration": 3,
    "start_time": "2023-04-26T08:14:31.309Z"
   },
   {
    "duration": 15,
    "start_time": "2023-04-26T08:14:31.875Z"
   },
   {
    "duration": 16,
    "start_time": "2023-04-26T08:17:30.816Z"
   },
   {
    "duration": 15,
    "start_time": "2023-04-26T08:17:36.356Z"
   },
   {
    "duration": 13,
    "start_time": "2023-04-26T08:17:47.343Z"
   },
   {
    "duration": 8,
    "start_time": "2023-04-26T08:18:14.739Z"
   },
   {
    "duration": 6,
    "start_time": "2023-04-26T08:20:41.443Z"
   },
   {
    "duration": 5,
    "start_time": "2023-04-26T08:20:51.965Z"
   },
   {
    "duration": 6,
    "start_time": "2023-04-26T08:23:56.572Z"
   },
   {
    "duration": 12,
    "start_time": "2023-04-26T08:24:29.262Z"
   },
   {
    "duration": 15,
    "start_time": "2023-04-26T08:24:51.011Z"
   },
   {
    "duration": 13,
    "start_time": "2023-04-26T08:24:57.724Z"
   },
   {
    "duration": 3,
    "start_time": "2023-04-26T08:28:28.060Z"
   },
   {
    "duration": 32,
    "start_time": "2023-04-26T08:30:16.012Z"
   },
   {
    "duration": 24,
    "start_time": "2023-04-26T08:30:39.634Z"
   },
   {
    "duration": 41,
    "start_time": "2023-04-26T08:30:48.397Z"
   },
   {
    "duration": 79,
    "start_time": "2023-04-26T08:32:40.214Z"
   },
   {
    "duration": 52,
    "start_time": "2023-04-26T08:33:46.633Z"
   },
   {
    "duration": 87,
    "start_time": "2023-04-26T08:34:13.555Z"
   },
   {
    "duration": 78,
    "start_time": "2023-04-26T08:34:44.832Z"
   },
   {
    "duration": 75,
    "start_time": "2023-04-26T08:35:09.253Z"
   },
   {
    "duration": 81,
    "start_time": "2023-04-26T08:35:58.072Z"
   },
   {
    "duration": 13,
    "start_time": "2023-04-26T08:36:56.148Z"
   },
   {
    "duration": 83,
    "start_time": "2023-04-26T08:37:56.862Z"
   },
   {
    "duration": 17,
    "start_time": "2023-04-26T08:41:05.257Z"
   },
   {
    "duration": 18,
    "start_time": "2023-04-26T08:44:08.000Z"
   },
   {
    "duration": 21,
    "start_time": "2023-04-26T08:44:24.277Z"
   },
   {
    "duration": 18,
    "start_time": "2023-04-26T08:46:10.115Z"
   },
   {
    "duration": 25,
    "start_time": "2023-04-26T08:46:47.863Z"
   },
   {
    "duration": 29,
    "start_time": "2023-04-26T08:48:57.349Z"
   },
   {
    "duration": 16,
    "start_time": "2023-04-26T08:49:08.911Z"
   },
   {
    "duration": 22,
    "start_time": "2023-04-26T08:49:19.512Z"
   },
   {
    "duration": 24,
    "start_time": "2023-04-26T08:49:38.464Z"
   },
   {
    "duration": 26,
    "start_time": "2023-04-26T08:50:54.711Z"
   },
   {
    "duration": 1824,
    "start_time": "2023-04-26T08:51:04.834Z"
   },
   {
    "duration": 6,
    "start_time": "2023-04-26T08:51:06.661Z"
   },
   {
    "duration": 103,
    "start_time": "2023-04-26T08:51:06.668Z"
   },
   {
    "duration": 38,
    "start_time": "2023-04-26T08:51:06.773Z"
   },
   {
    "duration": 15,
    "start_time": "2023-04-26T08:51:06.814Z"
   },
   {
    "duration": 20,
    "start_time": "2023-04-26T08:51:06.831Z"
   },
   {
    "duration": 8,
    "start_time": "2023-04-26T08:51:06.853Z"
   },
   {
    "duration": 48,
    "start_time": "2023-04-26T08:51:06.862Z"
   },
   {
    "duration": 6,
    "start_time": "2023-04-26T08:51:06.917Z"
   },
   {
    "duration": 10,
    "start_time": "2023-04-26T08:51:06.927Z"
   },
   {
    "duration": 9,
    "start_time": "2023-04-26T08:51:06.939Z"
   },
   {
    "duration": 26,
    "start_time": "2023-04-26T08:51:06.950Z"
   },
   {
    "duration": 8,
    "start_time": "2023-04-26T08:51:06.994Z"
   },
   {
    "duration": 15,
    "start_time": "2023-04-26T08:51:07.003Z"
   },
   {
    "duration": 12,
    "start_time": "2023-04-26T08:51:07.020Z"
   },
   {
    "duration": 2416,
    "start_time": "2023-04-26T08:51:07.034Z"
   },
   {
    "duration": 3278,
    "start_time": "2023-04-26T08:51:09.452Z"
   },
   {
    "duration": 9,
    "start_time": "2023-04-26T08:51:12.732Z"
   },
   {
    "duration": 10,
    "start_time": "2023-04-26T08:51:12.743Z"
   },
   {
    "duration": 12,
    "start_time": "2023-04-26T08:51:12.755Z"
   },
   {
    "duration": 15,
    "start_time": "2023-04-26T08:51:12.769Z"
   },
   {
    "duration": 14,
    "start_time": "2023-04-26T08:51:12.785Z"
   },
   {
    "duration": 34,
    "start_time": "2023-04-26T08:51:12.802Z"
   },
   {
    "duration": 10,
    "start_time": "2023-04-26T08:51:12.837Z"
   },
   {
    "duration": 10,
    "start_time": "2023-04-26T08:51:12.849Z"
   },
   {
    "duration": 13,
    "start_time": "2023-04-26T08:51:12.860Z"
   },
   {
    "duration": 13,
    "start_time": "2023-04-26T08:51:12.875Z"
   },
   {
    "duration": 29,
    "start_time": "2023-04-26T08:51:12.898Z"
   },
   {
    "duration": 15,
    "start_time": "2023-04-26T08:51:12.928Z"
   },
   {
    "duration": 39,
    "start_time": "2023-04-26T08:51:12.946Z"
   },
   {
    "duration": 42,
    "start_time": "2023-04-26T08:51:12.987Z"
   },
   {
    "duration": 80,
    "start_time": "2023-04-26T08:51:13.030Z"
   },
   {
    "duration": 6,
    "start_time": "2023-04-26T08:51:13.112Z"
   },
   {
    "duration": 5,
    "start_time": "2023-04-26T08:51:13.119Z"
   },
   {
    "duration": 19,
    "start_time": "2023-04-26T08:51:13.126Z"
   },
   {
    "duration": 18,
    "start_time": "2023-04-26T08:51:13.147Z"
   },
   {
    "duration": 346,
    "start_time": "2023-04-26T08:51:13.167Z"
   },
   {
    "duration": 115,
    "start_time": "2023-04-26T08:51:13.515Z"
   },
   {
    "duration": 17,
    "start_time": "2023-04-26T08:51:13.631Z"
   },
   {
    "duration": 92,
    "start_time": "2023-04-26T08:51:13.649Z"
   },
   {
    "duration": 24,
    "start_time": "2023-04-26T08:51:13.743Z"
   },
   {
    "duration": 29,
    "start_time": "2023-04-26T08:51:13.768Z"
   },
   {
    "duration": 48,
    "start_time": "2023-04-26T08:51:13.799Z"
   },
   {
    "duration": 112,
    "start_time": "2023-04-26T08:51:13.849Z"
   },
   {
    "duration": 141,
    "start_time": "2023-04-26T08:51:13.963Z"
   },
   {
    "duration": 6,
    "start_time": "2023-04-26T08:51:14.107Z"
   },
   {
    "duration": 67,
    "start_time": "2023-04-26T08:51:14.115Z"
   },
   {
    "duration": 26,
    "start_time": "2023-04-26T08:51:14.194Z"
   },
   {
    "duration": 208,
    "start_time": "2023-04-26T08:51:14.222Z"
   },
   {
    "duration": 4,
    "start_time": "2023-04-26T08:51:14.432Z"
   },
   {
    "duration": 33,
    "start_time": "2023-04-26T08:51:14.438Z"
   },
   {
    "duration": 81,
    "start_time": "2023-04-26T08:51:14.473Z"
   },
   {
    "duration": 15,
    "start_time": "2023-04-26T08:51:14.556Z"
   },
   {
    "duration": 87,
    "start_time": "2023-04-26T08:51:14.573Z"
   },
   {
    "duration": 11,
    "start_time": "2023-04-26T08:51:14.661Z"
   },
   {
    "duration": 43,
    "start_time": "2023-04-26T08:51:14.673Z"
   },
   {
    "duration": 91,
    "start_time": "2023-04-26T08:51:14.718Z"
   },
   {
    "duration": 9913,
    "start_time": "2023-04-26T08:51:14.817Z"
   },
   {
    "duration": 109,
    "start_time": "2023-04-26T08:51:24.733Z"
   },
   {
    "duration": 69,
    "start_time": "2023-04-26T08:51:24.844Z"
   },
   {
    "duration": 19,
    "start_time": "2023-04-26T08:51:24.917Z"
   },
   {
    "duration": 70,
    "start_time": "2023-04-26T08:51:24.938Z"
   },
   {
    "duration": 69,
    "start_time": "2023-04-26T08:51:25.010Z"
   },
   {
    "duration": 35,
    "start_time": "2023-04-26T08:51:25.081Z"
   },
   {
    "duration": 8,
    "start_time": "2023-04-26T08:51:25.117Z"
   },
   {
    "duration": 18,
    "start_time": "2023-04-26T08:51:25.127Z"
   },
   {
    "duration": 122,
    "start_time": "2023-04-26T08:51:25.147Z"
   },
   {
    "duration": 5,
    "start_time": "2023-04-26T08:51:25.271Z"
   },
   {
    "duration": 1706,
    "start_time": "2023-04-26T08:51:25.278Z"
   },
   {
    "duration": 13,
    "start_time": "2023-04-26T08:51:26.986Z"
   },
   {
    "duration": 233,
    "start_time": "2023-04-26T08:51:27.004Z"
   },
   {
    "duration": 0,
    "start_time": "2023-04-26T08:51:27.239Z"
   },
   {
    "duration": 0,
    "start_time": "2023-04-26T08:51:27.240Z"
   },
   {
    "duration": 0,
    "start_time": "2023-04-26T08:51:27.241Z"
   },
   {
    "duration": 0,
    "start_time": "2023-04-26T08:51:27.246Z"
   },
   {
    "duration": 0,
    "start_time": "2023-04-26T08:51:27.249Z"
   },
   {
    "duration": 0,
    "start_time": "2023-04-26T08:51:27.252Z"
   },
   {
    "duration": 0,
    "start_time": "2023-04-26T08:51:27.253Z"
   },
   {
    "duration": 28,
    "start_time": "2023-04-26T08:52:39.295Z"
   },
   {
    "duration": 18,
    "start_time": "2023-04-26T08:52:42.941Z"
   },
   {
    "duration": 31,
    "start_time": "2023-04-26T08:52:43.136Z"
   },
   {
    "duration": 31,
    "start_time": "2023-04-26T08:52:47.535Z"
   },
   {
    "duration": 58,
    "start_time": "2023-04-26T08:53:11.873Z"
   },
   {
    "duration": 37,
    "start_time": "2023-04-26T08:53:27.348Z"
   },
   {
    "duration": 17,
    "start_time": "2023-04-26T08:53:38.659Z"
   },
   {
    "duration": 56,
    "start_time": "2023-04-26T08:53:47.367Z"
   },
   {
    "duration": 31,
    "start_time": "2023-04-26T08:55:05.180Z"
   },
   {
    "duration": 43,
    "start_time": "2023-04-26T08:55:48.532Z"
   },
   {
    "duration": 0,
    "start_time": "2023-04-26T08:55:48.577Z"
   },
   {
    "duration": 2073,
    "start_time": "2023-04-26T08:56:03.039Z"
   },
   {
    "duration": 8,
    "start_time": "2023-04-26T08:56:05.124Z"
   },
   {
    "duration": 89,
    "start_time": "2023-04-26T08:56:05.134Z"
   },
   {
    "duration": 40,
    "start_time": "2023-04-26T08:56:05.227Z"
   },
   {
    "duration": 14,
    "start_time": "2023-04-26T08:56:05.269Z"
   },
   {
    "duration": 34,
    "start_time": "2023-04-26T08:56:05.285Z"
   },
   {
    "duration": 16,
    "start_time": "2023-04-26T08:56:05.320Z"
   },
   {
    "duration": 42,
    "start_time": "2023-04-26T08:56:05.339Z"
   },
   {
    "duration": 5,
    "start_time": "2023-04-26T08:56:05.383Z"
   },
   {
    "duration": 17,
    "start_time": "2023-04-26T08:56:05.405Z"
   },
   {
    "duration": 18,
    "start_time": "2023-04-26T08:56:05.424Z"
   },
   {
    "duration": 31,
    "start_time": "2023-04-26T08:56:05.445Z"
   },
   {
    "duration": 8,
    "start_time": "2023-04-26T08:56:05.477Z"
   },
   {
    "duration": 23,
    "start_time": "2023-04-26T08:56:05.488Z"
   },
   {
    "duration": 22,
    "start_time": "2023-04-26T08:56:05.513Z"
   },
   {
    "duration": 2553,
    "start_time": "2023-04-26T08:56:05.537Z"
   },
   {
    "duration": 3200,
    "start_time": "2023-04-26T08:56:08.092Z"
   },
   {
    "duration": 17,
    "start_time": "2023-04-26T08:56:11.299Z"
   },
   {
    "duration": 20,
    "start_time": "2023-04-26T08:56:11.318Z"
   },
   {
    "duration": 25,
    "start_time": "2023-04-26T08:56:11.340Z"
   },
   {
    "duration": 23,
    "start_time": "2023-04-26T08:56:11.367Z"
   },
   {
    "duration": 61,
    "start_time": "2023-04-26T08:56:11.393Z"
   },
   {
    "duration": 45,
    "start_time": "2023-04-26T08:56:11.457Z"
   },
   {
    "duration": 15,
    "start_time": "2023-04-26T08:56:11.507Z"
   },
   {
    "duration": 24,
    "start_time": "2023-04-26T08:56:11.524Z"
   },
   {
    "duration": 7,
    "start_time": "2023-04-26T08:56:11.550Z"
   },
   {
    "duration": 10,
    "start_time": "2023-04-26T08:56:11.558Z"
   },
   {
    "duration": 31,
    "start_time": "2023-04-26T08:56:11.570Z"
   },
   {
    "duration": 21,
    "start_time": "2023-04-26T08:56:11.602Z"
   },
   {
    "duration": 27,
    "start_time": "2023-04-26T08:56:11.624Z"
   },
   {
    "duration": 44,
    "start_time": "2023-04-26T08:56:11.653Z"
   },
   {
    "duration": 79,
    "start_time": "2023-04-26T08:56:11.698Z"
   },
   {
    "duration": 5,
    "start_time": "2023-04-26T08:56:11.779Z"
   },
   {
    "duration": 38,
    "start_time": "2023-04-26T08:56:11.786Z"
   },
   {
    "duration": 14,
    "start_time": "2023-04-26T08:56:11.832Z"
   },
   {
    "duration": 28,
    "start_time": "2023-04-26T08:56:11.848Z"
   },
   {
    "duration": 420,
    "start_time": "2023-04-26T08:56:11.878Z"
   },
   {
    "duration": 245,
    "start_time": "2023-04-26T08:56:12.300Z"
   },
   {
    "duration": 23,
    "start_time": "2023-04-26T08:56:12.548Z"
   },
   {
    "duration": 89,
    "start_time": "2023-04-26T08:56:12.573Z"
   },
   {
    "duration": 22,
    "start_time": "2023-04-26T08:56:12.667Z"
   },
   {
    "duration": 19,
    "start_time": "2023-04-26T08:56:12.694Z"
   },
   {
    "duration": 76,
    "start_time": "2023-04-26T08:56:12.715Z"
   },
   {
    "duration": 130,
    "start_time": "2023-04-26T08:56:12.793Z"
   },
   {
    "duration": 113,
    "start_time": "2023-04-26T08:56:12.924Z"
   },
   {
    "duration": 5,
    "start_time": "2023-04-26T08:56:13.039Z"
   },
   {
    "duration": 103,
    "start_time": "2023-04-26T08:56:13.046Z"
   },
   {
    "duration": 24,
    "start_time": "2023-04-26T08:56:13.151Z"
   },
   {
    "duration": 202,
    "start_time": "2023-04-26T08:56:13.177Z"
   },
   {
    "duration": 4,
    "start_time": "2023-04-26T08:56:13.381Z"
   },
   {
    "duration": 35,
    "start_time": "2023-04-26T08:56:13.414Z"
   },
   {
    "duration": 116,
    "start_time": "2023-04-26T08:56:13.451Z"
   },
   {
    "duration": 15,
    "start_time": "2023-04-26T08:56:13.569Z"
   },
   {
    "duration": 87,
    "start_time": "2023-04-26T08:56:13.594Z"
   },
   {
    "duration": 35,
    "start_time": "2023-04-26T08:56:13.682Z"
   },
   {
    "duration": 41,
    "start_time": "2023-04-26T08:56:13.718Z"
   },
   {
    "duration": 116,
    "start_time": "2023-04-26T08:56:13.761Z"
   },
   {
    "duration": 10691,
    "start_time": "2023-04-26T08:56:13.879Z"
   },
   {
    "duration": 158,
    "start_time": "2023-04-26T08:56:24.572Z"
   },
   {
    "duration": 71,
    "start_time": "2023-04-26T08:56:24.731Z"
   },
   {
    "duration": 27,
    "start_time": "2023-04-26T08:56:24.804Z"
   },
   {
    "duration": 11,
    "start_time": "2023-04-26T08:56:24.832Z"
   },
   {
    "duration": 132,
    "start_time": "2023-04-26T08:56:24.845Z"
   },
   {
    "duration": 27,
    "start_time": "2023-04-26T08:56:24.978Z"
   },
   {
    "duration": 22,
    "start_time": "2023-04-26T08:56:25.007Z"
   },
   {
    "duration": 9,
    "start_time": "2023-04-26T08:56:25.031Z"
   },
   {
    "duration": 135,
    "start_time": "2023-04-26T08:56:25.041Z"
   },
   {
    "duration": 20,
    "start_time": "2023-04-26T08:56:25.178Z"
   },
   {
    "duration": 1693,
    "start_time": "2023-04-26T08:56:25.199Z"
   },
   {
    "duration": 20,
    "start_time": "2023-04-26T08:56:26.896Z"
   },
   {
    "duration": 29,
    "start_time": "2023-04-26T08:56:26.918Z"
   },
   {
    "duration": 10,
    "start_time": "2023-04-26T08:56:26.949Z"
   },
   {
    "duration": 104,
    "start_time": "2023-04-26T08:56:26.960Z"
   },
   {
    "duration": 906,
    "start_time": "2023-04-26T08:56:27.066Z"
   },
   {
    "duration": 30,
    "start_time": "2023-04-26T08:56:27.974Z"
   },
   {
    "duration": 390,
    "start_time": "2023-04-26T08:56:28.013Z"
   },
   {
    "duration": 16,
    "start_time": "2023-04-26T08:56:28.405Z"
   },
   {
    "duration": 129,
    "start_time": "2023-04-26T08:56:28.424Z"
   },
   {
    "duration": 243,
    "start_time": "2023-04-26T09:01:30.577Z"
   },
   {
    "duration": 5065,
    "start_time": "2023-04-26T12:44:40.989Z"
   },
   {
    "duration": 6,
    "start_time": "2023-04-26T12:44:46.056Z"
   },
   {
    "duration": 77,
    "start_time": "2023-04-26T12:44:46.064Z"
   },
   {
    "duration": 42,
    "start_time": "2023-04-26T12:44:46.143Z"
   },
   {
    "duration": 16,
    "start_time": "2023-04-26T12:44:46.187Z"
   },
   {
    "duration": 46,
    "start_time": "2023-04-26T12:44:46.205Z"
   },
   {
    "duration": 11,
    "start_time": "2023-04-26T12:44:46.253Z"
   },
   {
    "duration": 45,
    "start_time": "2023-04-26T12:44:46.266Z"
   },
   {
    "duration": 28,
    "start_time": "2023-04-26T12:44:46.314Z"
   },
   {
    "duration": 7,
    "start_time": "2023-04-26T12:44:46.347Z"
   },
   {
    "duration": 14,
    "start_time": "2023-04-26T12:44:46.356Z"
   },
   {
    "duration": 30,
    "start_time": "2023-04-26T12:44:46.372Z"
   },
   {
    "duration": 40,
    "start_time": "2023-04-26T12:44:46.404Z"
   },
   {
    "duration": 11,
    "start_time": "2023-04-26T12:44:46.446Z"
   },
   {
    "duration": 11,
    "start_time": "2023-04-26T12:44:46.459Z"
   },
   {
    "duration": 2932,
    "start_time": "2023-04-26T12:44:46.472Z"
   },
   {
    "duration": 3849,
    "start_time": "2023-04-26T12:44:49.406Z"
   },
   {
    "duration": 12,
    "start_time": "2023-04-26T12:44:53.257Z"
   },
   {
    "duration": 65,
    "start_time": "2023-04-26T12:44:53.271Z"
   },
   {
    "duration": 10,
    "start_time": "2023-04-26T12:44:53.338Z"
   },
   {
    "duration": 34,
    "start_time": "2023-04-26T12:44:53.351Z"
   },
   {
    "duration": 38,
    "start_time": "2023-04-26T12:44:53.387Z"
   },
   {
    "duration": 55,
    "start_time": "2023-04-26T12:44:53.427Z"
   },
   {
    "duration": 13,
    "start_time": "2023-04-26T12:44:53.484Z"
   },
   {
    "duration": 27,
    "start_time": "2023-04-26T12:44:53.499Z"
   },
   {
    "duration": 19,
    "start_time": "2023-04-26T12:44:53.528Z"
   },
   {
    "duration": 12,
    "start_time": "2023-04-26T12:44:53.549Z"
   },
   {
    "duration": 64,
    "start_time": "2023-04-26T12:44:53.567Z"
   },
   {
    "duration": 24,
    "start_time": "2023-04-26T12:44:53.633Z"
   },
   {
    "duration": 31,
    "start_time": "2023-04-26T12:44:53.659Z"
   },
   {
    "duration": 51,
    "start_time": "2023-04-26T12:44:53.692Z"
   },
   {
    "duration": 74,
    "start_time": "2023-04-26T12:44:53.746Z"
   },
   {
    "duration": 7,
    "start_time": "2023-04-26T12:44:53.841Z"
   },
   {
    "duration": 11,
    "start_time": "2023-04-26T12:44:53.850Z"
   },
   {
    "duration": 25,
    "start_time": "2023-04-26T12:44:53.863Z"
   },
   {
    "duration": 28,
    "start_time": "2023-04-26T12:44:53.890Z"
   },
   {
    "duration": 862,
    "start_time": "2023-04-26T12:44:53.921Z"
   },
   {
    "duration": 113,
    "start_time": "2023-04-26T12:44:54.785Z"
   },
   {
    "duration": 61,
    "start_time": "2023-04-26T12:44:54.900Z"
   },
   {
    "duration": 57,
    "start_time": "2023-04-26T12:44:54.962Z"
   },
   {
    "duration": 29,
    "start_time": "2023-04-26T12:44:55.042Z"
   },
   {
    "duration": 18,
    "start_time": "2023-04-26T12:44:55.073Z"
   },
   {
    "duration": 92,
    "start_time": "2023-04-26T12:44:55.092Z"
   },
   {
    "duration": 121,
    "start_time": "2023-04-26T12:44:55.186Z"
   },
   {
    "duration": 118,
    "start_time": "2023-04-26T12:44:55.309Z"
   },
   {
    "duration": 14,
    "start_time": "2023-04-26T12:44:55.429Z"
   },
   {
    "duration": 79,
    "start_time": "2023-04-26T12:44:55.445Z"
   },
   {
    "duration": 35,
    "start_time": "2023-04-26T12:44:55.526Z"
   },
   {
    "duration": 217,
    "start_time": "2023-04-26T12:44:55.564Z"
   },
   {
    "duration": 4,
    "start_time": "2023-04-26T12:44:55.783Z"
   },
   {
    "duration": 24,
    "start_time": "2023-04-26T12:44:55.789Z"
   },
   {
    "duration": 100,
    "start_time": "2023-04-26T12:44:55.816Z"
   },
   {
    "duration": 36,
    "start_time": "2023-04-26T12:44:55.918Z"
   },
   {
    "duration": 110,
    "start_time": "2023-04-26T12:44:55.957Z"
   },
   {
    "duration": 15,
    "start_time": "2023-04-26T12:44:56.070Z"
   },
   {
    "duration": 39,
    "start_time": "2023-04-26T12:44:56.088Z"
   },
   {
    "duration": 123,
    "start_time": "2023-04-26T12:44:56.129Z"
   },
   {
    "duration": 10710,
    "start_time": "2023-04-26T12:44:56.254Z"
   },
   {
    "duration": 119,
    "start_time": "2023-04-26T12:45:06.967Z"
   },
   {
    "duration": 21,
    "start_time": "2023-04-26T12:45:07.140Z"
   },
   {
    "duration": 80,
    "start_time": "2023-04-26T12:45:07.163Z"
   },
   {
    "duration": 14,
    "start_time": "2023-04-26T12:45:07.246Z"
   },
   {
    "duration": 147,
    "start_time": "2023-04-26T12:45:07.262Z"
   },
   {
    "duration": 32,
    "start_time": "2023-04-26T12:45:07.411Z"
   },
   {
    "duration": 40,
    "start_time": "2023-04-26T12:45:07.445Z"
   },
   {
    "duration": 41,
    "start_time": "2023-04-26T12:45:07.487Z"
   },
   {
    "duration": 136,
    "start_time": "2023-04-26T12:45:07.531Z"
   },
   {
    "duration": 8,
    "start_time": "2023-04-26T12:45:07.669Z"
   },
   {
    "duration": 1825,
    "start_time": "2023-04-26T12:45:07.679Z"
   },
   {
    "duration": 13,
    "start_time": "2023-04-26T12:45:09.506Z"
   },
   {
    "duration": 24,
    "start_time": "2023-04-26T12:45:09.542Z"
   },
   {
    "duration": 13,
    "start_time": "2023-04-26T12:45:09.568Z"
   },
   {
    "duration": 117,
    "start_time": "2023-04-26T12:45:09.583Z"
   },
   {
    "duration": 923,
    "start_time": "2023-04-26T12:45:09.702Z"
   },
   {
    "duration": 31,
    "start_time": "2023-04-26T12:45:10.627Z"
   },
   {
    "duration": 134,
    "start_time": "2023-04-26T12:45:10.661Z"
   },
   {
    "duration": 16,
    "start_time": "2023-04-26T12:45:10.798Z"
   },
   {
    "duration": 389,
    "start_time": "2023-04-26T12:45:10.842Z"
   },
   {
    "duration": 3,
    "start_time": "2023-04-26T12:45:36.736Z"
   },
   {
    "duration": 226,
    "start_time": "2023-04-26T12:47:01.436Z"
   },
   {
    "duration": 22,
    "start_time": "2023-04-26T12:47:20.689Z"
   },
   {
    "duration": 21,
    "start_time": "2023-04-26T12:47:36.896Z"
   },
   {
    "duration": 10,
    "start_time": "2023-04-26T12:48:09.237Z"
   },
   {
    "duration": 22,
    "start_time": "2023-04-26T12:48:14.209Z"
   },
   {
    "duration": 2142,
    "start_time": "2023-04-26T13:21:43.159Z"
   },
   {
    "duration": 5,
    "start_time": "2023-04-26T13:21:45.303Z"
   },
   {
    "duration": 144,
    "start_time": "2023-04-26T13:21:45.310Z"
   },
   {
    "duration": 45,
    "start_time": "2023-04-26T13:21:45.459Z"
   },
   {
    "duration": 22,
    "start_time": "2023-04-26T13:21:45.506Z"
   },
   {
    "duration": 20,
    "start_time": "2023-04-26T13:21:45.534Z"
   },
   {
    "duration": 10,
    "start_time": "2023-04-26T13:21:45.556Z"
   },
   {
    "duration": 44,
    "start_time": "2023-04-26T13:21:45.568Z"
   },
   {
    "duration": 23,
    "start_time": "2023-04-26T13:21:45.613Z"
   },
   {
    "duration": 11,
    "start_time": "2023-04-26T13:21:45.642Z"
   },
   {
    "duration": 11,
    "start_time": "2023-04-26T13:21:45.655Z"
   },
   {
    "duration": 26,
    "start_time": "2023-04-26T13:21:45.667Z"
   },
   {
    "duration": 12,
    "start_time": "2023-04-26T13:21:45.695Z"
   },
   {
    "duration": 30,
    "start_time": "2023-04-26T13:21:45.709Z"
   },
   {
    "duration": 10,
    "start_time": "2023-04-26T13:21:45.740Z"
   },
   {
    "duration": 2742,
    "start_time": "2023-04-26T13:21:45.751Z"
   },
   {
    "duration": 3450,
    "start_time": "2023-04-26T13:21:48.495Z"
   },
   {
    "duration": 10,
    "start_time": "2023-04-26T13:21:51.947Z"
   },
   {
    "duration": 12,
    "start_time": "2023-04-26T13:21:51.959Z"
   },
   {
    "duration": 10,
    "start_time": "2023-04-26T13:21:51.973Z"
   },
   {
    "duration": 6,
    "start_time": "2023-04-26T13:21:51.984Z"
   },
   {
    "duration": 12,
    "start_time": "2023-04-26T13:21:51.991Z"
   },
   {
    "duration": 45,
    "start_time": "2023-04-26T13:21:52.004Z"
   },
   {
    "duration": 12,
    "start_time": "2023-04-26T13:21:52.051Z"
   },
   {
    "duration": 11,
    "start_time": "2023-04-26T13:21:52.065Z"
   },
   {
    "duration": 7,
    "start_time": "2023-04-26T13:21:52.078Z"
   },
   {
    "duration": 21,
    "start_time": "2023-04-26T13:21:52.087Z"
   },
   {
    "duration": 48,
    "start_time": "2023-04-26T13:21:52.113Z"
   },
   {
    "duration": 13,
    "start_time": "2023-04-26T13:21:52.163Z"
   },
   {
    "duration": 28,
    "start_time": "2023-04-26T13:21:52.178Z"
   },
   {
    "duration": 49,
    "start_time": "2023-04-26T13:21:52.208Z"
   },
   {
    "duration": 79,
    "start_time": "2023-04-26T13:21:52.258Z"
   },
   {
    "duration": 9,
    "start_time": "2023-04-26T13:21:52.339Z"
   },
   {
    "duration": 20,
    "start_time": "2023-04-26T13:21:52.350Z"
   },
   {
    "duration": 26,
    "start_time": "2023-04-26T13:21:52.371Z"
   },
   {
    "duration": 20,
    "start_time": "2023-04-26T13:21:52.399Z"
   },
   {
    "duration": 2,
    "start_time": "2023-04-26T13:21:52.421Z"
   },
   {
    "duration": 396,
    "start_time": "2023-04-26T13:21:52.425Z"
   },
   {
    "duration": 23,
    "start_time": "2023-04-26T13:21:52.823Z"
   },
   {
    "duration": 125,
    "start_time": "2023-04-26T13:21:52.848Z"
   },
   {
    "duration": 67,
    "start_time": "2023-04-26T13:21:52.975Z"
   },
   {
    "duration": 25,
    "start_time": "2023-04-26T13:21:53.044Z"
   },
   {
    "duration": 104,
    "start_time": "2023-04-26T13:21:53.071Z"
   },
   {
    "duration": 143,
    "start_time": "2023-04-26T13:21:53.176Z"
   },
   {
    "duration": 115,
    "start_time": "2023-04-26T13:21:53.321Z"
   },
   {
    "duration": 8,
    "start_time": "2023-04-26T13:21:53.438Z"
   },
   {
    "duration": 68,
    "start_time": "2023-04-26T13:21:53.451Z"
   },
   {
    "duration": 29,
    "start_time": "2023-04-26T13:21:53.533Z"
   },
   {
    "duration": 197,
    "start_time": "2023-04-26T13:21:53.564Z"
   },
   {
    "duration": 4,
    "start_time": "2023-04-26T13:21:53.762Z"
   },
   {
    "duration": 21,
    "start_time": "2023-04-26T13:21:53.768Z"
   },
   {
    "duration": 104,
    "start_time": "2023-04-26T13:21:53.790Z"
   },
   {
    "duration": 12,
    "start_time": "2023-04-26T13:21:53.897Z"
   },
   {
    "duration": 97,
    "start_time": "2023-04-26T13:21:53.911Z"
   },
   {
    "duration": 11,
    "start_time": "2023-04-26T13:21:54.010Z"
   },
   {
    "duration": 131,
    "start_time": "2023-04-26T13:21:54.023Z"
   },
   {
    "duration": 109,
    "start_time": "2023-04-26T13:21:54.156Z"
   },
   {
    "duration": 11147,
    "start_time": "2023-04-26T13:21:54.266Z"
   },
   {
    "duration": 83,
    "start_time": "2023-04-26T13:22:05.436Z"
   },
   {
    "duration": 27,
    "start_time": "2023-04-26T13:22:05.534Z"
   },
   {
    "duration": 27,
    "start_time": "2023-04-26T13:22:05.562Z"
   },
   {
    "duration": 13,
    "start_time": "2023-04-26T13:22:05.592Z"
   },
   {
    "duration": 93,
    "start_time": "2023-04-26T13:22:05.607Z"
   },
   {
    "duration": 14,
    "start_time": "2023-04-26T13:22:05.701Z"
   },
   {
    "duration": 9,
    "start_time": "2023-04-26T13:22:05.717Z"
   },
   {
    "duration": 163,
    "start_time": "2023-04-26T13:22:05.728Z"
   },
   {
    "duration": 135,
    "start_time": "2023-04-26T13:22:05.892Z"
   },
   {
    "duration": 7,
    "start_time": "2023-04-26T13:22:06.029Z"
   },
   {
    "duration": 2451,
    "start_time": "2023-04-26T13:22:06.038Z"
   },
   {
    "duration": 10,
    "start_time": "2023-04-26T13:22:08.491Z"
   },
   {
    "duration": 52,
    "start_time": "2023-04-26T13:22:08.503Z"
   },
   {
    "duration": 9,
    "start_time": "2023-04-26T13:22:08.556Z"
   },
   {
    "duration": 118,
    "start_time": "2023-04-26T13:22:08.567Z"
   },
   {
    "duration": 9,
    "start_time": "2023-04-26T13:22:08.687Z"
   },
   {
    "duration": 21,
    "start_time": "2023-04-26T13:22:08.698Z"
   },
   {
    "duration": 890,
    "start_time": "2023-04-26T13:22:08.733Z"
   },
   {
    "duration": 21,
    "start_time": "2023-04-26T13:22:09.625Z"
   },
   {
    "duration": 137,
    "start_time": "2023-04-26T13:22:09.653Z"
   },
   {
    "duration": 14,
    "start_time": "2023-04-26T13:22:09.792Z"
   },
   {
    "duration": 369,
    "start_time": "2023-04-26T13:22:09.807Z"
   },
   {
    "duration": 211,
    "start_time": "2023-04-26T13:32:29.602Z"
   },
   {
    "duration": 18,
    "start_time": "2023-04-26T13:32:39.637Z"
   },
   {
    "duration": 21,
    "start_time": "2023-04-26T13:33:42.774Z"
   },
   {
    "duration": 20,
    "start_time": "2023-04-26T13:34:02.462Z"
   },
   {
    "duration": 24,
    "start_time": "2023-04-26T13:34:15.709Z"
   },
   {
    "duration": 41,
    "start_time": "2023-04-26T13:34:28.280Z"
   },
   {
    "duration": 136,
    "start_time": "2023-04-26T13:36:34.350Z"
   },
   {
    "duration": 30,
    "start_time": "2023-04-26T13:37:51.827Z"
   },
   {
    "duration": 34,
    "start_time": "2023-04-26T13:38:23.555Z"
   },
   {
    "duration": 39,
    "start_time": "2023-04-26T13:38:36.804Z"
   },
   {
    "duration": 10,
    "start_time": "2023-04-26T13:38:42.083Z"
   },
   {
    "duration": 15,
    "start_time": "2023-04-26T13:38:51.354Z"
   },
   {
    "duration": 22,
    "start_time": "2023-04-26T13:39:01.813Z"
   },
   {
    "duration": 15,
    "start_time": "2023-04-26T13:39:06.370Z"
   },
   {
    "duration": 23,
    "start_time": "2023-04-26T13:39:08.651Z"
   },
   {
    "duration": 18,
    "start_time": "2023-04-26T13:39:19.382Z"
   },
   {
    "duration": 36,
    "start_time": "2023-04-26T13:39:26.951Z"
   },
   {
    "duration": 16,
    "start_time": "2023-04-26T13:39:36.517Z"
   },
   {
    "duration": 43,
    "start_time": "2023-04-26T13:39:37.649Z"
   },
   {
    "duration": 23,
    "start_time": "2023-04-26T13:40:08.209Z"
   },
   {
    "duration": 28,
    "start_time": "2023-04-26T13:40:27.043Z"
   },
   {
    "duration": 32,
    "start_time": "2023-04-26T13:40:31.359Z"
   },
   {
    "duration": 158,
    "start_time": "2023-04-26T13:40:47.082Z"
   },
   {
    "duration": 28,
    "start_time": "2023-04-26T13:42:41.251Z"
   },
   {
    "duration": 148,
    "start_time": "2023-04-26T13:42:56.819Z"
   },
   {
    "duration": 121,
    "start_time": "2023-04-26T13:43:03.265Z"
   },
   {
    "duration": 26,
    "start_time": "2023-04-26T13:43:10.493Z"
   },
   {
    "duration": 27,
    "start_time": "2023-04-26T13:43:16.159Z"
   },
   {
    "duration": 16,
    "start_time": "2023-04-26T13:44:02.860Z"
   },
   {
    "duration": 33,
    "start_time": "2023-04-26T13:44:13.551Z"
   },
   {
    "duration": 12,
    "start_time": "2023-04-26T13:44:49.729Z"
   },
   {
    "duration": 4,
    "start_time": "2023-04-26T13:44:58.569Z"
   },
   {
    "duration": 17,
    "start_time": "2023-04-26T13:45:24.823Z"
   },
   {
    "duration": 6,
    "start_time": "2023-04-26T13:45:29.110Z"
   },
   {
    "duration": 17,
    "start_time": "2023-04-26T13:46:17.457Z"
   },
   {
    "duration": 16,
    "start_time": "2023-04-26T13:47:08.037Z"
   },
   {
    "duration": 15,
    "start_time": "2023-04-26T13:47:20.920Z"
   },
   {
    "duration": 8,
    "start_time": "2023-04-26T13:47:24.090Z"
   },
   {
    "duration": 20,
    "start_time": "2023-04-26T13:47:40.721Z"
   },
   {
    "duration": 15,
    "start_time": "2023-04-26T13:48:07.937Z"
   },
   {
    "duration": 14,
    "start_time": "2023-04-26T13:48:45.737Z"
   },
   {
    "duration": 8,
    "start_time": "2023-04-26T13:48:52.166Z"
   },
   {
    "duration": 16,
    "start_time": "2023-04-26T13:49:01.603Z"
   },
   {
    "duration": 14,
    "start_time": "2023-04-26T13:50:22.830Z"
   },
   {
    "duration": 7,
    "start_time": "2023-04-26T13:50:43.563Z"
   },
   {
    "duration": 5,
    "start_time": "2023-04-26T13:50:54.574Z"
   },
   {
    "duration": 2368,
    "start_time": "2023-04-26T15:44:45.193Z"
   },
   {
    "duration": 5,
    "start_time": "2023-04-26T15:44:47.562Z"
   },
   {
    "duration": 793,
    "start_time": "2023-04-26T15:44:47.569Z"
   },
   {
    "duration": 55,
    "start_time": "2023-04-26T15:44:48.364Z"
   },
   {
    "duration": 23,
    "start_time": "2023-04-26T15:44:48.427Z"
   },
   {
    "duration": 16,
    "start_time": "2023-04-26T15:44:48.453Z"
   },
   {
    "duration": 8,
    "start_time": "2023-04-26T15:44:48.471Z"
   },
   {
    "duration": 51,
    "start_time": "2023-04-26T15:44:48.481Z"
   },
   {
    "duration": 11,
    "start_time": "2023-04-26T15:44:48.533Z"
   },
   {
    "duration": 5,
    "start_time": "2023-04-26T15:44:48.546Z"
   },
   {
    "duration": 9,
    "start_time": "2023-04-26T15:44:48.553Z"
   },
   {
    "duration": 41,
    "start_time": "2023-04-26T15:44:48.564Z"
   },
   {
    "duration": 7,
    "start_time": "2023-04-26T15:44:48.610Z"
   },
   {
    "duration": 27,
    "start_time": "2023-04-26T15:44:48.619Z"
   },
   {
    "duration": 9,
    "start_time": "2023-04-26T15:44:48.648Z"
   },
   {
    "duration": 2357,
    "start_time": "2023-04-26T15:44:48.659Z"
   },
   {
    "duration": 3240,
    "start_time": "2023-04-26T15:44:51.024Z"
   },
   {
    "duration": 12,
    "start_time": "2023-04-26T15:44:54.265Z"
   },
   {
    "duration": 17,
    "start_time": "2023-04-26T15:44:54.279Z"
   },
   {
    "duration": 17,
    "start_time": "2023-04-26T15:44:54.298Z"
   },
   {
    "duration": 14,
    "start_time": "2023-04-26T15:44:54.317Z"
   },
   {
    "duration": 22,
    "start_time": "2023-04-26T15:44:54.335Z"
   },
   {
    "duration": 33,
    "start_time": "2023-04-26T15:44:54.359Z"
   },
   {
    "duration": 22,
    "start_time": "2023-04-26T15:44:54.394Z"
   },
   {
    "duration": 12,
    "start_time": "2023-04-26T15:44:54.418Z"
   },
   {
    "duration": 15,
    "start_time": "2023-04-26T15:44:54.433Z"
   },
   {
    "duration": 22,
    "start_time": "2023-04-26T15:44:54.449Z"
   },
   {
    "duration": 38,
    "start_time": "2023-04-26T15:44:54.478Z"
   },
   {
    "duration": 18,
    "start_time": "2023-04-26T15:44:54.518Z"
   },
   {
    "duration": 42,
    "start_time": "2023-04-26T15:44:54.538Z"
   },
   {
    "duration": 52,
    "start_time": "2023-04-26T15:44:54.582Z"
   },
   {
    "duration": 88,
    "start_time": "2023-04-26T15:44:54.636Z"
   },
   {
    "duration": 12,
    "start_time": "2023-04-26T15:44:54.726Z"
   },
   {
    "duration": 5,
    "start_time": "2023-04-26T15:44:54.740Z"
   },
   {
    "duration": 18,
    "start_time": "2023-04-26T15:44:54.747Z"
   },
   {
    "duration": 27,
    "start_time": "2023-04-26T15:44:54.768Z"
   },
   {
    "duration": 27,
    "start_time": "2023-04-26T15:44:54.797Z"
   },
   {
    "duration": 499,
    "start_time": "2023-04-26T15:44:54.826Z"
   },
   {
    "duration": 37,
    "start_time": "2023-04-26T15:44:55.329Z"
   },
   {
    "duration": 90,
    "start_time": "2023-04-26T15:44:55.367Z"
   },
   {
    "duration": 40,
    "start_time": "2023-04-26T15:44:55.459Z"
   },
   {
    "duration": 29,
    "start_time": "2023-04-26T15:44:55.501Z"
   },
   {
    "duration": 122,
    "start_time": "2023-04-26T15:44:55.532Z"
   },
   {
    "duration": 181,
    "start_time": "2023-04-26T15:44:55.659Z"
   },
   {
    "duration": 120,
    "start_time": "2023-04-26T15:44:55.842Z"
   },
   {
    "duration": 5,
    "start_time": "2023-04-26T15:44:55.964Z"
   },
   {
    "duration": 186,
    "start_time": "2023-04-26T15:44:55.971Z"
   },
   {
    "duration": 29,
    "start_time": "2023-04-26T15:44:56.159Z"
   },
   {
    "duration": 83,
    "start_time": "2023-04-26T15:44:56.194Z"
   },
   {
    "duration": 3,
    "start_time": "2023-04-26T15:44:56.279Z"
   },
   {
    "duration": 28,
    "start_time": "2023-04-26T15:44:56.284Z"
   },
   {
    "duration": 92,
    "start_time": "2023-04-26T15:44:56.314Z"
   },
   {
    "duration": 14,
    "start_time": "2023-04-26T15:44:56.408Z"
   },
   {
    "duration": 94,
    "start_time": "2023-04-26T15:44:56.424Z"
   },
   {
    "duration": 23,
    "start_time": "2023-04-26T15:44:56.520Z"
   },
   {
    "duration": 197,
    "start_time": "2023-04-26T15:44:56.545Z"
   },
   {
    "duration": 101,
    "start_time": "2023-04-26T15:44:56.743Z"
   },
   {
    "duration": 10322,
    "start_time": "2023-04-26T15:44:56.847Z"
   },
   {
    "duration": 233,
    "start_time": "2023-04-26T15:45:07.171Z"
   },
   {
    "duration": 31,
    "start_time": "2023-04-26T15:45:07.407Z"
   },
   {
    "duration": 73,
    "start_time": "2023-04-26T15:45:07.441Z"
   },
   {
    "duration": 12,
    "start_time": "2023-04-26T15:45:07.516Z"
   },
   {
    "duration": 112,
    "start_time": "2023-04-26T15:45:07.530Z"
   },
   {
    "duration": 14,
    "start_time": "2023-04-26T15:45:07.644Z"
   },
   {
    "duration": 9,
    "start_time": "2023-04-26T15:45:07.660Z"
   },
   {
    "duration": 12,
    "start_time": "2023-04-26T15:45:07.671Z"
   },
   {
    "duration": 183,
    "start_time": "2023-04-26T15:45:07.685Z"
   },
   {
    "duration": 7,
    "start_time": "2023-04-26T15:45:07.871Z"
   },
   {
    "duration": 1738,
    "start_time": "2023-04-26T15:45:07.880Z"
   },
   {
    "duration": 18,
    "start_time": "2023-04-26T15:45:09.619Z"
   },
   {
    "duration": 47,
    "start_time": "2023-04-26T15:45:09.639Z"
   },
   {
    "duration": 0,
    "start_time": "2023-04-26T15:45:09.687Z"
   },
   {
    "duration": 0,
    "start_time": "2023-04-26T15:45:09.689Z"
   },
   {
    "duration": 0,
    "start_time": "2023-04-26T15:45:09.691Z"
   },
   {
    "duration": 0,
    "start_time": "2023-04-26T15:45:09.692Z"
   },
   {
    "duration": 0,
    "start_time": "2023-04-26T15:45:09.697Z"
   },
   {
    "duration": 0,
    "start_time": "2023-04-26T15:45:09.699Z"
   },
   {
    "duration": 0,
    "start_time": "2023-04-26T15:45:09.700Z"
   },
   {
    "duration": 0,
    "start_time": "2023-04-26T15:45:09.701Z"
   },
   {
    "duration": 0,
    "start_time": "2023-04-26T15:45:09.707Z"
   },
   {
    "duration": 7,
    "start_time": "2023-04-26T15:45:51.164Z"
   },
   {
    "duration": 248,
    "start_time": "2023-04-26T15:46:22.869Z"
   },
   {
    "duration": 20,
    "start_time": "2023-04-26T15:46:32.536Z"
   },
   {
    "duration": 19,
    "start_time": "2023-04-26T15:47:02.591Z"
   },
   {
    "duration": 8,
    "start_time": "2023-04-26T15:47:03.044Z"
   },
   {
    "duration": 13,
    "start_time": "2023-04-26T15:47:05.132Z"
   },
   {
    "duration": 26,
    "start_time": "2023-04-26T15:47:11.244Z"
   },
   {
    "duration": 15,
    "start_time": "2023-04-26T15:48:07.310Z"
   },
   {
    "duration": 14,
    "start_time": "2023-04-26T15:48:11.272Z"
   },
   {
    "duration": 1007,
    "start_time": "2023-04-26T15:48:11.849Z"
   },
   {
    "duration": 27,
    "start_time": "2023-04-26T15:48:15.022Z"
   },
   {
    "duration": 25,
    "start_time": "2023-04-26T15:48:34.392Z"
   },
   {
    "duration": 22,
    "start_time": "2023-04-26T15:48:41.850Z"
   },
   {
    "duration": 95,
    "start_time": "2023-04-26T15:49:10.879Z"
   },
   {
    "duration": 17,
    "start_time": "2023-04-26T15:49:59.587Z"
   },
   {
    "duration": 15,
    "start_time": "2023-04-26T15:50:06.838Z"
   },
   {
    "duration": 10,
    "start_time": "2023-04-26T15:50:13.915Z"
   },
   {
    "duration": 11,
    "start_time": "2023-04-26T15:50:18.989Z"
   },
   {
    "duration": 11,
    "start_time": "2023-04-26T15:50:27.969Z"
   },
   {
    "duration": 11,
    "start_time": "2023-04-26T15:50:39.478Z"
   },
   {
    "duration": 13,
    "start_time": "2023-04-26T15:50:54.613Z"
   },
   {
    "duration": 71,
    "start_time": "2023-04-26T15:51:46.077Z"
   },
   {
    "duration": 51,
    "start_time": "2023-04-26T15:52:06.429Z"
   },
   {
    "duration": 85,
    "start_time": "2023-04-26T15:52:09.592Z"
   },
   {
    "duration": 18,
    "start_time": "2023-04-26T15:52:40.346Z"
   },
   {
    "duration": 111,
    "start_time": "2023-04-26T15:53:01.427Z"
   },
   {
    "duration": 9,
    "start_time": "2023-04-26T15:54:40.552Z"
   },
   {
    "duration": 20,
    "start_time": "2023-04-26T15:54:41.036Z"
   },
   {
    "duration": 2047,
    "start_time": "2023-04-26T15:55:19.435Z"
   },
   {
    "duration": 5,
    "start_time": "2023-04-26T15:55:21.485Z"
   },
   {
    "duration": 98,
    "start_time": "2023-04-26T15:55:21.495Z"
   },
   {
    "duration": 58,
    "start_time": "2023-04-26T15:55:21.597Z"
   },
   {
    "duration": 17,
    "start_time": "2023-04-26T15:55:21.657Z"
   },
   {
    "duration": 34,
    "start_time": "2023-04-26T15:55:21.676Z"
   },
   {
    "duration": 13,
    "start_time": "2023-04-26T15:55:21.712Z"
   },
   {
    "duration": 45,
    "start_time": "2023-04-26T15:55:21.726Z"
   },
   {
    "duration": 5,
    "start_time": "2023-04-26T15:55:21.773Z"
   },
   {
    "duration": 24,
    "start_time": "2023-04-26T15:55:21.781Z"
   },
   {
    "duration": 41,
    "start_time": "2023-04-26T15:55:21.807Z"
   },
   {
    "duration": 25,
    "start_time": "2023-04-26T15:55:21.850Z"
   },
   {
    "duration": 23,
    "start_time": "2023-04-26T15:55:21.877Z"
   },
   {
    "duration": 30,
    "start_time": "2023-04-26T15:55:21.902Z"
   },
   {
    "duration": 15,
    "start_time": "2023-04-26T15:55:21.934Z"
   },
   {
    "duration": 2564,
    "start_time": "2023-04-26T15:55:21.950Z"
   },
   {
    "duration": 3064,
    "start_time": "2023-04-26T15:55:24.515Z"
   },
   {
    "duration": 21,
    "start_time": "2023-04-26T15:55:27.581Z"
   },
   {
    "duration": 16,
    "start_time": "2023-04-26T15:55:27.603Z"
   },
   {
    "duration": 5,
    "start_time": "2023-04-26T15:55:27.623Z"
   },
   {
    "duration": 21,
    "start_time": "2023-04-26T15:55:27.630Z"
   },
   {
    "duration": 12,
    "start_time": "2023-04-26T15:55:27.652Z"
   },
   {
    "duration": 24,
    "start_time": "2023-04-26T15:55:27.666Z"
   },
   {
    "duration": 21,
    "start_time": "2023-04-26T15:55:27.693Z"
   },
   {
    "duration": 18,
    "start_time": "2023-04-26T15:55:27.718Z"
   },
   {
    "duration": 5,
    "start_time": "2023-04-26T15:55:27.738Z"
   },
   {
    "duration": 9,
    "start_time": "2023-04-26T15:55:27.744Z"
   },
   {
    "duration": 30,
    "start_time": "2023-04-26T15:55:27.758Z"
   },
   {
    "duration": 32,
    "start_time": "2023-04-26T15:55:27.790Z"
   },
   {
    "duration": 20,
    "start_time": "2023-04-26T15:55:27.828Z"
   },
   {
    "duration": 23,
    "start_time": "2023-04-26T15:55:27.849Z"
   },
   {
    "duration": 78,
    "start_time": "2023-04-26T15:55:27.874Z"
   },
   {
    "duration": 5,
    "start_time": "2023-04-26T15:55:27.953Z"
   },
   {
    "duration": 8,
    "start_time": "2023-04-26T15:55:27.960Z"
   },
   {
    "duration": 18,
    "start_time": "2023-04-26T15:55:27.970Z"
   },
   {
    "duration": 47,
    "start_time": "2023-04-26T15:55:27.989Z"
   },
   {
    "duration": 2,
    "start_time": "2023-04-26T15:55:28.038Z"
   },
   {
    "duration": 386,
    "start_time": "2023-04-26T15:55:28.041Z"
   },
   {
    "duration": 22,
    "start_time": "2023-04-26T15:55:28.429Z"
   },
   {
    "duration": 91,
    "start_time": "2023-04-26T15:55:28.453Z"
   },
   {
    "duration": 56,
    "start_time": "2023-04-26T15:55:28.545Z"
   },
   {
    "duration": 19,
    "start_time": "2023-04-26T15:55:28.604Z"
   },
   {
    "duration": 58,
    "start_time": "2023-04-26T15:55:28.624Z"
   },
   {
    "duration": 150,
    "start_time": "2023-04-26T15:55:28.683Z"
   },
   {
    "duration": 105,
    "start_time": "2023-04-26T15:55:28.835Z"
   },
   {
    "duration": 3,
    "start_time": "2023-04-26T15:55:28.942Z"
   },
   {
    "duration": 73,
    "start_time": "2023-04-26T15:55:28.947Z"
   },
   {
    "duration": 31,
    "start_time": "2023-04-26T15:55:29.022Z"
   },
   {
    "duration": 184,
    "start_time": "2023-04-26T15:55:29.055Z"
   },
   {
    "duration": 4,
    "start_time": "2023-04-26T15:55:29.240Z"
   },
   {
    "duration": 34,
    "start_time": "2023-04-26T15:55:29.245Z"
   },
   {
    "duration": 80,
    "start_time": "2023-04-26T15:55:29.280Z"
   },
   {
    "duration": 12,
    "start_time": "2023-04-26T15:55:29.362Z"
   },
   {
    "duration": 97,
    "start_time": "2023-04-26T15:55:29.375Z"
   },
   {
    "duration": 20,
    "start_time": "2023-04-26T15:55:29.475Z"
   },
   {
    "duration": 56,
    "start_time": "2023-04-26T15:55:29.499Z"
   },
   {
    "duration": 101,
    "start_time": "2023-04-26T15:55:29.557Z"
   },
   {
    "duration": 10194,
    "start_time": "2023-04-26T15:55:29.660Z"
   },
   {
    "duration": 167,
    "start_time": "2023-04-26T15:55:39.857Z"
   },
   {
    "duration": 68,
    "start_time": "2023-04-26T15:55:40.029Z"
   },
   {
    "duration": 21,
    "start_time": "2023-04-26T15:55:40.104Z"
   },
   {
    "duration": 9,
    "start_time": "2023-04-26T15:55:40.128Z"
   },
   {
    "duration": 97,
    "start_time": "2023-04-26T15:55:40.138Z"
   },
   {
    "duration": 15,
    "start_time": "2023-04-26T15:55:40.236Z"
   },
   {
    "duration": 27,
    "start_time": "2023-04-26T15:55:40.253Z"
   },
   {
    "duration": 21,
    "start_time": "2023-04-26T15:55:40.282Z"
   },
   {
    "duration": 128,
    "start_time": "2023-04-26T15:55:40.307Z"
   },
   {
    "duration": 6,
    "start_time": "2023-04-26T15:55:40.436Z"
   },
   {
    "duration": 1643,
    "start_time": "2023-04-26T15:55:40.444Z"
   },
   {
    "duration": 27,
    "start_time": "2023-04-26T15:55:42.089Z"
   },
   {
    "duration": 134,
    "start_time": "2023-04-26T15:55:42.118Z"
   },
   {
    "duration": 193,
    "start_time": "2023-04-26T15:55:42.254Z"
   },
   {
    "duration": 0,
    "start_time": "2023-04-26T15:55:42.448Z"
   },
   {
    "duration": 0,
    "start_time": "2023-04-26T15:55:42.449Z"
   },
   {
    "duration": 0,
    "start_time": "2023-04-26T15:55:42.451Z"
   },
   {
    "duration": 0,
    "start_time": "2023-04-26T15:55:42.452Z"
   },
   {
    "duration": 1012,
    "start_time": "2023-04-26T15:58:28.749Z"
   },
   {
    "duration": 18,
    "start_time": "2023-04-26T15:59:43.861Z"
   },
   {
    "duration": 18,
    "start_time": "2023-04-26T15:59:48.430Z"
   },
   {
    "duration": 96,
    "start_time": "2023-04-26T15:59:51.549Z"
   },
   {
    "duration": 90,
    "start_time": "2023-04-26T16:00:48.382Z"
   },
   {
    "duration": 17,
    "start_time": "2023-04-26T16:00:49.227Z"
   },
   {
    "duration": 152,
    "start_time": "2023-04-26T16:00:49.435Z"
   },
   {
    "duration": 13,
    "start_time": "2023-04-26T16:00:51.240Z"
   },
   {
    "duration": 144,
    "start_time": "2023-04-26T16:00:52.132Z"
   },
   {
    "duration": 12,
    "start_time": "2023-04-26T16:28:41.480Z"
   },
   {
    "duration": 19,
    "start_time": "2023-04-26T16:28:46.183Z"
   },
   {
    "duration": 2113,
    "start_time": "2023-04-26T16:37:31.620Z"
   },
   {
    "duration": 5,
    "start_time": "2023-04-26T16:37:33.736Z"
   },
   {
    "duration": 73,
    "start_time": "2023-04-26T16:37:33.742Z"
   },
   {
    "duration": 48,
    "start_time": "2023-04-26T16:37:33.817Z"
   },
   {
    "duration": 31,
    "start_time": "2023-04-26T16:37:33.869Z"
   },
   {
    "duration": 29,
    "start_time": "2023-04-26T16:37:33.901Z"
   },
   {
    "duration": 12,
    "start_time": "2023-04-26T16:37:33.932Z"
   },
   {
    "duration": 66,
    "start_time": "2023-04-26T16:37:33.946Z"
   },
   {
    "duration": 7,
    "start_time": "2023-04-26T16:37:34.014Z"
   },
   {
    "duration": 7,
    "start_time": "2023-04-26T16:37:34.023Z"
   },
   {
    "duration": 9,
    "start_time": "2023-04-26T16:37:34.031Z"
   },
   {
    "duration": 56,
    "start_time": "2023-04-26T16:37:34.041Z"
   },
   {
    "duration": 8,
    "start_time": "2023-04-26T16:37:34.104Z"
   },
   {
    "duration": 18,
    "start_time": "2023-04-26T16:37:34.116Z"
   },
   {
    "duration": 17,
    "start_time": "2023-04-26T16:37:34.136Z"
   },
   {
    "duration": 2518,
    "start_time": "2023-04-26T16:37:34.156Z"
   },
   {
    "duration": 3223,
    "start_time": "2023-04-26T16:37:36.676Z"
   },
   {
    "duration": 12,
    "start_time": "2023-04-26T16:37:39.901Z"
   },
   {
    "duration": 33,
    "start_time": "2023-04-26T16:37:39.915Z"
   },
   {
    "duration": 3,
    "start_time": "2023-04-26T16:37:39.949Z"
   },
   {
    "duration": 4,
    "start_time": "2023-04-26T16:37:39.953Z"
   },
   {
    "duration": 9,
    "start_time": "2023-04-26T16:37:39.959Z"
   },
   {
    "duration": 16,
    "start_time": "2023-04-26T16:37:39.970Z"
   },
   {
    "duration": 17,
    "start_time": "2023-04-26T16:37:40.006Z"
   },
   {
    "duration": 11,
    "start_time": "2023-04-26T16:37:40.031Z"
   },
   {
    "duration": 15,
    "start_time": "2023-04-26T16:37:40.043Z"
   },
   {
    "duration": 7,
    "start_time": "2023-04-26T16:37:40.060Z"
   },
   {
    "duration": 35,
    "start_time": "2023-04-26T16:37:40.069Z"
   },
   {
    "duration": 18,
    "start_time": "2023-04-26T16:37:40.106Z"
   },
   {
    "duration": 44,
    "start_time": "2023-04-26T16:37:40.125Z"
   },
   {
    "duration": 38,
    "start_time": "2023-04-26T16:37:40.170Z"
   },
   {
    "duration": 66,
    "start_time": "2023-04-26T16:37:40.209Z"
   },
   {
    "duration": 5,
    "start_time": "2023-04-26T16:37:40.277Z"
   },
   {
    "duration": 9,
    "start_time": "2023-04-26T16:37:40.296Z"
   },
   {
    "duration": 33,
    "start_time": "2023-04-26T16:37:40.307Z"
   },
   {
    "duration": 17,
    "start_time": "2023-04-26T16:37:40.343Z"
   },
   {
    "duration": 3,
    "start_time": "2023-04-26T16:37:40.361Z"
   },
   {
    "duration": 410,
    "start_time": "2023-04-26T16:37:40.366Z"
   },
   {
    "duration": 21,
    "start_time": "2023-04-26T16:37:40.778Z"
   },
   {
    "duration": 109,
    "start_time": "2023-04-26T16:37:40.801Z"
   },
   {
    "duration": 25,
    "start_time": "2023-04-26T16:37:40.917Z"
   },
   {
    "duration": 66,
    "start_time": "2023-04-26T16:37:40.944Z"
   },
   {
    "duration": 75,
    "start_time": "2023-04-26T16:37:41.011Z"
   },
   {
    "duration": 182,
    "start_time": "2023-04-26T16:37:41.094Z"
   },
   {
    "duration": 156,
    "start_time": "2023-04-26T16:37:41.279Z"
   },
   {
    "duration": 7,
    "start_time": "2023-04-26T16:37:41.437Z"
   },
   {
    "duration": 74,
    "start_time": "2023-04-26T16:37:41.446Z"
   },
   {
    "duration": 38,
    "start_time": "2023-04-26T16:37:41.523Z"
   },
   {
    "duration": 219,
    "start_time": "2023-04-26T16:37:41.562Z"
   },
   {
    "duration": 4,
    "start_time": "2023-04-26T16:37:41.783Z"
   },
   {
    "duration": 42,
    "start_time": "2023-04-26T16:37:41.789Z"
   },
   {
    "duration": 88,
    "start_time": "2023-04-26T16:37:41.833Z"
   },
   {
    "duration": 16,
    "start_time": "2023-04-26T16:37:41.929Z"
   },
   {
    "duration": 104,
    "start_time": "2023-04-26T16:37:41.948Z"
   },
   {
    "duration": 11,
    "start_time": "2023-04-26T16:37:42.055Z"
   },
   {
    "duration": 36,
    "start_time": "2023-04-26T16:37:42.068Z"
   },
   {
    "duration": 116,
    "start_time": "2023-04-26T16:37:42.108Z"
   },
   {
    "duration": 12978,
    "start_time": "2023-04-26T16:37:42.228Z"
   },
   {
    "duration": 202,
    "start_time": "2023-04-26T16:37:55.212Z"
   },
   {
    "duration": 25,
    "start_time": "2023-04-26T16:37:55.429Z"
   },
   {
    "duration": 47,
    "start_time": "2023-04-26T16:37:55.459Z"
   },
   {
    "duration": 30,
    "start_time": "2023-04-26T16:37:55.508Z"
   },
   {
    "duration": 194,
    "start_time": "2023-04-26T16:37:55.555Z"
   },
   {
    "duration": 23,
    "start_time": "2023-04-26T16:37:55.752Z"
   },
   {
    "duration": 23,
    "start_time": "2023-04-26T16:37:55.798Z"
   },
   {
    "duration": 13,
    "start_time": "2023-04-26T16:37:55.827Z"
   },
   {
    "duration": 154,
    "start_time": "2023-04-26T16:37:55.843Z"
   },
   {
    "duration": 18,
    "start_time": "2023-04-26T16:37:56.001Z"
   },
   {
    "duration": 2030,
    "start_time": "2023-04-26T16:37:56.032Z"
   },
   {
    "duration": 57,
    "start_time": "2023-04-26T16:37:58.065Z"
   },
   {
    "duration": 118,
    "start_time": "2023-04-26T16:37:58.125Z"
   },
   {
    "duration": 97,
    "start_time": "2023-04-26T16:37:58.246Z"
   },
   {
    "duration": 12,
    "start_time": "2023-04-26T16:37:58.346Z"
   },
   {
    "duration": 194,
    "start_time": "2023-04-26T16:37:58.360Z"
   },
   {
    "duration": 17,
    "start_time": "2023-04-26T16:37:58.556Z"
   },
   {
    "duration": 147,
    "start_time": "2023-04-26T16:37:58.595Z"
   },
   {
    "duration": 2421,
    "start_time": "2023-04-26T17:13:22.025Z"
   },
   {
    "duration": 10,
    "start_time": "2023-04-26T17:13:24.458Z"
   },
   {
    "duration": 150,
    "start_time": "2023-04-26T17:13:24.470Z"
   },
   {
    "duration": 59,
    "start_time": "2023-04-26T17:13:24.627Z"
   },
   {
    "duration": 20,
    "start_time": "2023-04-26T17:13:24.689Z"
   },
   {
    "duration": 25,
    "start_time": "2023-04-26T17:13:24.711Z"
   },
   {
    "duration": 15,
    "start_time": "2023-04-26T17:13:24.738Z"
   },
   {
    "duration": 87,
    "start_time": "2023-04-26T17:13:24.755Z"
   },
   {
    "duration": 7,
    "start_time": "2023-04-26T17:13:24.844Z"
   },
   {
    "duration": 21,
    "start_time": "2023-04-26T17:13:24.853Z"
   },
   {
    "duration": 12,
    "start_time": "2023-04-26T17:13:24.876Z"
   },
   {
    "duration": 44,
    "start_time": "2023-04-26T17:13:24.889Z"
   },
   {
    "duration": 8,
    "start_time": "2023-04-26T17:13:24.935Z"
   },
   {
    "duration": 16,
    "start_time": "2023-04-26T17:13:24.947Z"
   },
   {
    "duration": 11,
    "start_time": "2023-04-26T17:13:24.965Z"
   },
   {
    "duration": 3352,
    "start_time": "2023-04-26T17:13:24.977Z"
   },
   {
    "duration": 3510,
    "start_time": "2023-04-26T17:13:28.335Z"
   },
   {
    "duration": 12,
    "start_time": "2023-04-26T17:13:31.847Z"
   },
   {
    "duration": 31,
    "start_time": "2023-04-26T17:13:31.861Z"
   },
   {
    "duration": 32,
    "start_time": "2023-04-26T17:13:31.896Z"
   },
   {
    "duration": 26,
    "start_time": "2023-04-26T17:13:31.931Z"
   },
   {
    "duration": 38,
    "start_time": "2023-04-26T17:13:31.959Z"
   },
   {
    "duration": 40,
    "start_time": "2023-04-26T17:13:32.000Z"
   },
   {
    "duration": 13,
    "start_time": "2023-04-26T17:13:32.044Z"
   },
   {
    "duration": 8,
    "start_time": "2023-04-26T17:13:32.060Z"
   },
   {
    "duration": 10,
    "start_time": "2023-04-26T17:13:32.069Z"
   },
   {
    "duration": 19,
    "start_time": "2023-04-26T17:13:32.081Z"
   },
   {
    "duration": 39,
    "start_time": "2023-04-26T17:13:32.102Z"
   },
   {
    "duration": 16,
    "start_time": "2023-04-26T17:13:32.144Z"
   },
   {
    "duration": 34,
    "start_time": "2023-04-26T17:13:32.163Z"
   },
   {
    "duration": 43,
    "start_time": "2023-04-26T17:13:32.201Z"
   },
   {
    "duration": 98,
    "start_time": "2023-04-26T17:13:32.246Z"
   },
   {
    "duration": 6,
    "start_time": "2023-04-26T17:13:32.346Z"
   },
   {
    "duration": 3,
    "start_time": "2023-04-26T17:13:32.355Z"
   },
   {
    "duration": 20,
    "start_time": "2023-04-26T17:13:32.360Z"
   },
   {
    "duration": 52,
    "start_time": "2023-04-26T17:13:32.383Z"
   },
   {
    "duration": 2,
    "start_time": "2023-04-26T17:13:32.436Z"
   },
   {
    "duration": 475,
    "start_time": "2023-04-26T17:13:32.440Z"
   },
   {
    "duration": 25,
    "start_time": "2023-04-26T17:13:32.917Z"
   },
   {
    "duration": 114,
    "start_time": "2023-04-26T17:13:32.944Z"
   },
   {
    "duration": 61,
    "start_time": "2023-04-26T17:13:33.063Z"
   },
   {
    "duration": 24,
    "start_time": "2023-04-26T17:13:33.131Z"
   },
   {
    "duration": 68,
    "start_time": "2023-04-26T17:13:33.159Z"
   },
   {
    "duration": 116,
    "start_time": "2023-04-26T17:13:33.229Z"
   },
   {
    "duration": 131,
    "start_time": "2023-04-26T17:13:33.347Z"
   },
   {
    "duration": 5,
    "start_time": "2023-04-26T17:13:33.480Z"
   },
   {
    "duration": 96,
    "start_time": "2023-04-26T17:13:33.496Z"
   },
   {
    "duration": 43,
    "start_time": "2023-04-26T17:13:33.594Z"
   },
   {
    "duration": 233,
    "start_time": "2023-04-26T17:13:33.639Z"
   },
   {
    "duration": 6,
    "start_time": "2023-04-26T17:13:33.875Z"
   },
   {
    "duration": 38,
    "start_time": "2023-04-26T17:13:33.883Z"
   },
   {
    "duration": 98,
    "start_time": "2023-04-26T17:13:33.923Z"
   },
   {
    "duration": 16,
    "start_time": "2023-04-26T17:13:34.023Z"
   },
   {
    "duration": 125,
    "start_time": "2023-04-26T17:13:34.041Z"
   },
   {
    "duration": 17,
    "start_time": "2023-04-26T17:13:34.169Z"
   },
   {
    "duration": 69,
    "start_time": "2023-04-26T17:13:34.188Z"
   },
   {
    "duration": 137,
    "start_time": "2023-04-26T17:13:34.259Z"
   },
   {
    "duration": 10942,
    "start_time": "2023-04-26T17:13:34.399Z"
   },
   {
    "duration": 162,
    "start_time": "2023-04-26T17:13:45.351Z"
   },
   {
    "duration": 20,
    "start_time": "2023-04-26T17:13:45.515Z"
   },
   {
    "duration": 64,
    "start_time": "2023-04-26T17:13:45.542Z"
   },
   {
    "duration": 19,
    "start_time": "2023-04-26T17:13:45.609Z"
   },
   {
    "duration": 77,
    "start_time": "2023-04-26T17:13:45.630Z"
   },
   {
    "duration": 23,
    "start_time": "2023-04-26T17:13:45.712Z"
   },
   {
    "duration": 10,
    "start_time": "2023-04-26T17:13:45.737Z"
   },
   {
    "duration": 8,
    "start_time": "2023-04-26T17:13:45.748Z"
   },
   {
    "duration": 151,
    "start_time": "2023-04-26T17:13:45.759Z"
   },
   {
    "duration": 15,
    "start_time": "2023-04-26T17:13:45.911Z"
   },
   {
    "duration": 1611,
    "start_time": "2023-04-26T17:13:45.928Z"
   },
   {
    "duration": 17,
    "start_time": "2023-04-26T17:13:47.541Z"
   },
   {
    "duration": 111,
    "start_time": "2023-04-26T17:13:47.560Z"
   },
   {
    "duration": 93,
    "start_time": "2023-04-26T17:13:47.673Z"
   },
   {
    "duration": 11,
    "start_time": "2023-04-26T17:13:47.768Z"
   },
   {
    "duration": 149,
    "start_time": "2023-04-26T17:13:47.780Z"
   },
   {
    "duration": 15,
    "start_time": "2023-04-26T17:13:47.932Z"
   },
   {
    "duration": 112,
    "start_time": "2023-04-26T17:13:47.949Z"
   },
   {
    "duration": 1785,
    "start_time": "2023-04-26T17:15:39.259Z"
   },
   {
    "duration": 6,
    "start_time": "2023-04-26T17:15:41.046Z"
   },
   {
    "duration": 72,
    "start_time": "2023-04-26T17:15:41.053Z"
   },
   {
    "duration": 32,
    "start_time": "2023-04-26T17:15:41.127Z"
   },
   {
    "duration": 12,
    "start_time": "2023-04-26T17:15:41.160Z"
   },
   {
    "duration": 45,
    "start_time": "2023-04-26T17:15:41.174Z"
   },
   {
    "duration": 9,
    "start_time": "2023-04-26T17:15:41.225Z"
   },
   {
    "duration": 30,
    "start_time": "2023-04-26T17:15:41.236Z"
   },
   {
    "duration": 5,
    "start_time": "2023-04-26T17:15:41.268Z"
   },
   {
    "duration": 5,
    "start_time": "2023-04-26T17:15:41.276Z"
   },
   {
    "duration": 34,
    "start_time": "2023-04-26T17:15:41.283Z"
   },
   {
    "duration": 29,
    "start_time": "2023-04-26T17:15:41.318Z"
   },
   {
    "duration": 5,
    "start_time": "2023-04-26T17:15:41.348Z"
   },
   {
    "duration": 13,
    "start_time": "2023-04-26T17:15:41.355Z"
   },
   {
    "duration": 9,
    "start_time": "2023-04-26T17:15:41.370Z"
   },
   {
    "duration": 2457,
    "start_time": "2023-04-26T17:15:41.381Z"
   },
   {
    "duration": 3207,
    "start_time": "2023-04-26T17:15:43.840Z"
   },
   {
    "duration": 10,
    "start_time": "2023-04-26T17:15:47.049Z"
   },
   {
    "duration": 39,
    "start_time": "2023-04-26T17:15:47.061Z"
   },
   {
    "duration": 6,
    "start_time": "2023-04-26T17:15:47.104Z"
   },
   {
    "duration": 6,
    "start_time": "2023-04-26T17:15:47.112Z"
   },
   {
    "duration": 12,
    "start_time": "2023-04-26T17:15:47.120Z"
   },
   {
    "duration": 19,
    "start_time": "2023-04-26T17:15:47.134Z"
   },
   {
    "duration": 8,
    "start_time": "2023-04-26T17:15:47.154Z"
   },
   {
    "duration": 7,
    "start_time": "2023-04-26T17:15:47.164Z"
   },
   {
    "duration": 25,
    "start_time": "2023-04-26T17:15:47.173Z"
   },
   {
    "duration": 8,
    "start_time": "2023-04-26T17:15:47.199Z"
   },
   {
    "duration": 29,
    "start_time": "2023-04-26T17:15:47.214Z"
   },
   {
    "duration": 14,
    "start_time": "2023-04-26T17:15:47.245Z"
   },
   {
    "duration": 18,
    "start_time": "2023-04-26T17:15:47.260Z"
   },
   {
    "duration": 38,
    "start_time": "2023-04-26T17:15:47.294Z"
   },
   {
    "duration": 68,
    "start_time": "2023-04-26T17:15:47.334Z"
   },
   {
    "duration": 7,
    "start_time": "2023-04-26T17:15:47.404Z"
   },
   {
    "duration": 17,
    "start_time": "2023-04-26T17:15:47.417Z"
   },
   {
    "duration": 13,
    "start_time": "2023-04-26T17:15:47.435Z"
   },
   {
    "duration": 15,
    "start_time": "2023-04-26T17:15:47.450Z"
   },
   {
    "duration": 2,
    "start_time": "2023-04-26T17:15:47.466Z"
   },
   {
    "duration": 406,
    "start_time": "2023-04-26T17:15:47.470Z"
   },
   {
    "duration": 25,
    "start_time": "2023-04-26T17:15:47.878Z"
   },
   {
    "duration": 111,
    "start_time": "2023-04-26T17:15:47.909Z"
   },
   {
    "duration": 19,
    "start_time": "2023-04-26T17:15:48.026Z"
   },
   {
    "duration": 16,
    "start_time": "2023-04-26T17:15:48.046Z"
   },
   {
    "duration": 81,
    "start_time": "2023-04-26T17:15:48.064Z"
   },
   {
    "duration": 118,
    "start_time": "2023-04-26T17:15:48.147Z"
   },
   {
    "duration": 97,
    "start_time": "2023-04-26T17:15:48.267Z"
   },
   {
    "duration": 4,
    "start_time": "2023-04-26T17:15:48.366Z"
   },
   {
    "duration": 80,
    "start_time": "2023-04-26T17:15:48.371Z"
   },
   {
    "duration": 18,
    "start_time": "2023-04-26T17:15:48.452Z"
   },
   {
    "duration": 173,
    "start_time": "2023-04-26T17:15:48.472Z"
   },
   {
    "duration": 3,
    "start_time": "2023-04-26T17:15:48.647Z"
   },
   {
    "duration": 17,
    "start_time": "2023-04-26T17:15:48.652Z"
   },
   {
    "duration": 84,
    "start_time": "2023-04-26T17:15:48.671Z"
   },
   {
    "duration": 12,
    "start_time": "2023-04-26T17:15:48.756Z"
   },
   {
    "duration": 87,
    "start_time": "2023-04-26T17:15:48.769Z"
   },
   {
    "duration": 10,
    "start_time": "2023-04-26T17:15:48.858Z"
   },
   {
    "duration": 38,
    "start_time": "2023-04-26T17:15:48.870Z"
   },
   {
    "duration": 87,
    "start_time": "2023-04-26T17:15:48.909Z"
   },
   {
    "duration": 10346,
    "start_time": "2023-04-26T17:15:49.005Z"
   },
   {
    "duration": 5361,
    "start_time": "2023-04-26T17:41:42.956Z"
   },
   {
    "duration": 6,
    "start_time": "2023-04-26T17:41:48.320Z"
   },
   {
    "duration": 89,
    "start_time": "2023-04-26T17:41:48.327Z"
   },
   {
    "duration": 49,
    "start_time": "2023-04-26T17:41:48.419Z"
   },
   {
    "duration": 16,
    "start_time": "2023-04-26T17:41:48.471Z"
   },
   {
    "duration": 21,
    "start_time": "2023-04-26T17:41:48.490Z"
   },
   {
    "duration": 40,
    "start_time": "2023-04-26T17:41:48.513Z"
   },
   {
    "duration": 43,
    "start_time": "2023-04-26T17:41:48.556Z"
   },
   {
    "duration": 6,
    "start_time": "2023-04-26T17:41:48.601Z"
   },
   {
    "duration": 14,
    "start_time": "2023-04-26T17:41:48.609Z"
   },
   {
    "duration": 30,
    "start_time": "2023-04-26T17:41:48.625Z"
   },
   {
    "duration": 43,
    "start_time": "2023-04-26T17:41:48.660Z"
   },
   {
    "duration": 7,
    "start_time": "2023-04-26T17:41:48.705Z"
   },
   {
    "duration": 21,
    "start_time": "2023-04-26T17:41:48.716Z"
   },
   {
    "duration": 31,
    "start_time": "2023-04-26T17:41:48.744Z"
   },
   {
    "duration": 2838,
    "start_time": "2023-04-26T17:41:48.777Z"
   },
   {
    "duration": 4050,
    "start_time": "2023-04-26T17:41:51.617Z"
   },
   {
    "duration": 12,
    "start_time": "2023-04-26T17:41:55.668Z"
   },
   {
    "duration": 18,
    "start_time": "2023-04-26T17:41:55.682Z"
   },
   {
    "duration": 4,
    "start_time": "2023-04-26T17:41:55.702Z"
   },
   {
    "duration": 6,
    "start_time": "2023-04-26T17:41:55.708Z"
   },
   {
    "duration": 20,
    "start_time": "2023-04-26T17:41:55.716Z"
   },
   {
    "duration": 57,
    "start_time": "2023-04-26T17:41:55.738Z"
   },
   {
    "duration": 14,
    "start_time": "2023-04-26T17:41:55.797Z"
   },
   {
    "duration": 20,
    "start_time": "2023-04-26T17:41:55.813Z"
   },
   {
    "duration": 17,
    "start_time": "2023-04-26T17:41:55.835Z"
   },
   {
    "duration": 23,
    "start_time": "2023-04-26T17:41:55.861Z"
   },
   {
    "duration": 41,
    "start_time": "2023-04-26T17:41:55.887Z"
   },
   {
    "duration": 25,
    "start_time": "2023-04-26T17:41:55.931Z"
   },
   {
    "duration": 55,
    "start_time": "2023-04-26T17:41:55.958Z"
   },
   {
    "duration": 54,
    "start_time": "2023-04-26T17:41:56.016Z"
   },
   {
    "duration": 101,
    "start_time": "2023-04-26T17:41:56.072Z"
   },
   {
    "duration": 6,
    "start_time": "2023-04-26T17:41:56.175Z"
   },
   {
    "duration": 8,
    "start_time": "2023-04-26T17:41:56.183Z"
   },
   {
    "duration": 21,
    "start_time": "2023-04-26T17:41:56.193Z"
   },
   {
    "duration": 39,
    "start_time": "2023-04-26T17:41:56.216Z"
   },
   {
    "duration": 3,
    "start_time": "2023-04-26T17:41:56.257Z"
   },
   {
    "duration": 1116,
    "start_time": "2023-04-26T17:41:56.262Z"
   },
   {
    "duration": 93,
    "start_time": "2023-04-26T17:41:57.380Z"
   },
   {
    "duration": 189,
    "start_time": "2023-04-26T17:41:57.476Z"
   },
   {
    "duration": 27,
    "start_time": "2023-04-26T17:41:57.672Z"
   },
   {
    "duration": 24,
    "start_time": "2023-04-26T17:41:57.742Z"
   },
   {
    "duration": 83,
    "start_time": "2023-04-26T17:41:57.768Z"
   },
   {
    "duration": 126,
    "start_time": "2023-04-26T17:41:57.856Z"
   },
   {
    "duration": 128,
    "start_time": "2023-04-26T17:41:57.984Z"
   },
   {
    "duration": 4,
    "start_time": "2023-04-26T17:41:58.114Z"
   },
   {
    "duration": 95,
    "start_time": "2023-04-26T17:41:58.120Z"
   },
   {
    "duration": 35,
    "start_time": "2023-04-26T17:41:58.217Z"
   },
   {
    "duration": 231,
    "start_time": "2023-04-26T17:41:58.253Z"
   },
   {
    "duration": 5,
    "start_time": "2023-04-26T17:41:58.486Z"
   },
   {
    "duration": 27,
    "start_time": "2023-04-26T17:41:58.493Z"
   },
   {
    "duration": 106,
    "start_time": "2023-04-26T17:41:58.522Z"
   },
   {
    "duration": 26,
    "start_time": "2023-04-26T17:41:58.631Z"
   },
   {
    "duration": 103,
    "start_time": "2023-04-26T17:41:58.659Z"
   },
   {
    "duration": 15,
    "start_time": "2023-04-26T17:41:58.764Z"
   },
   {
    "duration": 36,
    "start_time": "2023-04-26T17:41:58.782Z"
   },
   {
    "duration": 112,
    "start_time": "2023-04-26T17:41:58.820Z"
   },
   {
    "duration": 12069,
    "start_time": "2023-04-26T17:41:58.942Z"
   },
   {
    "duration": 159,
    "start_time": "2023-04-26T17:42:11.014Z"
   },
   {
    "duration": 98,
    "start_time": "2023-04-26T17:42:11.176Z"
   },
   {
    "duration": 91,
    "start_time": "2023-04-26T17:42:11.276Z"
   },
   {
    "duration": 18,
    "start_time": "2023-04-26T17:42:11.369Z"
   },
   {
    "duration": 112,
    "start_time": "2023-04-26T17:42:11.389Z"
   },
   {
    "duration": 16,
    "start_time": "2023-04-26T17:42:11.503Z"
   },
   {
    "duration": 48,
    "start_time": "2023-04-26T17:42:11.521Z"
   },
   {
    "duration": 26,
    "start_time": "2023-04-26T17:42:11.572Z"
   },
   {
    "duration": 150,
    "start_time": "2023-04-26T17:42:11.600Z"
   },
   {
    "duration": 12,
    "start_time": "2023-04-26T17:42:11.754Z"
   },
   {
    "duration": 1902,
    "start_time": "2023-04-26T17:42:11.768Z"
   },
   {
    "duration": 25,
    "start_time": "2023-04-26T17:42:13.672Z"
   },
   {
    "duration": 179,
    "start_time": "2023-04-26T17:42:13.699Z"
   },
   {
    "duration": 119,
    "start_time": "2023-04-26T17:42:13.881Z"
   },
   {
    "duration": 15,
    "start_time": "2023-04-26T17:42:14.002Z"
   },
   {
    "duration": 155,
    "start_time": "2023-04-26T17:42:14.019Z"
   },
   {
    "duration": 17,
    "start_time": "2023-04-26T17:42:14.176Z"
   },
   {
    "duration": 140,
    "start_time": "2023-04-26T17:42:14.195Z"
   }
  ],
  "kernelspec": {
   "display_name": "Python 3 (ipykernel)",
   "language": "python",
   "name": "python3"
  },
  "language_info": {
   "codemirror_mode": {
    "name": "ipython",
    "version": 3
   },
   "file_extension": ".py",
   "mimetype": "text/x-python",
   "name": "python",
   "nbconvert_exporter": "python",
   "pygments_lexer": "ipython3",
   "version": "3.9.7"
  },
  "toc": {
   "base_numbering": 1,
   "nav_menu": {},
   "number_sections": true,
   "sideBar": true,
   "skip_h1_title": true,
   "title_cell": "Table of Contents",
   "title_sidebar": "Contents",
   "toc_cell": false,
   "toc_position": {
    "height": "calc(100% - 180px)",
    "left": "10px",
    "top": "150px",
    "width": "275px"
   },
   "toc_section_display": true,
   "toc_window_display": true
  }
 },
 "nbformat": 4,
 "nbformat_minor": 2
}
